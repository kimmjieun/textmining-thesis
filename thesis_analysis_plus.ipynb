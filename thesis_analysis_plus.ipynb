{
  "nbformat": 4,
  "nbformat_minor": 0,
  "metadata": {
    "colab": {
      "name": "thesis_analysis_plus.ipynb",
      "provenance": [],
      "collapsed_sections": [
        "K4X83lKFGr3B",
        "3N1u46vtHv7v",
        "T1seVs5YPqey",
        "_ZGL5_1e6JJ6",
        "5dYnVg-zp6hA",
        "oIdqddLTrh-U",
        "GDpuRuetsod5",
        "C-7jl2JWvUVS",
        "inv--meLvrm8",
        "M_Yg0vLFruLr",
        "hVs0_aGA01bM",
        "9e0i_9QU3NeO",
        "S2_rvP0J8MjI",
        "IRm_y7nd8h85",
        "Ai1mkwry8h88",
        "z1K-fw4-8h9F",
        "pNpFXbLO8h9N",
        "JWyuiMpz_DtU"
      ],
      "toc_visible": true
    },
    "kernelspec": {
      "name": "python3",
      "display_name": "Python 3"
    },
    "accelerator": "GPU"
  },
  "cells": [
    {
      "cell_type": "code",
      "metadata": {
        "id": "12XNFdCLpYJf"
      },
      "source": [
        "#설치파일 , 글꼴 돌리고 다시시작 "
      ],
      "execution_count": null,
      "outputs": []
    },
    {
      "cell_type": "markdown",
      "metadata": {
        "id": "K4X83lKFGr3B"
      },
      "source": [
        "# 설치파일\n"
      ]
    },
    {
      "cell_type": "code",
      "metadata": {
        "id": "Q4fwV7BAHSsB"
      },
      "source": [
        "'''\n",
        "!apt-get update\n",
        "\n",
        "!apt-get install g++ openjdk-8-jdk python-dev python3-dev\n",
        "\n",
        "!pip3 install JPype1-py3\n",
        "\n",
        "!pip3 install konlpy\n",
        "\n",
        "!JAVA_HOME=\"/usr/lib/jvm/java-8-openjdk-amd64\"\n",
        "'''"
      ],
      "execution_count": null,
      "outputs": []
    },
    {
      "cell_type": "code",
      "metadata": {
        "id": "h4smFStJHXjE"
      },
      "source": [
        "import pandas as pd \n",
        "import matplotlib.pyplot as plt\n",
        "from collections import Counter\n",
        "from wordcloud import WordCloud \n",
        "import numpy as np\n",
        "\n",
        "\n",
        "import matplotlib.pyplot as plt\n",
        "\n",
        "import nltk\n",
        "from nltk.corpus import stopwords\n",
        "%matplotlib inline\n",
        "import seaborn as sns\n",
        "\n",
        "import warnings\n",
        "warnings.filterwarnings(action = 'ignore')\n"
      ],
      "execution_count": null,
      "outputs": []
    },
    {
      "cell_type": "code",
      "metadata": {
        "id": "J6yltvk0HZUV"
      },
      "source": [
        "'''\n",
        "import jpype\n",
        "print(jpype.isJVMStarted()) #return False:not running or 0:running\n",
        "'''"
      ],
      "execution_count": null,
      "outputs": []
    },
    {
      "cell_type": "code",
      "metadata": {
        "id": "iUF-bpL1HefQ"
      },
      "source": [
        "!pip install customized_konlpy"
      ],
      "execution_count": null,
      "outputs": []
    },
    {
      "cell_type": "code",
      "metadata": {
        "id": "hkG49c0fHgnw"
      },
      "source": [
        "from ckonlpy.tag import Twitter\n",
        "twitter = Twitter()"
      ],
      "execution_count": null,
      "outputs": []
    },
    {
      "cell_type": "code",
      "metadata": {
        "id": "i128LCeQrzjS"
      },
      "source": [
        "from google.colab import drive\n",
        "drive.mount('/content/drive')"
      ],
      "execution_count": null,
      "outputs": []
    },
    {
      "cell_type": "markdown",
      "metadata": {
        "id": "3N1u46vtHv7v"
      },
      "source": [
        "# 글꼴"
      ]
    },
    {
      "cell_type": "code",
      "metadata": {
        "id": "neOBjVw3Hi2Q"
      },
      "source": [
        "%matplotlib inline  \n",
        "import matplotlib as mpl  # 기본 설정 만지는 용도\n",
        "import matplotlib.pyplot as plt  # 그래프 그리는 용도\n",
        "import matplotlib.font_manager as fm  # 폰트 관련 용도"
      ],
      "execution_count": null,
      "outputs": []
    },
    {
      "cell_type": "code",
      "metadata": {
        "id": "anZwy2hvH2Pi"
      },
      "source": [
        "#나눔고딕인스톨\n",
        "!apt-get update -qq\n",
        "!apt-get install fonts-nanum* -qq"
      ],
      "execution_count": null,
      "outputs": []
    },
    {
      "cell_type": "code",
      "metadata": {
        "id": "3ZFAkMmAH3yW"
      },
      "source": [
        "# 체크해보면 폰트 개수가 늘어났다\n",
        "sys_font=fm.findSystemFonts()\n",
        "print(f\"sys_font number: {len(sys_font)}\")\n",
        "\n",
        "nanum_font = [f for f in sys_font if 'Nanum' in f]\n",
        "print(f\"nanum_font number: {len(nanum_font)}\")"
      ],
      "execution_count": null,
      "outputs": []
    },
    {
      "cell_type": "code",
      "metadata": {
        "id": "H-lWQOCYH_PT"
      },
      "source": [
        "# 한번 프린트 해보자\n",
        "nanum_font"
      ],
      "execution_count": null,
      "outputs": []
    },
    {
      "cell_type": "code",
      "metadata": {
        "id": "-FewIEOAIBZA"
      },
      "source": [
        "# 현재 설정되어 있는 폰트 사이즈와 글꼴을 알아보자\n",
        "!python --version\n",
        "def current_font():\n",
        "  print(f\"설정 폰트 글꼴: {plt.rcParams['font.family']}, 설정 폰트 사이즈: {plt.rcParams['font.size']}\")  # 파이썬 3.6 이상 사용가능하다\n",
        "        \n",
        "current_font()"
      ],
      "execution_count": null,
      "outputs": []
    },
    {
      "cell_type": "code",
      "metadata": {
        "id": "WI1q-OXMIFMP"
      },
      "source": [
        "path = '/usr/share/fonts/truetype/nanum/NanumGothic.ttf'  # 설치된 나눔글꼴중 원하는 녀석의 전체 경로를 가져오자\n",
        "font_name = fm.FontProperties(fname=path, size=10).get_name()\n",
        "print(font_name)\n",
        "plt.rc('font', family=font_name)"
      ],
      "execution_count": null,
      "outputs": []
    },
    {
      "cell_type": "code",
      "metadata": {
        "id": "ToUAUhhfIGxz"
      },
      "source": [
        "data = np.random.randint(-200, 100, 50).cumsum()\n",
        "data"
      ],
      "execution_count": null,
      "outputs": []
    },
    {
      "cell_type": "code",
      "metadata": {
        "id": "H0Yui0xZIK7i"
      },
      "source": [
        "# 그래프를 그려보자. 하지만 한글은 깨진다\n",
        "plt.plot(range(50), data, 'r')\n",
        "plt.title('시간별 가격 추이')\n",
        "plt.ylabel('주식 가격')\n",
        "plt.xlabel('시간(분)')\n",
        "plt.style.use('seaborn-pastel')\n",
        "plt.show()"
      ],
      "execution_count": null,
      "outputs": []
    },
    {
      "cell_type": "code",
      "metadata": {
        "id": "BSwqewRuIMT9"
      },
      "source": [
        "fm._rebuild()"
      ],
      "execution_count": null,
      "outputs": []
    },
    {
      "cell_type": "markdown",
      "metadata": {
        "id": "T1seVs5YPqey"
      },
      "source": [
        "# 0) 그룹핑"
      ]
    },
    {
      "cell_type": "code",
      "metadata": {
        "id": "gQx5bOP7INzJ"
      },
      "source": [
        "df = pd.read_excel(\"/content/drive/My Drive/data2_5.xlsx\")\n"
      ],
      "execution_count": null,
      "outputs": []
    },
    {
      "cell_type": "code",
      "metadata": {
        "id": "2OE--z2tnSes"
      },
      "source": [
        "df = df[(df['CARE_OPEN_CLASS_NM']==10)]\n",
        "df"
      ],
      "execution_count": null,
      "outputs": []
    },
    {
      "cell_type": "code",
      "metadata": {
        "id": "LXcSJVuGf0eK"
      },
      "source": [
        "df=df.sort_values(by=['DSJ_JUMIN_NO','DSJ_CARD_NO','CONSULT_DATE'])\n",
        "df"
      ],
      "execution_count": null,
      "outputs": []
    },
    {
      "cell_type": "code",
      "metadata": {
        "id": "4Y6iwIC-3Fhm"
      },
      "source": [
        "df['CONSULT_DATE'] = pd.to_datetime(df['CONSULT_DATE'],format ='%Y%m%d')\n",
        "df"
      ],
      "execution_count": null,
      "outputs": []
    },
    {
      "cell_type": "code",
      "metadata": {
        "id": "k15f___43Inu"
      },
      "source": [
        "jumin = df.iat[0,1] \n",
        "date = df.iat[0,2]\n",
        "\n",
        "print(jumin)\n",
        "print(date)"
      ],
      "execution_count": null,
      "outputs": []
    },
    {
      "cell_type": "code",
      "metadata": {
        "id": "DENP_gSb3L3f"
      },
      "source": [
        "from datetime import datetime, timedelta\n",
        "\n",
        "count = 0\n",
        "group=[]\n",
        "i=0\n",
        "\n",
        "for index, row in df.iterrows():\n",
        "    \n",
        "    if jumin != row[1]:\n",
        "      count=0\n",
        "      i=0\n",
        "      jumin = row[1]\n",
        "      date = row[2]\n",
        "\n",
        "    if ((row[2] - date) >= timedelta(30)):\n",
        "      count+=1\n",
        "      date = row[2]\n",
        "      i+=1\n",
        "\n",
        "    group.append(count)\n",
        "    \n"
      ],
      "execution_count": null,
      "outputs": []
    },
    {
      "cell_type": "code",
      "metadata": {
        "id": "Ft2CYknG3OGQ"
      },
      "source": [
        "df['GROUP'] = group\n",
        "df"
      ],
      "execution_count": null,
      "outputs": []
    },
    {
      "cell_type": "code",
      "metadata": {
        "id": "0BCrwKHc4vn_"
      },
      "source": [
        "df.to_excel(\"data2_5_group.xlsx\")"
      ],
      "execution_count": null,
      "outputs": []
    },
    {
      "cell_type": "markdown",
      "metadata": {
        "id": "_ZGL5_1e6JJ6"
      },
      "source": [
        "#1) 전처리"
      ]
    },
    {
      "cell_type": "code",
      "metadata": {
        "id": "pJ1VBldW6Nca"
      },
      "source": [
        "df = pd.read_excel(\"/content/drive/My Drive/data2_5_group.xlsx\")\n",
        "\n",
        "df = df[(df['CARE_OPEN_CLASS_NM']==10)]\n",
        "df"
      ],
      "execution_count": null,
      "outputs": []
    },
    {
      "cell_type": "code",
      "metadata": {
        "id": "DLfx1HKg72A6"
      },
      "source": [
        "twitter.add_dictionary(['허그집단프로그램','담당직원','사회복귀','당직자', '숙식보호', '직업훈련', '적극적', '보호관찰', '프로그램 종료', '지원이유', '지금', '특별한사항', '이행사항', '용접기술교육원', '취업알선', '특수용접기능사', '유의사항', '취업박람회', '허그일자리프로그램', '건강관리', '긴급원호', '상기 인', '야간반', '여성기술교육원', '용접배관', '주거지원자', '가족관계', '허그일자리지원프로그램', '고용보험', '상기자', '영농기술교육원', '안전사고', '안정적', '준수사항', '보호종료', '취업지원 프로그램', '구직활동', '대형면허', '건축도장기능사', '건강문제', '친구들', '거주지', '집단상담', '시설관리직', '필기합격', '긍정적', '주거지원', '출결관리', '가족부양', '참여자', '허그 일자리 프로그램', '전기기술교육원', '이행상황', '자기관리', '기술교육원', '기초수급자', '정산금', '특이사항', '애로사항', '용접기능사', '사후관리', '보호관찰법', '기계가공기술교육원', '지원기회', '보호사업', '보호관찰소', '생활 준칙', '위문물품', '법무보호가족교육원', '실기합격', '주거지', '지출관리', '외출 요청', '예치금', '생활관 준칙', '합동결혼식', '용접기능훈련', '미납금', '상기 대상자', '사회성향상 프로그램', '규칙적', '가족희망센터', '몸관리', '상기인', '보호관찰소장', '안전관리', '경제적', '입주자', '취업성공패키지', '보호위원', '허그일자리 프로그램', '허그일자리사업', '집단프로그램', '기초수급', '장기간', '허그 일자리 집단프로그램', '보호종료자', '자동차정비기술교육원', '허그일자리', '식구들', '변동사항', '생활관준칙', '용접훈련', '자립이행상황통보서'], 'Noun')"
      ],
      "execution_count": null,
      "outputs": []
    },
    {
      "cell_type": "code",
      "metadata": {
        "id": "Kec0a13l8Mmn"
      },
      "source": [
        "from ckonlpy.tag import Postprocessor\n",
        "\n",
        "\n",
        "\n",
        "stopwords= [ #날짜 계정 등 시기를 나타내는 토큰\n",
        "        '개월','금일', '기간','겨울','년도', '날짜','금월','까지', '날씨', '어제', '이번','최근', '추후','하루', '한번', '항상','현재','시일','조기','그동안',\n",
        "        '다음주','평소','차후','지난','요즘','아침','오전','오후','예전','한해','전일','여름','시기', '가끔','사이','최종','명일','향후',\n",
        "\n",
        "        #지역 위치나타내는 토큰\n",
        "        '경기도','김해','서울','울산','천안','당부',\n",
        "        \n",
        "        #관련없는 토큰\n",
        "        '결과', '경우', '계속', '계획', '공단', '과정', '관련', '관리','근황','기관','본인','다른', '다소', '다시', '다음', '담당', '담당자','실시','상기',\n",
        "        '대상자','멘토링','문자', '발생', '방문', '보고','상기인', '상담', '상태', '상황', '생활', '생활관', '소하', '스스로', '시간',\n",
        "        '아직', '여건', '예정', '외박', '외출', '요청','이야기', '이행','이후', '입소', '자신', '작성','정리', '정적', '제공', '제출', '조치', '종료',\n",
        "        '주거지원', '준비','지도','지원', '직원', '진행', '참여', '처리','통보','퇴소','확인', '활동','변경','가능','일부','심사','결정','강조',\n",
        "        '보호종료','개시','동일','파악','재차','사용','주기','연결','마무리', '사실','기재','얼마','의사','사료','참여자','기타','단계','완료', '귀하','혼자','당장',\n",
        "        '해당','인계','각종', '번호','취지','참고','보도','약간','대신','진단','물음','회의','양해','완전','부분','만료','상기 대상자','상기자','패키지','가장',\n",
        "\n",
        "        #쓸모없는 토큰\n",
        "        '가지','고자', '고함','구들', '금은','기반', '기하','동안', '되어', '드림', '때문', '또한', '려고', '로부터','다해' ,'대하', '대한', '대해', '더욱', '도로',\n",
        "        '만원', '만큼' , '면서', '모습', '문하', '바로',  '보이', '보임','부분계획', '부터', '부하', '사항', '않아', '양곡','어서','위해', '유의면서','이행상',\n",
        "        '인의', '인하','있는', '있다고', '있도록', '있어', '있으며', '있음', '자로','전하', '전함','정도','중이', '중임', '지소', '통해','특이', '하겠다고', '하고',\n",
        "        '하고자', '하기', '하는', '하도록','하며', '하면서', '하여', '하였으며', '하였음', '하자', '하지','해주','통한','다가','처럼','하라','주지','무하','더라도','요하',\n",
        "        '여부','중인','달라', '물어','어가','상의','고하','라하','대로','어보','지고','이하','한지','각하','영하','알리','여러','바란','아무','이제','서도','당하','여서',\n",
        "        '립하','보기','로서','도래','지원이','남지','가기','지원기','조리','간다','만하','주어','시킴', '리지','아지','고용보', '족하','어도','성하','교하','일이','기해',\n",
        "        '일해','해하','달이','결하','조성하','제하','장일','도중','소가','심해','일어','일도','을시','도록','시운전', '이루',\n",
        "        \n",
        "        # #청소년 관련 단어 \n",
        "        \"최선\", \"면담\", \"특이사항\", \"이행상황\", \"사업\", \"전달\", \"사무실\",\n",
        "        \"설명\", \"관계\", \"특별\", \"안전사고\", \"가정\", \"마음\", \"철저\", \"아보\", \"명절\",\"사하\", \"원호\", \"환경\", \n",
        "\n",
        "        \n",
        "        ]\n",
        "        \n",
        "replace = {'주소지':'거주기','주거지':'거주지', '행동':'태도', '애로':'특이', '주의':'유의', '상황':'상태',\n",
        "           '열심':'성실', '관리':'조치',  '애로':'필요', '직장':'업무', '회사':'일자리', '지부':'공단',\n",
        "           '근로':'근무', '근속':'근무',\n",
        "           '불편':'문제', '어려움':'문제', \n",
        "           '지지':'독려', '격려':'독려',\n",
        "           '의지':'노력',\n",
        "           '지금':'현재', '오늘':'현재',\n",
        "           '전화':'연락', '통화':'연락','유선':'연락',\n",
        "           '체납':'연체', '미납':'연체'\n",
        "           ,'안정적':'안정'\n",
        "           }\n",
        "\n",
        "postprocessor = Postprocessor(twitter, replace = replace, passtags = 'Noun', stopwords = stopwords)"
      ],
      "execution_count": null,
      "outputs": []
    },
    {
      "cell_type": "code",
      "metadata": {
        "id": "SMMM9H908P-d"
      },
      "source": [
        "\n",
        "def twtt(dfname):  # 단어별빈도수\n",
        "  lists = np.array(dfname['CONSULT_CONT'].tolist())\n",
        "\n",
        "  morphs = [] \n",
        "  for sentence in lists: \n",
        "    morphs.append(postprocessor.pos(sentence)) \n",
        "\n",
        "  noun=[] \n",
        "\n",
        "  for sentence in morphs : \n",
        "    for word, tag in sentence : \n",
        "      if tag in ['Noun'] and len(word)>1:\n",
        "          noun.append(word) # 단어를 추가 하는 것 \n",
        "  count = Counter(noun)\n",
        "  words = dict(count.most_common(100)) \n",
        "\n",
        "  return words\n",
        "\n",
        "\n",
        "# 문장마다 나오는 명사를 뽑아야함 \n",
        "\n",
        "def twtt_network(dfname):\n",
        "  dataset=[]\n",
        "  lists = np.array(dfname['CONSULT_CONT'].tolist()) \n",
        "\n",
        "  morphs = [] \n",
        "  for sentence in lists: \n",
        "    morphs.append(postprocessor.pos(sentence))  #전처리된 문장   \n",
        "  dataset=[]\n",
        "\n",
        "  for sentence in morphs:\n",
        "    newlist = [word for word,tag in sentence  if tag in ['Noun'] and len(word)>1]\n",
        "\n",
        "    dataset.append(newlist)\n",
        "\n",
        "  return dataset\n",
        " \n",
        "\n",
        "\n"
      ],
      "execution_count": null,
      "outputs": []
    },
    {
      "cell_type": "markdown",
      "metadata": {
        "id": "5dYnVg-zp6hA"
      },
      "source": [
        "# 초범, 재범 1회 , 재범 2회 , 재범 3회 이상- X\n",
        "\n",
        "#####초범 JAEBUM_1 = 0\n",
        "(JAEBUM=0은 상담카드 1번 발급할 시점 재범 한사람도있고 없는사람도 있다)\n",
        "#####재범1회 JAEBUM = 1 \n",
        "#####재범2회 JAEBUM = 2\n",
        "#####재범3회 JAEBUM >= 3"
      ]
    },
    {
      "cell_type": "code",
      "metadata": {
        "id": "zSV7TLYyqAh5"
      },
      "source": [
        "a = df['JAEBUM_1']\n",
        "pro = pd.value_counts(a)\n",
        "\n",
        "pro = pd.DataFrame(pro)\n",
        "pro"
      ],
      "execution_count": null,
      "outputs": []
    },
    {
      "cell_type": "code",
      "metadata": {
        "id": "yfWho15yqMTh"
      },
      "source": [
        "a = df['JAEBUM']\n",
        "pro = pd.value_counts(a)\n",
        "\n",
        "pro = pd.DataFrame(pro)\n",
        "pro"
      ],
      "execution_count": null,
      "outputs": []
    },
    {
      "cell_type": "code",
      "metadata": {
        "id": "aBporhBaqOr5"
      },
      "source": [
        "df0 = df[df['JAEBUM_1']==0]\n",
        "df1 = df[(df['JAEBUM']==1)]\n",
        "df2 = df[(df['JAEBUM']==2)]\n",
        "df3 = df[(df['JAEBUM']>=3)]"
      ],
      "execution_count": null,
      "outputs": []
    },
    {
      "cell_type": "code",
      "metadata": {
        "id": "t_yczfI6rDGz"
      },
      "source": [
        "\n",
        "twitter = Twitter() \n",
        "twitter.add_dictionary(['허그집단프로그램','담당직원','사회복귀','당직자', '숙식보호', '직업훈련', '적극적', '보호관찰', '프로그램 종료', '지원이유', '지금', '특별한사항', '이행사항', '용접기술교육원', '취업알선', '특수용접기능사', '유의사항', '취업박람회', '허그일자리프로그램', '건강관리', '긴급원호', '상기 인', '야간반', '여성기술교육원', '용접배관', '주거지원자', '가족관계', '허그일자리지원프로그램', '고용보험', '상기자', '영농기술교육원', '안전사고', '안정적', '준수사항', '보호종료', '취업지원 프로그램', '구직활동', '대형면허', '건축도장기능사', '건강문제', '친구들', '거주지', '집단상담', '시설관리직', '필기합격', '긍정적', '주거지원', '출결관리', '가족부양', '참여자', '허그 일자리 프로그램', '전기기술교육원', '이행상황', '자기관리', '기술교육원', '기초수급자', '정산금', '특이사항', '애로사항', '용접기능사', '사후관리', '보호관찰법', '기계가공기술교육원', '지원기회', '보호사업', '보호관찰소', '생활 준칙', '위문물품', '법무보호가족교육원', '실기합격', '주거지', '지출관리', '외출 요청', '예치금', '생활관 준칙', '합동결혼식', '용접기능훈련', '미납금', '상기 대상자', '사회성향상 프로그램', '규칙적', '가족희망센터', '몸관리', '상기인', '보호관찰소장', '안전관리', '경제적', '입주자', '취업성공패키지', '보호위원', '허그일자리 프로그램', '허그일자리사업', '집단프로그램', '기초수급', '장기간', '허그 일자리 집단프로그램', '보호종료자', '자동차정비기술교육원', '허그일자리', '식구들', '변동사항', '생활관준칙', '용접훈련', '자립이행상황통보서'], 'Noun')"
      ],
      "execution_count": null,
      "outputs": []
    },
    {
      "cell_type": "code",
      "metadata": {
        "id": "Wc9V_oLkrXxy"
      },
      "source": [
        "from ckonlpy.tag import Postprocessor\n",
        "\n",
        "'''\n",
        "stopwords= ['도록', '만원','개월','금일', '기간','겨울','년도', '날짜','금월','까지', '날씨', '어제', '이번','지금','최근', '추후','하루', '한번', '항상','현재','시일','오늘','조기','그동안','다음주',\n",
        "        '평소','차후','지난','요즘','아침','오전','오후','예전','한해','전일','여름','시기', '가끔','사이','최종','명일',\n",
        "        #지역 위치나타내는 단어\n",
        "        '경기도','김해','서울','울산','천안',\n",
        "        #필요없어보이는 단어\n",
        "          '격려', '결과', '경우', '계속', '계획', '공단', '과정', '관련', '관리','근황','기관','보호', '본인','다른', '다소', '다시', '다음', '담당', '담당자', '당부',\n",
        "        '대상자', '독려',  '마련','멘토링','문자', '문제', '발생', '방문', '보고','상기인', '상담', '상태', '상황', '생활', '생활관', '소하', '숙식', '스스로', '시간', '실시',\n",
        "        '아직', '여건', '연락', '예정', '외박', '외출', '요청','유의','이야기', '이행','이후', '입소', '자신', '작성','전화','정리', '정적', '제공', '제출', '조치', '종료', '주거', \n",
        "        '주거지', '주거지원', '준비','지도','지원', '지지', '직원', '진행', '참여', '처리','통보','퇴소','확인', '활동','변경','가능','일부','심사','결정','전환','강조', '패키지',\n",
        "        '보호종료','개시','동일','파악','재차','사용','주기','연결','마무리', '사실','기재','얼마','의사','사료','변동','참여자','기타','단계','완료', '귀하','혼자','당장','가장',\n",
        "         '해당','해지','인계','각종', '번호','취지','참고','보도','약간','대신','진단','물음','회의','양해','완전','유선','부분','만료',\n",
        "        #걸러야하는 단어\n",
        "        '가지','고자', '고함','구들', '금은','기반', '기하','동안', '되어', '드림', '때문', '또한', '려고', '로부터','다해' ,'대하', '대한', '대해', '더욱', '도로', '도록'\n",
        "        '만원', '만큼' , '면서', '모습', '문하', '바로',  '보이', '보임','부분계획', '부터', '부하', '사항', '상기', '않아', '양곡','어서','위해', '유의면서','이행상',\n",
        "        '인의', '인하','있는', '있다고', '있도록', '있어', '있으며', '있음', '자로','전하', '전함','정도','중이', '중임', '지부', '지소', '통해','특이', '하겠다고', '하고',\n",
        "        '하고자', '하기', '하는', '하도록','하며', '하면서', '하여', '하였으며', '하였음', '하자', '하지','해주','통한','다가','처럼','하라','주지','무하','더라도','요하',\n",
        "        '여부','중인','달라', '물어','어가','상의','고하','라하','대로','어보','지고','이하','한지','각하','영하','알리','여러','바란','아무','이제','서도','당하','여서',\n",
        "        '립하','보기','로서','도래','지원이','남지','가기','지원기','조리','간다','만하','주어','시킴', '리지','아지','고용보', '족하','어도','성하','교하','일이','기해','시운전',\n",
        "        '일해','해하','달이','결하','조성하','제하','장일','도중','소가','심해','일어','일도','을시',\n",
        "        \n",
        "        '자립','성실','노력','열심','희망']\n",
        "\n",
        "\n",
        "replace = {'거주지': '주거지', \"행동\":\"태도\", \"통화\":\"전화\", \"연락\":\"통화\", \"애로\":\"특이\",\"주의\":\"유의\", \"상황\":\"상태\",\"열심\":\"성실\", \"불편\":\"어려움\", \"관리\":\"조치\", '근로':'근무', '근속':'근무', '주의':'유의', '지지':'독려', '격려':'독려', '열심':'노력', '애로':'필요', '어려움':'문제', '하라':'독려', '유선':'연락', '전화':'연락', '의지':'노력', '지부':'공단', '지금':'현재', '회사':'일자리', '오늘':'현재'}\n",
        "\n",
        "'''\n",
        "\n",
        "stopwords= [ #날짜 계정 등 시기를 나타내는 토큰\n",
        "        '개월','금일', '기간','겨울','년도', '날짜','금월','까지', '날씨', '어제', '이번','최근', '추후','하루', '한번', '항상','현재','시일','조기','그동안',\n",
        "        '다음주','평소','차후','지난','요즘','아침','오전','오후','예전','한해','전일','여름','시기', '가끔','사이','최종','명일','향후',\n",
        "\n",
        "        #지역 위치나타내는 토큰\n",
        "        '경기도','김해','서울','울산','천안','당부',\n",
        "        \n",
        "        #관련없는 토큰\n",
        "        '결과', '경우', '계속', '계획', '공단', '과정', '관련', '관리','근황','기관','본인','다른', '다소', '다시', '다음', '담당', '담당자','실시','상기',\n",
        "        '대상자','멘토링','문자', '발생', '방문', '보고','상기인', '상담', '상태', '상황', '생활', '생활관', '소하', '스스로', '시간',\n",
        "        '아직', '여건', '예정', '외박', '외출', '요청','이야기', '이행','이후', '입소', '자신', '작성','정리', '정적', '제공', '제출', '조치', '종료',\n",
        "        '주거지원', '준비','지도','지원', '직원', '진행', '참여', '처리','통보','퇴소','확인', '활동','변경','가능','일부','심사','결정','강조',\n",
        "        '보호종료','개시','동일','파악','재차','사용','주기','연결','마무리', '사실','기재','얼마','의사','사료','참여자','기타','단계','완료', '귀하','혼자','당장',\n",
        "        '해당','인계','각종', '번호','취지','참고','보도','약간','대신','진단','물음','회의','양해','완전','부분','만료','상기 대상자','상기자','패키지','가장',\n",
        "\n",
        "        #쓸모없는 토큰\n",
        "        '가지','고자', '고함','구들', '금은','기반', '기하','동안', '되어', '드림', '때문', '또한', '려고', '로부터','다해' ,'대하', '대한', '대해', '더욱', '도로',\n",
        "        '만원', '만큼' , '면서', '모습', '문하', '바로',  '보이', '보임','부분계획', '부터', '부하', '사항', '않아', '양곡','어서','위해', '유의면서','이행상',\n",
        "        '인의', '인하','있는', '있다고', '있도록', '있어', '있으며', '있음', '자로','전하', '전함','정도','중이', '중임', '지소', '통해','특이', '하겠다고', '하고',\n",
        "        '하고자', '하기', '하는', '하도록','하며', '하면서', '하여', '하였으며', '하였음', '하자', '하지','해주','통한','다가','처럼','하라','주지','무하','더라도','요하',\n",
        "        '여부','중인','달라', '물어','어가','상의','고하','라하','대로','어보','지고','이하','한지','각하','영하','알리','여러','바란','아무','이제','서도','당하','여서',\n",
        "        '립하','보기','로서','도래','지원이','남지','가기','지원기','조리','간다','만하','주어','시킴', '리지','아지','고용보', '족하','어도','성하','교하','일이','기해',\n",
        "        '일해','해하','달이','결하','조성하','제하','장일','도중','소가','심해','일어','일도','을시','도록','시운전', '이루',\n",
        "        \n",
        "        # #청소년 관련 단어 \n",
        "        \"최선\", \"면담\", \"특이사항\", \"이행상황\", \"사업\", \"전달\", \"사무실\",\n",
        "        \"설명\", \"관계\", \"특별\", \"안전사고\", \"가정\", \"마음\", \"철저\", \"아보\", \"명절\",\"사하\", \"원호\",\n",
        "        \"환경\"]\n",
        "replace = {'주소지':'거주기','주거지':'거주지', '행동':'태도', '애로':'특이', '주의':'유의', '상황':'상태', '열심':'성실', '관리':'조치',  '애로':'필요', '직장':'업무', '회사':'일자리', '지부':'공단',\n",
        "           '근로':'근무', '근속':'근무',\n",
        "           '불편':'문제', '어려움':'문제', \n",
        "           '지지':'독려', '격려':'독려','하라':'독려',\n",
        "           '열심':'노력', '의지':'노력', '자립':'노력',\n",
        "           '지금':'현재', '오늘':'현재',\n",
        "           '전화':'연락', '통화':'연락','유선':'연락',\n",
        "           '체납':'연체', '미납':'연체'\n",
        "           ,'안정적':'안정'\n",
        "           }\n",
        "\n",
        "postprocessor = Postprocessor(twitter, replace = replace, passtags = 'Noun', stopwords = stopwords)"
      ],
      "execution_count": null,
      "outputs": []
    },
    {
      "cell_type": "code",
      "metadata": {
        "id": "6rglZtHbrb1A"
      },
      "source": [
        "\n",
        "def twtt(dfname):  \n",
        "  lists = np.array(dfname['CONSULT_CONT'].tolist())\n",
        "\n",
        "  morphs = [] \n",
        "  for sentence in lists: \n",
        "    morphs.append(postprocessor.pos(sentence)) \n",
        "\n",
        "  noun=[] \n",
        "\n",
        "  for sentence in morphs : \n",
        "    for word, tag in sentence : \n",
        "      if tag in ['Noun'] and len(word)>1:\n",
        "          noun.append(word)\n",
        "  count = Counter(noun)\n",
        "  words = dict(count.most_common(100)) \n",
        "  return words\n"
      ],
      "execution_count": null,
      "outputs": []
    },
    {
      "cell_type": "markdown",
      "metadata": {
        "id": "oIdqddLTrh-U"
      },
      "source": [
        "## df0"
      ]
    },
    {
      "cell_type": "code",
      "metadata": {
        "id": "mpCKNRu4rh-V"
      },
      "source": [
        "words0=twtt(df0)"
      ],
      "execution_count": null,
      "outputs": []
    },
    {
      "cell_type": "code",
      "metadata": {
        "id": "4KI_wOYfrh-Y"
      },
      "source": [
        "word_list0 = sorted(words0.items(), key=lambda x: x[1], reverse=True) # 내림차순\n",
        "word_list0 "
      ],
      "execution_count": null,
      "outputs": []
    },
    {
      "cell_type": "code",
      "metadata": {
        "id": "VSgfYjFbrh-c"
      },
      "source": [
        ""
      ],
      "execution_count": null,
      "outputs": []
    },
    {
      "cell_type": "code",
      "metadata": {
        "id": "0iI-4kcBrh-e"
      },
      "source": [
        "plt.rc('font',size=15)\n",
        "fontprop = fm.FontProperties(fname= '/usr/share/fonts/truetype/nanum/NanumBarunGothic.ttf', size=20)\n",
        "fig = plt.figure(figsize=(10,15))\n",
        "fig.patch.set_facecolor('white')\n",
        "max = 100\n",
        "sns_plot=sns.barplot([i[1] for i in word_list0[:max]],\n",
        "            [i[0] for i in word_list0[:max]])\n",
        "\n",
        "\n",
        "sns_plot.set_title(\"Frequency 100\")\n",
        "sns_plot.set_ylabel(\"단어\")\n",
        "sns_plot.set_xlabel(\"빈도\")\n",
        "fig = sns_plot.get_figure()\n",
        "fig.savefig('숙식_초범_빈도.png')"
      ],
      "execution_count": null,
      "outputs": []
    },
    {
      "cell_type": "code",
      "metadata": {
        "id": "8yPunAUurh-i"
      },
      "source": [
        "wordcloud = WordCloud(font_path = '/usr/share/fonts/truetype/nanum/NanumGothic.ttf' ,background_color='white',width=1500, height=1000).generate_from_frequencies(dict(word_list0)) \n",
        "plt.imshow(wordcloud) \n",
        "plt.axis('off')\n",
        "plt.show()\n",
        "wordcloud.to_file('숙식_초범_wordcloud.png')"
      ],
      "execution_count": null,
      "outputs": []
    },
    {
      "cell_type": "markdown",
      "metadata": {
        "id": "GDpuRuetsod5"
      },
      "source": [
        "## df1"
      ]
    },
    {
      "cell_type": "code",
      "metadata": {
        "id": "M2BmSy0isod6"
      },
      "source": [
        "words1=twtt(df1)"
      ],
      "execution_count": null,
      "outputs": []
    },
    {
      "cell_type": "code",
      "metadata": {
        "id": "YaassR4psod8"
      },
      "source": [
        "word_list1 = sorted(words1.items(), key=lambda x: x[1], reverse=True)\n",
        "word_list1"
      ],
      "execution_count": null,
      "outputs": []
    },
    {
      "cell_type": "code",
      "metadata": {
        "id": "y4w9zu_TsoeA"
      },
      "source": [
        ""
      ],
      "execution_count": null,
      "outputs": []
    },
    {
      "cell_type": "code",
      "metadata": {
        "id": "75V8mOy_soeB"
      },
      "source": [
        "plt.rc('font',size=15)\n",
        "fontprop = fm.FontProperties(fname= '/usr/share/fonts/truetype/nanum/NanumBarunGothic.ttf', size=20)\n",
        "fig = plt.figure(figsize=(10,15))\n",
        "fig.patch.set_facecolor('white')\n",
        "max = 100\n",
        "sns_plot=sns.barplot([i[1] for i in word_list1[:max]],\n",
        "            [i[0] for i in word_list1[:max]])\n",
        "sns_plot.set_title(\"Frequency Top 100\")\n",
        "sns_plot.set_ylabel(\"단어\")\n",
        "sns_plot.set_xlabel(\"빈도\")\n",
        "fig = sns_plot.get_figure()\n",
        "fig.savefig('숙식_재범1회_빈도.png')"
      ],
      "execution_count": null,
      "outputs": []
    },
    {
      "cell_type": "code",
      "metadata": {
        "id": "5SqEzKNCsoeD"
      },
      "source": [
        "\n",
        "wordcloud = WordCloud(font_path = '/usr/share/fonts/truetype/nanum/NanumGothic.ttf' ,background_color='white',width=1500, height=1000).generate_from_frequencies(dict(word_list1)) \n",
        "plt.imshow(wordcloud) \n",
        "plt.axis('off') \n",
        "plt.show()\n",
        "wordcloud.to_file('숙식_재범1번_wordcloud.png')"
      ],
      "execution_count": null,
      "outputs": []
    },
    {
      "cell_type": "code",
      "metadata": {
        "id": "-l6TbYEqvTSX"
      },
      "source": [
        ""
      ],
      "execution_count": null,
      "outputs": []
    },
    {
      "cell_type": "markdown",
      "metadata": {
        "id": "C-7jl2JWvUVS"
      },
      "source": [
        "## df2"
      ]
    },
    {
      "cell_type": "code",
      "metadata": {
        "id": "Aqm2ey4PvUVT"
      },
      "source": [
        "words2=twtt(df2)"
      ],
      "execution_count": null,
      "outputs": []
    },
    {
      "cell_type": "code",
      "metadata": {
        "id": "rKeq09J2vUVU"
      },
      "source": [
        "word_list2 = sorted(words2.items(), key=lambda x: x[1], reverse=True)\n",
        "word_list2"
      ],
      "execution_count": null,
      "outputs": []
    },
    {
      "cell_type": "code",
      "metadata": {
        "id": "479TAWl9vUVX"
      },
      "source": [
        ""
      ],
      "execution_count": null,
      "outputs": []
    },
    {
      "cell_type": "code",
      "metadata": {
        "id": "IMov7KhFvUVZ"
      },
      "source": [
        "plt.rc('font',size=15)\n",
        "fontprop = fm.FontProperties(fname= '/usr/share/fonts/truetype/nanum/NanumBarunGothic.ttf', size=20)\n",
        "fig = plt.figure(figsize=(10,15))\n",
        "fig.patch.set_facecolor('white')\n",
        "max = 100\n",
        "sns_plot=sns.barplot([i[1] for i in word_list2[:max]],\n",
        "            [i[0] for i in word_list2[:max]])\n",
        "sns_plot.set_title(\"Frequency Top 100\")\n",
        "sns_plot.set_ylabel(\"단어\")\n",
        "sns_plot.set_xlabel(\"빈도\")\n",
        "fig = sns_plot.get_figure()\n",
        "fig.savefig('숙식_재범2회_빈도.png')"
      ],
      "execution_count": null,
      "outputs": []
    },
    {
      "cell_type": "code",
      "metadata": {
        "id": "E_KOe436vUVa"
      },
      "source": [
        "\n",
        "wordcloud = WordCloud(font_path = '/usr/share/fonts/truetype/nanum/NanumGothic.ttf' ,background_color='white',width=1500, height=1000).generate_from_frequencies(dict(word_list2)) \n",
        "plt.imshow(wordcloud) \n",
        "plt.axis('off') \n",
        "plt.show()\n",
        "wordcloud.to_file('숙식_재범2번_wordcloud.png')"
      ],
      "execution_count": null,
      "outputs": []
    },
    {
      "cell_type": "code",
      "metadata": {
        "id": "IbyNs9SCvq1g"
      },
      "source": [
        ""
      ],
      "execution_count": null,
      "outputs": []
    },
    {
      "cell_type": "markdown",
      "metadata": {
        "id": "inv--meLvrm8"
      },
      "source": [
        "## df3"
      ]
    },
    {
      "cell_type": "code",
      "metadata": {
        "id": "v7QkR67TvTi9"
      },
      "source": [
        "words3=twtt(df3)"
      ],
      "execution_count": null,
      "outputs": []
    },
    {
      "cell_type": "code",
      "metadata": {
        "id": "oEM2G0yIvTi_"
      },
      "source": [
        "word_list3 = sorted(words1.items(), key=lambda x: x[1], reverse=True)\n",
        "word_list3"
      ],
      "execution_count": null,
      "outputs": []
    },
    {
      "cell_type": "code",
      "metadata": {
        "id": "NB1WpPxyvTjD"
      },
      "source": [
        "plt.rc('font',size=15)\n",
        "fontprop = fm.FontProperties(fname= '/usr/share/fonts/truetype/nanum/NanumBarunGothic.ttf', size=20)\n",
        "fig = plt.figure(figsize=(10,15))\n",
        "fig.patch.set_facecolor('white')\n",
        "max = 100\n",
        "sns_plot=sns.barplot([i[1] for i in word_list3[:max]],\n",
        "            [i[0] for i in word_list3[:max]])\n",
        "#sns_plot =sns.barplot([i[1] for i in newBlist],[i[0] for i in newBlist])\n",
        "sns_plot.set_title(\"Frequency Top 100\")\n",
        "sns_plot.set_ylabel(\"단어\")\n",
        "sns_plot.set_xlabel(\"빈도\")\n",
        "fig = sns_plot.get_figure()\n",
        "fig.savefig('숙식_재범3회이상_빈도.png')"
      ],
      "execution_count": null,
      "outputs": []
    },
    {
      "cell_type": "code",
      "metadata": {
        "id": "EBRV47NOvTjF"
      },
      "source": [
        "\n",
        "wordcloud = WordCloud(font_path = '/usr/share/fonts/truetype/nanum/NanumGothic.ttf' ,background_color='white',width=1500, height=1000).generate_from_frequencies(dict(word_list3)) \n",
        "plt.imshow(wordcloud) \n",
        "plt.axis('off') \n",
        "plt.show()\n",
        "wordcloud.to_file('숙식_재범3번이상_wordcloud.png')"
      ],
      "execution_count": null,
      "outputs": []
    },
    {
      "cell_type": "markdown",
      "metadata": {
        "id": "M_Yg0vLFruLr"
      },
      "source": [
        "##히트맵"
      ]
    },
    {
      "cell_type": "code",
      "metadata": {
        "id": "3gyf8pJCruL0"
      },
      "source": [
        "\n",
        "df = pd.DataFrame([words0, words1, words2,words3]).T\n",
        "df.columns = ['초범', '재범1번', '재범2번','재범3번이상']\n",
        "\n",
        "df = df.apply(lambda x : x / np.sum(x))\n",
        "df = df.apply(lambda x : (x-np.min(x)) / (np.max(x)-np.min(x))) #Heatmap에 상대적인 빈도수 출력하고싶을때\n",
        "\n",
        "plt.rc('font',size=16)\n",
        "figure = plt.figure(figsize=(8,10))\n",
        "ax = plt.axes()\n",
        "heat=sns.heatmap(df.sort_values(df.columns[0], ascending=False).iloc[:15], annot=True, fmt = '.3f', linewidths=0.3, cmap = 'Blues', ax = ax)\n",
        "plt.show()\n",
        "figure.savefig('숙식 히트맵.png', format='png',dpi=1200)\n"
      ],
      "execution_count": null,
      "outputs": []
    },
    {
      "cell_type": "markdown",
      "metadata": {
        "id": "Fyh8RgZc01at"
      },
      "source": [
        "# 초범, 재범 1회 , 재범 2회 이상 x\n",
        "\n",
        "#####초범 JAEBUM_1 = 0\n",
        "(JAEBUM=0은 상담카드 1번 발급할 시점 재범 한사람도있고 없는사람도 있다)\n",
        "#####재범1회 JAEBUM = 1 \n",
        "#####재범2회 JAEBUM = 2"
      ]
    },
    {
      "cell_type": "code",
      "metadata": {
        "id": "ymvIEAhs01au"
      },
      "source": [
        "a = df['JAEBUM_1']\n",
        "pro = pd.value_counts(a)\n",
        "\n",
        "pro = pd.DataFrame(pro)\n",
        "pro"
      ],
      "execution_count": null,
      "outputs": []
    },
    {
      "cell_type": "code",
      "metadata": {
        "id": "EJSsSWXK01ay"
      },
      "source": [
        "a = df['JAEBUM']\n",
        "pro = pd.value_counts(a)\n",
        "\n",
        "pro = pd.DataFrame(pro)\n",
        "pro"
      ],
      "execution_count": null,
      "outputs": []
    },
    {
      "cell_type": "code",
      "metadata": {
        "id": "oJtoevkv01az"
      },
      "source": [
        "df0 = df[df['JAEBUM_1']==0]\n",
        "df1 = df[(df['JAEBUM']==1)]\n",
        "df2 = df[(df['JAEBUM']>=2)]\n"
      ],
      "execution_count": null,
      "outputs": []
    },
    {
      "cell_type": "code",
      "metadata": {
        "id": "Rn0VZqvh01a1"
      },
      "source": [
        "\n",
        "twitter = Twitter() \n",
        "twitter.add_dictionary(['허그집단프로그램','담당직원','사회복귀','당직자', '숙식보호', '직업훈련', '적극적', '보호관찰', '프로그램 종료', '지원이유', '지금', '특별한사항', '이행사항', '용접기술교육원', '취업알선', '특수용접기능사', '유의사항', '취업박람회', '허그일자리프로그램', '건강관리', '긴급원호', '상기 인', '야간반', '여성기술교육원', '용접배관', '주거지원자', '가족관계', '허그일자리지원프로그램', '고용보험', '상기자', '영농기술교육원', '안전사고', '안정적', '준수사항', '보호종료', '취업지원 프로그램', '구직활동', '대형면허', '건축도장기능사', '건강문제', '친구들', '거주지', '집단상담', '시설관리직', '필기합격', '긍정적', '주거지원', '출결관리', '가족부양', '참여자', '허그 일자리 프로그램', '전기기술교육원', '이행상황', '자기관리', '기술교육원', '기초수급자', '정산금', '특이사항', '애로사항', '용접기능사', '사후관리', '보호관찰법', '기계가공기술교육원', '지원기회', '보호사업', '보호관찰소', '생활 준칙', '위문물품', '법무보호가족교육원', '실기합격', '주거지', '지출관리', '외출 요청', '예치금', '생활관 준칙', '합동결혼식', '용접기능훈련', '미납금', '상기 대상자', '사회성향상 프로그램', '규칙적', '가족희망센터', '몸관리', '상기인', '보호관찰소장', '안전관리', '경제적', '입주자', '취업성공패키지', '보호위원', '허그일자리 프로그램', '허그일자리사업', '집단프로그램', '기초수급', '장기간', '허그 일자리 집단프로그램', '보호종료자', '자동차정비기술교육원', '허그일자리', '식구들', '변동사항', '생활관준칙', '용접훈련', '자립이행상황통보서'], 'Noun')"
      ],
      "execution_count": null,
      "outputs": []
    },
    {
      "cell_type": "code",
      "metadata": {
        "id": "4KQhqvXd01a3"
      },
      "source": [
        "from ckonlpy.tag import Postprocessor\n",
        "\n",
        "\n",
        "\n",
        "stopwords= [ #날짜 계정 등 시기를 나타내는 토큰\n",
        "        '개월','금일', '기간','겨울','년도', '날짜','금월','까지', '날씨', '어제', '이번','최근', '추후','하루', '한번', '항상','현재','시일','조기','그동안',\n",
        "        '다음주','평소','차후','지난','요즘','아침','오전','오후','예전','한해','전일','여름','시기', '가끔','사이','최종','명일','향후',\n",
        "\n",
        "        #지역 위치나타내는 토큰\n",
        "        '경기도','김해','서울','울산','천안','당부',\n",
        "        \n",
        "        #관련없는 토큰\n",
        "        '결과', '경우', '계속', '계획', '공단', '과정', '관련', '관리','근황','기관','본인','다른', '다소', '다시', '다음', '담당', '담당자','실시','상기',\n",
        "        '대상자','멘토링','문자', '발생', '방문', '보고','상기인', '상담', '상태', '상황', '생활', '생활관', '소하', '스스로', '시간',\n",
        "        '아직', '여건', '예정', '외박', '외출', '요청','이야기', '이행','이후', '입소', '자신', '작성','정리', '정적', '제공', '제출', '조치', '종료',\n",
        "        '주거지원', '준비','지도','지원', '직원', '진행', '참여', '처리','통보','퇴소','확인', '활동','변경','가능','일부','심사','결정','강조',\n",
        "        '보호종료','개시','동일','파악','재차','사용','주기','연결','마무리', '사실','기재','얼마','의사','사료','참여자','기타','단계','완료', '귀하','혼자','당장',\n",
        "        '해당','인계','각종', '번호','취지','참고','보도','약간','대신','진단','물음','회의','양해','완전','부분','만료','상기 대상자','상기자','패키지','가장',\n",
        "\n",
        "        #쓸모없는 토큰\n",
        "        '가지','고자', '고함','구들', '금은','기반', '기하','동안', '되어', '드림', '때문', '또한', '려고', '로부터','다해' ,'대하', '대한', '대해', '더욱', '도로',\n",
        "        '만원', '만큼' , '면서', '모습', '문하', '바로',  '보이', '보임','부분계획', '부터', '부하', '사항', '않아', '양곡','어서','위해', '유의면서','이행상',\n",
        "        '인의', '인하','있는', '있다고', '있도록', '있어', '있으며', '있음', '자로','전하', '전함','정도','중이', '중임', '지소', '통해','특이', '하겠다고', '하고',\n",
        "        '하고자', '하기', '하는', '하도록','하며', '하면서', '하여', '하였으며', '하였음', '하자', '하지','해주','통한','다가','처럼','하라','주지','무하','더라도','요하',\n",
        "        '여부','중인','달라', '물어','어가','상의','고하','라하','대로','어보','지고','이하','한지','각하','영하','알리','여러','바란','아무','이제','서도','당하','여서',\n",
        "        '립하','보기','로서','도래','지원이','남지','가기','지원기','조리','간다','만하','주어','시킴', '리지','아지','고용보', '족하','어도','성하','교하','일이','기해',\n",
        "        '일해','해하','달이','결하','조성하','제하','장일','도중','소가','심해','일어','일도','을시','도록','시운전', '이루',\n",
        "        \n",
        "        # #청소년 관련 단어 \n",
        "        \"최선\", \"면담\", \"특이사항\", \"이행상황\", \"사업\", \"전달\", \"사무실\",\n",
        "        \"설명\", \"관계\", \"특별\", \"안전사고\", \"가정\", \"마음\", \"철저\", \"아보\", \"명절\",\"사하\", \"원호\",\n",
        "        \"환경\"]\n",
        "replace = {'주소지':'거주기','주거지':'거주지', '행동':'태도', '애로':'특이', '주의':'유의', '상황':'상태', '열심':'성실', '관리':'조치',  '애로':'필요', '직장':'업무', '회사':'일자리', '지부':'공단',\n",
        "           '근로':'근무', '근속':'근무',\n",
        "           '불편':'문제', '어려움':'문제', \n",
        "           '지지':'독려', '격려':'독려','하라':'독려',\n",
        "           '열심':'노력', '의지':'노력', '자립':'노력',\n",
        "           '지금':'현재', '오늘':'현재',\n",
        "           '전화':'연락', '통화':'연락','유선':'연락',\n",
        "           '체납':'연체', '미납':'연체'\n",
        "           ,'안정적':'안정'\n",
        "           }\n",
        "\n",
        "postprocessor = Postprocessor(twitter, replace = replace, passtags = 'Noun', stopwords = stopwords)"
      ],
      "execution_count": null,
      "outputs": []
    },
    {
      "cell_type": "code",
      "metadata": {
        "id": "F_LSIIu901a4"
      },
      "source": [
        "\n",
        "def twtt(dfname):  \n",
        "  lists = np.array(dfname['CONSULT_CONT'].tolist())\n",
        "\n",
        "  morphs = [] \n",
        "  for sentence in lists: \n",
        "    morphs.append(postprocessor.pos(sentence)) \n",
        "\n",
        "  noun=[] \n",
        "\n",
        "  for sentence in morphs : \n",
        "    for word, tag in sentence : \n",
        "      if tag in ['Noun'] and len(word)>1:\n",
        "          noun.append(word)\n",
        "  count = Counter(noun)\n",
        "  words = dict(count.most_common(100)) \n",
        "  return words\n"
      ],
      "execution_count": null,
      "outputs": []
    },
    {
      "cell_type": "markdown",
      "metadata": {
        "id": "pQJfMkjR01a6"
      },
      "source": [
        "## df0"
      ]
    },
    {
      "cell_type": "code",
      "metadata": {
        "id": "8CqfNABu01a6"
      },
      "source": [
        "words0=twtt(df0)"
      ],
      "execution_count": null,
      "outputs": []
    },
    {
      "cell_type": "code",
      "metadata": {
        "id": "SdKAJ0Ec01a8"
      },
      "source": [
        "word_list0 = sorted(words0.items(), key=lambda x: x[1], reverse=True) # 내림차순\n",
        "word_list0 "
      ],
      "execution_count": null,
      "outputs": []
    },
    {
      "cell_type": "code",
      "metadata": {
        "id": "wr1xQZ8-01a_"
      },
      "source": [
        "plt.rc('font',size=15)\n",
        "fontprop = fm.FontProperties(fname= '/usr/share/fonts/truetype/nanum/NanumBarunGothic.ttf', size=20)\n",
        "fig = plt.figure(figsize=(10,15))\n",
        "fig.patch.set_facecolor('white')\n",
        "max = 100\n",
        "sns_plot=sns.barplot([i[1] for i in word_list0[:max]],\n",
        "            [i[0] for i in word_list0[:max]])\n",
        "\n",
        "\n",
        "sns_plot.set_title(\"Frequency 100\")\n",
        "sns_plot.set_ylabel(\"단어\")\n",
        "sns_plot.set_xlabel(\"빈도\")\n",
        "fig = sns_plot.get_figure()\n",
        "fig.savefig('숙식_초범_빈도.png')"
      ],
      "execution_count": null,
      "outputs": []
    },
    {
      "cell_type": "code",
      "metadata": {
        "id": "esYKW0IB01bB"
      },
      "source": [
        "wordcloud = WordCloud(font_path = '/usr/share/fonts/truetype/nanum/NanumGothic.ttf' ,background_color='white',width=1500, height=1000).generate_from_frequencies(dict(word_list0)) \n",
        "plt.imshow(wordcloud) \n",
        "plt.axis('off')\n",
        "plt.show()\n",
        "wordcloud.to_file('숙식_초범_wordcloud.png')"
      ],
      "execution_count": null,
      "outputs": []
    },
    {
      "cell_type": "markdown",
      "metadata": {
        "id": "Fa7OrrJu01bD"
      },
      "source": [
        "## df1"
      ]
    },
    {
      "cell_type": "code",
      "metadata": {
        "id": "hSCTxrdY01bD"
      },
      "source": [
        "words1=twtt(df1)"
      ],
      "execution_count": null,
      "outputs": []
    },
    {
      "cell_type": "code",
      "metadata": {
        "id": "60B7LCHd01bE"
      },
      "source": [
        "word_list1 = sorted(words1.items(), key=lambda x: x[1], reverse=True)\n",
        "word_list1"
      ],
      "execution_count": null,
      "outputs": []
    },
    {
      "cell_type": "code",
      "metadata": {
        "id": "ToQnqhsF01bH"
      },
      "source": [
        "plt.rc('font',size=15)\n",
        "fontprop = fm.FontProperties(fname= '/usr/share/fonts/truetype/nanum/NanumBarunGothic.ttf', size=20)\n",
        "fig = plt.figure(figsize=(10,15))\n",
        "fig.patch.set_facecolor('white')\n",
        "max = 100\n",
        "sns_plot=sns.barplot([i[1] for i in word_list1[:max]],\n",
        "            [i[0] for i in word_list1[:max]])\n",
        "sns_plot.set_title(\"Frequency Top 100\")\n",
        "sns_plot.set_ylabel(\"단어\")\n",
        "sns_plot.set_xlabel(\"빈도\")\n",
        "fig = sns_plot.get_figure()\n",
        "fig.savefig('숙식_재범1회_빈도.png')"
      ],
      "execution_count": null,
      "outputs": []
    },
    {
      "cell_type": "code",
      "metadata": {
        "id": "cicb11oI01bJ"
      },
      "source": [
        "\n",
        "wordcloud = WordCloud(font_path = '/usr/share/fonts/truetype/nanum/NanumGothic.ttf' ,background_color='white',width=1500, height=1000).generate_from_frequencies(dict(word_list1)) \n",
        "plt.imshow(wordcloud) \n",
        "plt.axis('off') \n",
        "plt.show()\n",
        "wordcloud.to_file('숙식_재범1번_wordcloud.png')"
      ],
      "execution_count": null,
      "outputs": []
    },
    {
      "cell_type": "markdown",
      "metadata": {
        "id": "hVs0_aGA01bM"
      },
      "source": [
        "## df2"
      ]
    },
    {
      "cell_type": "code",
      "metadata": {
        "id": "BAV2EUeK01bM"
      },
      "source": [
        "words2=twtt(df2)"
      ],
      "execution_count": null,
      "outputs": []
    },
    {
      "cell_type": "code",
      "metadata": {
        "id": "aWrAMh8Q01bN"
      },
      "source": [
        "word_list2 = sorted(words2.items(), key=lambda x: x[1], reverse=True)\n",
        "word_list2"
      ],
      "execution_count": null,
      "outputs": []
    },
    {
      "cell_type": "code",
      "metadata": {
        "id": "pkvcEuqv01bR"
      },
      "source": [
        "plt.rc('font',size=15)\n",
        "fontprop = fm.FontProperties(fname= '/usr/share/fonts/truetype/nanum/NanumBarunGothic.ttf', size=20)\n",
        "fig = plt.figure(figsize=(10,15))\n",
        "fig.patch.set_facecolor('white')\n",
        "max = 100\n",
        "sns_plot=sns.barplot([i[1] for i in word_list2[:max]],\n",
        "            [i[0] for i in word_list2[:max]])\n",
        "sns_plot.set_title(\"Frequency Top 100\")\n",
        "sns_plot.set_ylabel(\"단어\")\n",
        "sns_plot.set_xlabel(\"빈도\")\n",
        "fig = sns_plot.get_figure()\n",
        "fig.savefig('숙식_재범2회_빈도.png')"
      ],
      "execution_count": null,
      "outputs": []
    },
    {
      "cell_type": "code",
      "metadata": {
        "id": "oRZ2hCdy01bS"
      },
      "source": [
        "\n",
        "wordcloud = WordCloud(font_path = '/usr/share/fonts/truetype/nanum/NanumGothic.ttf' ,background_color='white',width=1500, height=1000).generate_from_frequencies(dict(word_list2)) \n",
        "plt.imshow(wordcloud) \n",
        "plt.axis('off') \n",
        "plt.show()\n",
        "wordcloud.to_file('숙식_재범2번_wordcloud.png')"
      ],
      "execution_count": null,
      "outputs": []
    },
    {
      "cell_type": "code",
      "metadata": {
        "id": "GNHlezQK01bU"
      },
      "source": [
        ""
      ],
      "execution_count": null,
      "outputs": []
    },
    {
      "cell_type": "markdown",
      "metadata": {
        "id": "zW9-37VE01bf"
      },
      "source": [
        "##히트맵"
      ]
    },
    {
      "cell_type": "code",
      "metadata": {
        "id": "Ixigxrb701bl"
      },
      "source": [
        "\n",
        "df = pd.DataFrame([words0, words1, words2]).T\n",
        "df.columns = ['초범', '재범1번', '재범2번이상']\n",
        "\n",
        "df = df.apply(lambda x : x / np.sum(x))\n",
        "df = df.apply(lambda x : (x-np.min(x)) / (np.max(x)-np.min(x))) #Heatmap에 상대적인 빈도수 출력하고싶을때\n",
        "\n",
        "plt.rc('font',size=16)\n",
        "figure = plt.figure(figsize=(8,10))\n",
        "ax = plt.axes()\n",
        "heat=sns.heatmap(df.sort_values(df.columns[0], ascending=False).iloc[:15], annot=True, fmt = '.3f', linewidths=0.3, cmap = 'Blues', ax = ax)\n",
        "plt.show()\n",
        "figure.savefig('숙식 히트맵.png', format='png',dpi=1200)\n"
      ],
      "execution_count": null,
      "outputs": []
    },
    {
      "cell_type": "markdown",
      "metadata": {
        "id": "jSm7QXlUzAwL"
      },
      "source": [
        "# 범수집단에 따른 연령별 분석\n",
        "\n"
      ]
    },
    {
      "cell_type": "code",
      "metadata": {
        "id": "1qkHajbZE9hD"
      },
      "source": [
        "df0 = df[df['JAEBUM_1']==0]\n",
        "df1 = df[(df['JAEBUM']==1)]\n",
        "df2 = df[(df['JAEBUM']==2)]\n",
        "df3 = df[(df['JAEBUM']>=3)]"
      ],
      "execution_count": null,
      "outputs": []
    },
    {
      "cell_type": "code",
      "metadata": {
        "id": "U1Lt5mopE9hG"
      },
      "source": [
        "\n",
        "twitter = Twitter() \n",
        "twitter.add_dictionary(['허그집단프로그램','담당직원','사회복귀','당직자', '숙식보호', '직업훈련', '적극적', '보호관찰', '프로그램 종료', '지원이유', '지금', '특별한사항', '이행사항', '용접기술교육원', '취업알선', '특수용접기능사', '유의사항', '취업박람회', '허그일자리프로그램', '건강관리', '긴급원호', '상기 인', '야간반', '여성기술교육원', '용접배관', '주거지원자', '가족관계', '허그일자리지원프로그램', '고용보험', '상기자', '영농기술교육원', '안전사고', '안정적', '준수사항', '보호종료', '취업지원 프로그램', '구직활동', '대형면허', '건축도장기능사', '건강문제', '친구들', '거주지', '집단상담', '시설관리직', '필기합격', '긍정적', '주거지원', '출결관리', '가족부양', '참여자', '허그 일자리 프로그램', '전기기술교육원', '이행상황', '자기관리', '기술교육원', '기초수급자', '정산금', '특이사항', '애로사항', '용접기능사', '사후관리', '보호관찰법', '기계가공기술교육원', '지원기회', '보호사업', '보호관찰소', '생활 준칙', '위문물품', '법무보호가족교육원', '실기합격', '주거지', '지출관리', '외출 요청', '예치금', '생활관 준칙', '합동결혼식', '용접기능훈련', '미납금', '상기 대상자', '사회성향상 프로그램', '규칙적', '가족희망센터', '몸관리', '상기인', '보호관찰소장', '안전관리', '경제적', '입주자', '취업성공패키지', '보호위원', '허그일자리 프로그램', '허그일자리사업', '집단프로그램', '기초수급', '장기간', '허그 일자리 집단프로그램', '보호종료자', '자동차정비기술교육원', '허그일자리', '식구들', '변동사항', '생활관준칙', '용접훈련', '자립이행상황통보서'], 'Noun')"
      ],
      "execution_count": null,
      "outputs": []
    },
    {
      "cell_type": "code",
      "metadata": {
        "id": "gyEV1UgnE9hI"
      },
      "source": [
        "from ckonlpy.tag import Postprocessor\n",
        "\n",
        "\n",
        "stopwords= [ #날짜 계정 등 시기를 나타내는 토큰\n",
        "        '개월','금일', '기간','겨울','년도', '날짜','금월','까지', '날씨', '어제', '이번','최근', '추후','하루', '한번', '항상','현재','시일','조기','그동안',\n",
        "        '다음주','평소','차후','지난','요즘','아침','오전','오후','예전','한해','전일','여름','시기', '가끔','사이','최종','명일','향후',\n",
        "\n",
        "        #지역 위치나타내는 토큰\n",
        "        '경기도','김해','서울','울산','천안','당부',\n",
        "        \n",
        "        #관련없는 토큰\n",
        "        '결과', '경우', '계속', '계획', '공단', '과정', '관련', '관리','근황','기관','본인','다른', '다소', '다시', '다음', '담당', '담당자','실시','상기',\n",
        "        '대상자','멘토링','문자', '발생', '방문', '보고','상기인', '상담', '상태', '상황', '생활', '생활관', '소하', '스스로', '시간',\n",
        "        '아직', '여건', '예정', '외박', '외출', '요청','이야기', '이행','이후', '입소', '자신', '작성','정리', '정적', '제공', '제출', '조치', '종료',\n",
        "        '주거지원', '준비','지도','지원', '직원', '진행', '참여', '처리','통보','퇴소','확인', '활동','변경','가능','일부','심사','결정','강조',\n",
        "        '보호종료','개시','동일','파악','재차','사용','주기','연결','마무리', '사실','기재','얼마','의사','사료','참여자','기타','단계','완료', '귀하','혼자','당장',\n",
        "        '해당','인계','각종', '번호','취지','참고','보도','약간','대신','진단','물음','회의','양해','완전','부분','만료','상기 대상자','상기자','패키지','가장',\n",
        "\n",
        "        #쓸모없는 토큰\n",
        "        '가지','고자', '고함','구들', '금은','기반', '기하','동안', '되어', '드림', '때문', '또한', '려고', '로부터','다해' ,'대하', '대한', '대해', '더욱', '도로',\n",
        "        '만원', '만큼' , '면서', '모습', '문하', '바로',  '보이', '보임','부분계획', '부터', '부하', '사항', '않아', '양곡','어서','위해', '유의면서','이행상',\n",
        "        '인의', '인하','있는', '있다고', '있도록', '있어', '있으며', '있음', '자로','전하', '전함','정도','중이', '중임', '지소', '통해','특이', '하겠다고', '하고',\n",
        "        '하고자', '하기', '하는', '하도록','하며', '하면서', '하여', '하였으며', '하였음', '하자', '하지','해주','통한','다가','처럼','하라','주지','무하','더라도','요하',\n",
        "        '여부','중인','달라', '물어','어가','상의','고하','라하','대로','어보','지고','이하','한지','각하','영하','알리','여러','바란','아무','이제','서도','당하','여서',\n",
        "        '립하','보기','로서','도래','지원이','남지','가기','지원기','조리','간다','만하','주어','시킴', '리지','아지','고용보', '족하','어도','성하','교하','일이','기해',\n",
        "        '일해','해하','달이','결하','조성하','제하','장일','도중','소가','심해','일어','일도','을시','도록','시운전', '이루',\n",
        "        \n",
        "        # #청소년 관련 단어 \n",
        "        \"최선\", \"면담\", \"특이사항\", \"이행상황\", \"사업\", \"전달\", \"사무실\",\n",
        "        \"설명\", \"관계\", \"특별\", \"안전사고\", \"가정\", \"마음\", \"철저\", \"아보\", \"명절\",\"사하\", \"원호\",\n",
        "        \"환경\"]\n",
        "replace = {'주소지':'거주기','주거지':'거주지', '행동':'태도', '애로':'특이', '주의':'유의', '상황':'상태', '열심':'성실', '관리':'조치',  '애로':'필요', '직장':'업무', '회사':'일자리', '지부':'공단',\n",
        "           '근로':'근무', '근속':'근무',\n",
        "           '불편':'문제', '어려움':'문제', \n",
        "           '지지':'독려', '격려':'독려','하라':'독려',\n",
        "           '열심':'노력', '의지':'노력', '자립':'노력',\n",
        "           '지금':'현재', '오늘':'현재',\n",
        "           '전화':'연락', '통화':'연락','유선':'연락',\n",
        "           '체납':'연체', '미납':'연체'\n",
        "           ,'안정적':'안정'\n",
        "           }\n",
        "\n",
        "postprocessor = Postprocessor(twitter, replace = replace, passtags = 'Noun', stopwords = stopwords)"
      ],
      "execution_count": null,
      "outputs": []
    },
    {
      "cell_type": "code",
      "metadata": {
        "id": "uXyGnkIRE9hK"
      },
      "source": [
        "\n",
        "def twtt(dfname):  \n",
        "  lists = np.array(dfname['CONSULT_CONT'].tolist())\n",
        "\n",
        "  morphs = [] \n",
        "  for sentence in lists: \n",
        "    morphs.append(postprocessor.pos(sentence)) \n",
        "\n",
        "  noun=[] \n",
        "\n",
        "  for sentence in morphs : \n",
        "    for word, tag in sentence : \n",
        "      if tag in ['Noun'] and len(word)>1:\n",
        "          noun.append(word)\n",
        "  count = Counter(noun)\n",
        "  words = dict(count.most_common(100)) \n",
        "  return words\n"
      ],
      "execution_count": null,
      "outputs": []
    },
    {
      "cell_type": "markdown",
      "metadata": {
        "id": "QsRht2y82aY9"
      },
      "source": [
        "## 초범일때 연령별 비교 "
      ]
    },
    {
      "cell_type": "code",
      "metadata": {
        "id": "dTgcHNA6BZfI"
      },
      "source": [
        "df0"
      ],
      "execution_count": null,
      "outputs": []
    },
    {
      "cell_type": "code",
      "metadata": {
        "id": "wJI-d3ld2Fky"
      },
      "source": [
        "df0_20 = df0[df0['연령']==20]\n",
        "df0_30 = df0[df0['연령']==30]\n",
        "df0_40 = df0[df0['연령']==40]\n",
        "df0_50 = df0[df0['연령']==50]\n",
        "df0_60 = df0[df0['연령']==60]\n",
        "df0_70 = df0[df0['연령']==70]\n",
        "\n",
        "df0_2030 = df0_20.append(df0_30)\n",
        "df0_4050 = df0_40.append(df0_50)\n",
        "df0_6070 = df0_60.append(df0_70)\n",
        "\n",
        "\n",
        "\n",
        "df0_2030"
      ],
      "execution_count": null,
      "outputs": []
    },
    {
      "cell_type": "markdown",
      "metadata": {
        "id": "9e0i_9QU3NeO"
      },
      "source": [
        "### 2030대"
      ]
    },
    {
      "cell_type": "code",
      "metadata": {
        "id": "hgDdVmqY2zfn"
      },
      "source": [
        "words0_2030=twtt(df0_2030)"
      ],
      "execution_count": null,
      "outputs": []
    },
    {
      "cell_type": "code",
      "metadata": {
        "id": "PspVWS2_2zfp"
      },
      "source": [
        "word_list0_2030 = sorted(words0_2030.items(), key=lambda x: x[1], reverse=True) # 내림차순\n",
        "word_list0_2030"
      ],
      "execution_count": null,
      "outputs": []
    },
    {
      "cell_type": "code",
      "metadata": {
        "id": "fCmDKv292zft"
      },
      "source": [
        "plt.rc('font',size=15)\n",
        "fontprop = fm.FontProperties(fname= '/usr/share/fonts/truetype/nanum/NanumBarunGothic.ttf', size=20)\n",
        "fig = plt.figure(figsize=(10,30))\n",
        "fig.patch.set_facecolor('white')\n",
        "max = 100\n",
        "sns_plot=sns.barplot([i[1] for i in word_list0_2030[:max]],\n",
        "            [i[0] for i in word_list0_2030[:max]])\n",
        "\n",
        "\n",
        "sns_plot.set_title(\"Frequency 100\")\n",
        "sns_plot.set_ylabel(\"단어\")\n",
        "sns_plot.set_xlabel(\"빈도\")\n",
        "fig = sns_plot.get_figure()\n",
        "fig.savefig('숙식_초범_2030대_빈도.png')"
      ],
      "execution_count": null,
      "outputs": []
    },
    {
      "cell_type": "code",
      "metadata": {
        "id": "mJvvpfsW2zfv"
      },
      "source": [
        "wordcloud = WordCloud(font_path = '/usr/share/fonts/truetype/nanum/NanumGothic.ttf' ,background_color='white',width=1500, height=1000).generate_from_frequencies(dict(word_list0_2030)) \n",
        "plt.imshow(wordcloud) \n",
        "plt.axis('off')\n",
        "plt.show()\n",
        "wordcloud.to_file('숙식_초범_2030대_wordcloud.png')"
      ],
      "execution_count": null,
      "outputs": []
    },
    {
      "cell_type": "code",
      "metadata": {
        "id": "QZA8WCL23SC7"
      },
      "source": [
        ""
      ],
      "execution_count": null,
      "outputs": []
    },
    {
      "cell_type": "markdown",
      "metadata": {
        "id": "uRTS_hkQ7o1n"
      },
      "source": [
        "### 4050대"
      ]
    },
    {
      "cell_type": "code",
      "metadata": {
        "id": "KOQTJ2YI7o1o"
      },
      "source": [
        "words0_4050=twtt(df0_4050)"
      ],
      "execution_count": null,
      "outputs": []
    },
    {
      "cell_type": "code",
      "metadata": {
        "id": "M9f8XTT97o1q"
      },
      "source": [
        "word_list0_4050 = sorted(words0_4050.items(), key=lambda x: x[1], reverse=True) # 내림차순\n",
        "word_list0_4050"
      ],
      "execution_count": null,
      "outputs": []
    },
    {
      "cell_type": "code",
      "metadata": {
        "id": "WCvQHW567o1t"
      },
      "source": [
        "plt.rc('font',size=15)\n",
        "fontprop = fm.FontProperties(fname= '/usr/share/fonts/truetype/nanum/NanumBarunGothic.ttf', size=20)\n",
        "fig = plt.figure(figsize=(10,30))\n",
        "fig.patch.set_facecolor('white')\n",
        "max = 100\n",
        "sns_plot=sns.barplot([i[1] for i in word_list0_4050[:max]],\n",
        "            [i[0] for i in word_list0_4050[:max]])\n",
        "\n",
        "\n",
        "sns_plot.set_title(\"Frequency 100\")\n",
        "sns_plot.set_ylabel(\"단어\")\n",
        "sns_plot.set_xlabel(\"빈도\")\n",
        "fig = sns_plot.get_figure()\n",
        "fig.savefig('숙식_초범_4050대_빈도.png')"
      ],
      "execution_count": null,
      "outputs": []
    },
    {
      "cell_type": "code",
      "metadata": {
        "id": "n3K81wMr7o1v"
      },
      "source": [
        "wordcloud = WordCloud(font_path = '/usr/share/fonts/truetype/nanum/NanumGothic.ttf' ,background_color='white',width=1500, height=1000).generate_from_frequencies(dict(word_list0_4050)) \n",
        "plt.imshow(wordcloud) \n",
        "plt.axis('off')\n",
        "plt.show()\n",
        "wordcloud.to_file('숙식_초범_4050대_wordcloud.png')"
      ],
      "execution_count": null,
      "outputs": []
    },
    {
      "cell_type": "markdown",
      "metadata": {
        "id": "S2_rvP0J8MjI"
      },
      "source": [
        "### 6070대"
      ]
    },
    {
      "cell_type": "code",
      "metadata": {
        "id": "wx3oIjd58MjJ"
      },
      "source": [
        "words0_6070=twtt(df0_6070)"
      ],
      "execution_count": null,
      "outputs": []
    },
    {
      "cell_type": "code",
      "metadata": {
        "id": "Wrpd1zYJ8MjM"
      },
      "source": [
        "word_list0_6070 = sorted(words0_6070.items(), key=lambda x: x[1], reverse=True) # 내림차순\n",
        "word_list0_6070"
      ],
      "execution_count": null,
      "outputs": []
    },
    {
      "cell_type": "code",
      "metadata": {
        "id": "19Ev2_Fx8MjO"
      },
      "source": [
        "plt.rc('font',size=15)\n",
        "fontprop = fm.FontProperties(fname= '/usr/share/fonts/truetype/nanum/NanumBarunGothic.ttf', size=20)\n",
        "fig = plt.figure(figsize=(10,30))\n",
        "fig.patch.set_facecolor('white')\n",
        "max = 100\n",
        "sns_plot=sns.barplot([i[1] for i in word_list0_6070[:max]],\n",
        "            [i[0] for i in word_list0_6070[:max]])\n",
        "\n",
        "\n",
        "sns_plot.set_title(\"Frequency 100\")\n",
        "sns_plot.set_ylabel(\"단어\")\n",
        "sns_plot.set_xlabel(\"빈도\")\n",
        "fig = sns_plot.get_figure()\n",
        "fig.savefig('숙식_초범_6070대_빈도.png')"
      ],
      "execution_count": null,
      "outputs": []
    },
    {
      "cell_type": "code",
      "metadata": {
        "id": "kgUQMaTg8MjQ"
      },
      "source": [
        "wordcloud = WordCloud(font_path = '/usr/share/fonts/truetype/nanum/NanumGothic.ttf' ,background_color='white',width=1500, height=1000).generate_from_frequencies(dict(word_list0_6070)) \n",
        "plt.imshow(wordcloud) \n",
        "plt.axis('off')\n",
        "plt.show()\n",
        "wordcloud.to_file('숙식_초범_6070대_wordcloud.png')"
      ],
      "execution_count": null,
      "outputs": []
    },
    {
      "cell_type": "markdown",
      "metadata": {
        "id": "sypeR3Gg-j30"
      },
      "source": [
        "### 히트맵"
      ]
    },
    {
      "cell_type": "code",
      "metadata": {
        "id": "P_DuLK2d-mk4"
      },
      "source": [
        "\n",
        "df = pd.DataFrame([words0_2030, words0_4050, words0_6070]).T\n",
        "df.columns = ['2030대', '4050대', '6070대']\n",
        "\n",
        "df = df.apply(lambda x : x / np.sum(x))\n",
        "df = df.apply(lambda x : (x-np.min(x)) / (np.max(x)-np.min(x))) #Heatmap에 상대적인 빈도수 출력하고싶을때\n",
        "\n",
        "plt.rc('font',size=16)\n",
        "figure = plt.figure(figsize=(8,10))\n",
        "ax = plt.axes()\n",
        "heat=sns.heatmap(df.sort_values(df.columns[0], ascending=False).iloc[:15], annot=True, fmt = '.3f', linewidths=0.3, cmap = 'Blues', ax = ax)\n",
        "plt.show()\n",
        "figure.savefig('초범일때 연령별 비교 히트맵.png', format='png',dpi=1200)\n"
      ],
      "execution_count": null,
      "outputs": []
    },
    {
      "cell_type": "markdown",
      "metadata": {
        "id": "IRm_y7nd8h85"
      },
      "source": [
        "## 재범1회일때 연령별 비교 "
      ]
    },
    {
      "cell_type": "code",
      "metadata": {
        "id": "k9BoG3zM8h86"
      },
      "source": [
        "\n",
        "\n",
        "df1_20 = df1[df1['연령']==20]\n",
        "df1_30 = df1[df1['연령']==30]\n",
        "df1_40 = df1[df1['연령']==40]\n",
        "df1_50 = df1[df1['연령']==50]\n",
        "df1_60 = df1[df1['연령']==60]\n",
        "df1_70 = df1[df1['연령']==70]\n",
        "\n",
        "df1_2030 = df1_20.append(df1_30)\n",
        "df1_4050 = df1_40.append(df1_50)\n",
        "df1_6070 = df1_60.append(df1_70)\n",
        "\n",
        "\n",
        "\n",
        "df0_2030"
      ],
      "execution_count": null,
      "outputs": []
    },
    {
      "cell_type": "markdown",
      "metadata": {
        "id": "Ai1mkwry8h88"
      },
      "source": [
        "### 2030대"
      ]
    },
    {
      "cell_type": "code",
      "metadata": {
        "id": "_WGPJVsO8h88"
      },
      "source": [
        "words1_2030=twtt(df1_2030)"
      ],
      "execution_count": null,
      "outputs": []
    },
    {
      "cell_type": "code",
      "metadata": {
        "id": "RtdC4du68h8-"
      },
      "source": [
        "word_list1_2030 = sorted(words1_2030.items(), key=lambda x: x[1], reverse=True) # 내림차순\n",
        "word_list1_2030"
      ],
      "execution_count": null,
      "outputs": []
    },
    {
      "cell_type": "code",
      "metadata": {
        "id": "go-UA2wX8h9A"
      },
      "source": [
        "plt.rc('font',size=15)\n",
        "fontprop = fm.FontProperties(fname= '/usr/share/fonts/truetype/nanum/NanumBarunGothic.ttf', size=20)\n",
        "fig = plt.figure(figsize=(10,30))\n",
        "fig.patch.set_facecolor('white')\n",
        "max = 100\n",
        "sns_plot=sns.barplot([i[1] for i in word_list1_2030[:max]],\n",
        "            [i[0] for i in word_list1_2030[:max]])\n",
        "\n",
        "#sns_plot =sns.barplot([i[1] for i in newAlist],[i[0] for i in newAlist])\n",
        "\n",
        "sns_plot.set_title(\"Frequency 100\")\n",
        "sns_plot.set_ylabel(\"단어\")\n",
        "sns_plot.set_xlabel(\"빈도\")\n",
        "fig = sns_plot.get_figure()\n",
        "fig.savefig('숙식_재범1회_2030대_빈도.png')"
      ],
      "execution_count": null,
      "outputs": []
    },
    {
      "cell_type": "code",
      "metadata": {
        "id": "DVpQ8s-s8h9B"
      },
      "source": [
        "wordcloud = WordCloud(font_path = '/usr/share/fonts/truetype/nanum/NanumGothic.ttf' ,background_color='white',width=1500, height=1000).generate_from_frequencies(dict(word_list1_2030)) \n",
        "plt.imshow(wordcloud) \n",
        "plt.axis('off')\n",
        "plt.show()\n",
        "wordcloud.to_file('숙식_재범1회_2030대_wordcloud.png')"
      ],
      "execution_count": null,
      "outputs": []
    },
    {
      "cell_type": "code",
      "metadata": {
        "id": "u034EHZx8h9E"
      },
      "source": [
        ""
      ],
      "execution_count": null,
      "outputs": []
    },
    {
      "cell_type": "markdown",
      "metadata": {
        "id": "z1K-fw4-8h9F"
      },
      "source": [
        "### 4050대"
      ]
    },
    {
      "cell_type": "code",
      "metadata": {
        "id": "EGMVBVOx8h9F"
      },
      "source": [
        "words1_4050=twtt(df1_4050)"
      ],
      "execution_count": null,
      "outputs": []
    },
    {
      "cell_type": "code",
      "metadata": {
        "id": "jJyZCCLG8h9H"
      },
      "source": [
        "word_list1_4050 = sorted(words1_4050.items(), key=lambda x: x[1], reverse=True) # 내림차순\n",
        "word_list1_4050"
      ],
      "execution_count": null,
      "outputs": []
    },
    {
      "cell_type": "code",
      "metadata": {
        "id": "_Au0mkIx8h9I"
      },
      "source": [
        "plt.rc('font',size=15)\n",
        "fontprop = fm.FontProperties(fname= '/usr/share/fonts/truetype/nanum/NanumBarunGothic.ttf', size=20)\n",
        "fig = plt.figure(figsize=(10,30))\n",
        "fig.patch.set_facecolor('white')\n",
        "max = 100\n",
        "sns_plot=sns.barplot([i[1] for i in word_list1_4050[:max]],\n",
        "            [i[0] for i in word_list1_4050[:max]])\n",
        "\n",
        "\n",
        "sns_plot.set_title(\"Frequency 100\")\n",
        "sns_plot.set_ylabel(\"단어\")\n",
        "sns_plot.set_xlabel(\"빈도\")\n",
        "fig = sns_plot.get_figure()\n",
        "fig.savefig('숙식_재범1회_4050대_빈도.png')"
      ],
      "execution_count": null,
      "outputs": []
    },
    {
      "cell_type": "code",
      "metadata": {
        "id": "xwNiE2sK8h9K"
      },
      "source": [
        "wordcloud = WordCloud(font_path = '/usr/share/fonts/truetype/nanum/NanumGothic.ttf' ,background_color='white',width=1500, height=1000).generate_from_frequencies(dict(word_list1_4050)) \n",
        "plt.imshow(wordcloud) \n",
        "plt.axis('off')\n",
        "plt.show()\n",
        "wordcloud.to_file('숙식_재범1회_4050대_wordcloud.png')"
      ],
      "execution_count": null,
      "outputs": []
    },
    {
      "cell_type": "markdown",
      "metadata": {
        "id": "pNpFXbLO8h9N"
      },
      "source": [
        "### 6070대"
      ]
    },
    {
      "cell_type": "code",
      "metadata": {
        "id": "NUSDMlet8h9N"
      },
      "source": [
        "words1_6070=twtt(df1_6070)"
      ],
      "execution_count": null,
      "outputs": []
    },
    {
      "cell_type": "code",
      "metadata": {
        "id": "dsVsh_1D8h9P"
      },
      "source": [
        "word_list1_6070 = sorted(words1_6070.items(), key=lambda x: x[1], reverse=True) # 내림차순\n",
        "word_list1_6070"
      ],
      "execution_count": null,
      "outputs": []
    },
    {
      "cell_type": "code",
      "metadata": {
        "id": "dyKUVoqQ8h9R"
      },
      "source": [
        "plt.rc('font',size=15)\n",
        "fontprop = fm.FontProperties(fname= '/usr/share/fonts/truetype/nanum/NanumBarunGothic.ttf', size=20)\n",
        "fig = plt.figure(figsize=(10,30))\n",
        "fig.patch.set_facecolor('white')\n",
        "max = 100\n",
        "sns_plot=sns.barplot([i[1] for i in word_list1_6070[:max]],\n",
        "            [i[0] for i in word_list1_6070[:max]])\n",
        "\n",
        "\n",
        "sns_plot.set_title(\"Frequency 100\")\n",
        "sns_plot.set_ylabel(\"단어\")\n",
        "sns_plot.set_xlabel(\"빈도\")\n",
        "fig = sns_plot.get_figure()\n",
        "fig.savefig('숙식_재범1회_6070대_빈도.png')"
      ],
      "execution_count": null,
      "outputs": []
    },
    {
      "cell_type": "code",
      "metadata": {
        "id": "uBcLGYjl8h9S"
      },
      "source": [
        "wordcloud = WordCloud(font_path = '/usr/share/fonts/truetype/nanum/NanumGothic.ttf' ,background_color='white',width=1500, height=1000).generate_from_frequencies(dict(word_list1_6070)) \n",
        "plt.imshow(wordcloud) \n",
        "plt.axis('off')\n",
        "plt.show()\n",
        "wordcloud.to_file('숙식_재범1회_6070대_wordcloud.png')"
      ],
      "execution_count": null,
      "outputs": []
    },
    {
      "cell_type": "code",
      "metadata": {
        "id": "6ydk2W158h9U"
      },
      "source": [
        ""
      ],
      "execution_count": null,
      "outputs": []
    },
    {
      "cell_type": "markdown",
      "metadata": {
        "id": "JWyuiMpz_DtU"
      },
      "source": [
        "### 히트맵"
      ]
    },
    {
      "cell_type": "code",
      "metadata": {
        "id": "yY70Wd0__DtZ"
      },
      "source": [
        "\n",
        "df = pd.DataFrame([words1_2030, words1_4050, words1_6070]).T\n",
        "df.columns = ['2030대', '4050대', '6070대']\n",
        "\n",
        "df = df.apply(lambda x : x / np.sum(x))\n",
        "df = df.apply(lambda x : (x-np.min(x)) / (np.max(x)-np.min(x))) #Heatmap에 상대적인 빈도수 출력하고싶을때\n",
        "\n",
        "plt.rc('font',size=16)\n",
        "figure = plt.figure(figsize=(8,10))\n",
        "ax = plt.axes()\n",
        "heat=sns.heatmap(df.sort_values(df.columns[0], ascending=False).iloc[:15], annot=True, fmt = '.3f', linewidths=0.3, cmap = 'Blues', ax = ax)\n",
        "plt.show()\n",
        "figure.savefig('재범1회일때 연령별 비교 히트맵.png', format='png',dpi=1200)\n"
      ],
      "execution_count": null,
      "outputs": []
    },
    {
      "cell_type": "code",
      "metadata": {
        "id": "4n4ny9FJ9nbT"
      },
      "source": [
        ""
      ],
      "execution_count": null,
      "outputs": []
    },
    {
      "cell_type": "markdown",
      "metadata": {
        "id": "Xbv0oEnH9nhT"
      },
      "source": [
        "## 재범2회일때 연령별 비교 "
      ]
    },
    {
      "cell_type": "code",
      "metadata": {
        "id": "HYTbyZMt9nhU"
      },
      "source": [
        "df2_20 = df2[df2['연령']==20]\n",
        "df2_30 = df2[df2['연령']==30]\n",
        "df2_40 = df2[df2['연령']==40]\n",
        "df2_50 = df2[df2['연령']==50]\n",
        "df2_60 = df2[df2['연령']==60]\n",
        "df2_70 = df2[df2['연령']==70]\n",
        "\n",
        "df2_2030 = df2_20.append(df2_30)\n",
        "df2_4050 = df2_40.append(df2_50)\n",
        "df2_6070 = df2_60.append(df2_70)\n",
        "\n",
        "\n",
        "\n",
        "df0_2030"
      ],
      "execution_count": null,
      "outputs": []
    },
    {
      "cell_type": "markdown",
      "metadata": {
        "id": "tQfaVEMn9nhW"
      },
      "source": [
        "### 2030대"
      ]
    },
    {
      "cell_type": "code",
      "metadata": {
        "id": "CR6h7GmU9nhW"
      },
      "source": [
        "words2_2030=twtt(df2_2030)"
      ],
      "execution_count": null,
      "outputs": []
    },
    {
      "cell_type": "code",
      "metadata": {
        "id": "2F4Uo91I9nhY"
      },
      "source": [
        "word_list2_2030 = sorted(words2_2030.items(), key=lambda x: x[1], reverse=True) # 내림차순\n",
        "word_list2_2030"
      ],
      "execution_count": null,
      "outputs": []
    },
    {
      "cell_type": "code",
      "metadata": {
        "id": "2HTcgYFg9nha"
      },
      "source": [
        "plt.rc('font',size=15)\n",
        "fontprop = fm.FontProperties(fname= '/usr/share/fonts/truetype/nanum/NanumBarunGothic.ttf', size=20)\n",
        "fig = plt.figure(figsize=(10,30))\n",
        "fig.patch.set_facecolor('white')\n",
        "max = 100\n",
        "sns_plot=sns.barplot([i[1] for i in word_list2_2030[:max]],\n",
        "            [i[0] for i in word_list2_2030[:max]])\n",
        "\n",
        "\n",
        "sns_plot.set_title(\"Frequency 100\")\n",
        "sns_plot.set_ylabel(\"단어\")\n",
        "sns_plot.set_xlabel(\"빈도\")\n",
        "fig = sns_plot.get_figure()\n",
        "fig.savefig('숙식_재범2회_2030대_빈도.png')"
      ],
      "execution_count": null,
      "outputs": []
    },
    {
      "cell_type": "code",
      "metadata": {
        "id": "7-hF2s-69nhc"
      },
      "source": [
        "wordcloud = WordCloud(font_path = '/usr/share/fonts/truetype/nanum/NanumGothic.ttf' ,background_color='white',width=1500, height=1000).generate_from_frequencies(dict(word_list2_2030)) \n",
        "plt.imshow(wordcloud) \n",
        "plt.axis('off')\n",
        "plt.show()\n",
        "wordcloud.to_file('숙식_재범2회_2030대_wordcloud.png')"
      ],
      "execution_count": null,
      "outputs": []
    },
    {
      "cell_type": "code",
      "metadata": {
        "id": "hjqGOFpj9nhd"
      },
      "source": [
        ""
      ],
      "execution_count": null,
      "outputs": []
    },
    {
      "cell_type": "markdown",
      "metadata": {
        "id": "fkSDh0Rw9nhf"
      },
      "source": [
        "### 4050대"
      ]
    },
    {
      "cell_type": "code",
      "metadata": {
        "id": "QiWkmLy49nhf"
      },
      "source": [
        "words2_4050=twtt(df2_4050)"
      ],
      "execution_count": null,
      "outputs": []
    },
    {
      "cell_type": "code",
      "metadata": {
        "id": "rPwHrtA59nhg"
      },
      "source": [
        "word_list2_4050 = sorted(words2_4050.items(), key=lambda x: x[1], reverse=True) # 내림차순\n",
        "word_list2_4050"
      ],
      "execution_count": null,
      "outputs": []
    },
    {
      "cell_type": "code",
      "metadata": {
        "id": "NgDksRl79nhk"
      },
      "source": [
        "plt.rc('font',size=15)\n",
        "fontprop = fm.FontProperties(fname= '/usr/share/fonts/truetype/nanum/NanumBarunGothic.ttf', size=20)\n",
        "fig = plt.figure(figsize=(10,30))\n",
        "fig.patch.set_facecolor('white')\n",
        "max = 100\n",
        "sns_plot=sns.barplot([i[1] for i in word_list2_4050[:max]],\n",
        "            [i[0] for i in word_list2_4050[:max]])\n",
        "\n",
        "\n",
        "sns_plot.set_title(\"Frequency 100\")\n",
        "sns_plot.set_ylabel(\"단어\")\n",
        "sns_plot.set_xlabel(\"빈도\")\n",
        "fig = sns_plot.get_figure()\n",
        "fig.savefig('숙식_재범2회_4050대_빈도.png')"
      ],
      "execution_count": null,
      "outputs": []
    },
    {
      "cell_type": "code",
      "metadata": {
        "id": "ecFIRsUy9nhl"
      },
      "source": [
        "wordcloud = WordCloud(font_path = '/usr/share/fonts/truetype/nanum/NanumGothic.ttf' ,background_color='white',width=1500, height=1000).generate_from_frequencies(dict(word_list2_4050)) \n",
        "plt.imshow(wordcloud) \n",
        "plt.axis('off')\n",
        "plt.show()\n",
        "wordcloud.to_file('숙식_재범2회_4050대_wordcloud.png')"
      ],
      "execution_count": null,
      "outputs": []
    },
    {
      "cell_type": "markdown",
      "metadata": {
        "id": "gyXvg_v-9nhn"
      },
      "source": [
        "### 6070대"
      ]
    },
    {
      "cell_type": "code",
      "metadata": {
        "id": "5kNj-NX_9nhn"
      },
      "source": [
        "words2_6070=twtt(df2_6070)"
      ],
      "execution_count": null,
      "outputs": []
    },
    {
      "cell_type": "code",
      "metadata": {
        "id": "XgId_FjG9nhp"
      },
      "source": [
        "word_list2_6070 = sorted(words2_6070.items(), key=lambda x: x[1], reverse=True) # 내림차순\n",
        "word_list2_6070"
      ],
      "execution_count": null,
      "outputs": []
    },
    {
      "cell_type": "code",
      "metadata": {
        "id": "sl31WJn59nhq"
      },
      "source": [
        "plt.rc('font',size=15)\n",
        "fontprop = fm.FontProperties(fname= '/usr/share/fonts/truetype/nanum/NanumBarunGothic.ttf', size=20)\n",
        "fig = plt.figure(figsize=(10,30))\n",
        "fig.patch.set_facecolor('white')\n",
        "max = 100\n",
        "sns_plot=sns.barplot([i[1] for i in word_list2_6070[:max]],\n",
        "            [i[0] for i in word_list2_6070[:max]])\n",
        "\n",
        "\n",
        "sns_plot.set_title(\"Frequency 100\")\n",
        "sns_plot.set_ylabel(\"단어\")\n",
        "sns_plot.set_xlabel(\"빈도\")\n",
        "fig = sns_plot.get_figure()\n",
        "fig.savefig('숙식_재범2회_6070대_빈도.png')"
      ],
      "execution_count": null,
      "outputs": []
    },
    {
      "cell_type": "code",
      "metadata": {
        "id": "-KzTL36c9nhs"
      },
      "source": [
        "wordcloud = WordCloud(font_path = '/usr/share/fonts/truetype/nanum/NanumGothic.ttf' ,background_color='white',width=1500, height=1000).generate_from_frequencies(dict(word_list2_6070)) \n",
        "plt.imshow(wordcloud) \n",
        "plt.axis('off')\n",
        "plt.show()\n",
        "wordcloud.to_file('숙식_재범2회_6070대_wordcloud.png')"
      ],
      "execution_count": null,
      "outputs": []
    },
    {
      "cell_type": "code",
      "metadata": {
        "id": "jCKMpE2G_Mo-"
      },
      "source": [
        ""
      ],
      "execution_count": null,
      "outputs": []
    },
    {
      "cell_type": "markdown",
      "metadata": {
        "id": "PN2N6L0sm9It"
      },
      "source": [
        "### 히트맵"
      ]
    },
    {
      "cell_type": "code",
      "metadata": {
        "id": "vgDFFP77m9Ix"
      },
      "source": [
        "\n",
        "df = pd.DataFrame([words2_2030, words2_4050, words2_6070]).T\n",
        "df.columns = ['2030대', '4050대', '6070대']\n",
        "\n",
        "df = df.apply(lambda x : x / np.sum(x))\n",
        "df = df.apply(lambda x : (x-np.min(x)) / (np.max(x)-np.min(x))) #Heatmap에 상대적인 빈도수 출력하고싶을때\n",
        "\n",
        "plt.rc('font',size=16)\n",
        "figure = plt.figure(figsize=(8,10))\n",
        "ax = plt.axes()\n",
        "heat=sns.heatmap(df.sort_values(df.columns[0], ascending=False).iloc[:15], annot=True, fmt = '.3f', linewidths=0.3, cmap = 'Blues', ax = ax)\n",
        "plt.show()\n",
        "figure.savefig('재범2회일때 연령별 비교 히트맵.png', format='png',dpi=1200)\n"
      ],
      "execution_count": null,
      "outputs": []
    },
    {
      "cell_type": "markdown",
      "metadata": {
        "id": "X6b_F4N1fHpX"
      },
      "source": [
        "## 재범3회 이상일때 연령별 비교 "
      ]
    },
    {
      "cell_type": "code",
      "metadata": {
        "id": "HE1jyGJmfHpX"
      },
      "source": [
        "df3"
      ],
      "execution_count": null,
      "outputs": []
    },
    {
      "cell_type": "code",
      "metadata": {
        "id": "uvoxQXY5fHpb"
      },
      "source": [
        "df3_20 = df3[df3['연령']==20]\n",
        "df3_30 = df3[df3['연령']==30]\n",
        "df3_40 = df3[df3['연령']==40]\n",
        "df3_50 = df3[df3['연령']==50]\n",
        "df3_60 = df3[df3['연령']==60]\n",
        "df3_70 = df3[df3['연령']==70]\n",
        "\n",
        "df3_2030 = df3_20.append(df3_30)\n",
        "df3_4050 = df3_40.append(df3_50)\n",
        "df3_6070 = df3_60.append(df3_70)\n",
        "\n",
        "\n",
        "\n",
        "df3_2030"
      ],
      "execution_count": null,
      "outputs": []
    },
    {
      "cell_type": "markdown",
      "metadata": {
        "id": "g58fx7BSfHpd"
      },
      "source": [
        "### 2030대"
      ]
    },
    {
      "cell_type": "code",
      "metadata": {
        "id": "iK_1Owo9fHpd"
      },
      "source": [
        "words3_2030=twtt(df3_2030)"
      ],
      "execution_count": null,
      "outputs": []
    },
    {
      "cell_type": "code",
      "metadata": {
        "id": "YCb64by5fHpe"
      },
      "source": [
        "word_list3_2030 = sorted(words3_2030.items(), key=lambda x: x[1], reverse=True) # 내림차순\n",
        "word_list3_2030"
      ],
      "execution_count": null,
      "outputs": []
    },
    {
      "cell_type": "code",
      "metadata": {
        "id": "4tF29DrefHpg"
      },
      "source": [
        "plt.rc('font',size=15)\n",
        "fontprop = fm.FontProperties(fname= '/usr/share/fonts/truetype/nanum/NanumBarunGothic.ttf', size=20)\n",
        "fig = plt.figure(figsize=(10,30))\n",
        "fig.patch.set_facecolor('white')\n",
        "max = 100\n",
        "sns_plot=sns.barplot([i[1] for i in word_list3_2030[:max]],\n",
        "            [i[0] for i in word_list3_2030[:max]])\n",
        "\n",
        "\n",
        "sns_plot.set_title(\"Frequency 100\")\n",
        "sns_plot.set_ylabel(\"단어\")\n",
        "sns_plot.set_xlabel(\"빈도\")\n",
        "fig = sns_plot.get_figure()\n",
        "fig.savefig('숙식_재범3회이상_2030대_빈도.png')"
      ],
      "execution_count": null,
      "outputs": []
    },
    {
      "cell_type": "code",
      "metadata": {
        "id": "ox5cqMMDfHph"
      },
      "source": [
        "wordcloud = WordCloud(font_path = '/usr/share/fonts/truetype/nanum/NanumGothic.ttf' ,background_color='white',width=1500, height=1000).generate_from_frequencies(dict(word_list3_2030)) \n",
        "plt.imshow(wordcloud) \n",
        "plt.axis('off')\n",
        "plt.show()\n",
        "wordcloud.to_file('숙식_재범3회이상_2030대_wordcloud.png')"
      ],
      "execution_count": null,
      "outputs": []
    },
    {
      "cell_type": "code",
      "metadata": {
        "id": "ptezt2QDfHpj"
      },
      "source": [
        ""
      ],
      "execution_count": null,
      "outputs": []
    },
    {
      "cell_type": "markdown",
      "metadata": {
        "id": "WykFRwpEfHpl"
      },
      "source": [
        "### 4050대"
      ]
    },
    {
      "cell_type": "code",
      "metadata": {
        "id": "Mx8htO7rfHpl"
      },
      "source": [
        "words3_4050=twtt(df3_4050)"
      ],
      "execution_count": null,
      "outputs": []
    },
    {
      "cell_type": "code",
      "metadata": {
        "id": "6hhAitbpfHpn"
      },
      "source": [
        "word_list3_4050 = sorted(words3_4050.items(), key=lambda x: x[1], reverse=True) # 내림차순\n",
        "word_list3_4050"
      ],
      "execution_count": null,
      "outputs": []
    },
    {
      "cell_type": "code",
      "metadata": {
        "id": "CCPoDjwAfHpp"
      },
      "source": [
        "plt.rc('font',size=15)\n",
        "fontprop = fm.FontProperties(fname= '/usr/share/fonts/truetype/nanum/NanumBarunGothic.ttf', size=20)\n",
        "fig = plt.figure(figsize=(10,30))\n",
        "fig.patch.set_facecolor('white')\n",
        "max = 100\n",
        "sns_plot=sns.barplot([i[1] for i in word_list3_4050[:max]],\n",
        "            [i[0] for i in word_list3_4050[:max]])\n",
        "\n",
        "\n",
        "sns_plot.set_title(\"Frequency 100\")\n",
        "sns_plot.set_ylabel(\"단어\")\n",
        "sns_plot.set_xlabel(\"빈도\")\n",
        "fig = sns_plot.get_figure()\n",
        "fig.savefig('숙식_재범3회이상_4050대_빈도.png')"
      ],
      "execution_count": null,
      "outputs": []
    },
    {
      "cell_type": "code",
      "metadata": {
        "id": "BTq91txafHpr"
      },
      "source": [
        "wordcloud = WordCloud(font_path = '/usr/share/fonts/truetype/nanum/NanumGothic.ttf' ,background_color='white',width=1500, height=1000).generate_from_frequencies(dict(word_list3_4050)) \n",
        "plt.imshow(wordcloud) \n",
        "plt.axis('off')\n",
        "plt.show()\n",
        "wordcloud.to_file('숙식_재범3회이상_4050대_wordcloud.png')"
      ],
      "execution_count": null,
      "outputs": []
    },
    {
      "cell_type": "markdown",
      "metadata": {
        "id": "mi7iGY6HfHps"
      },
      "source": [
        "### 6070대"
      ]
    },
    {
      "cell_type": "code",
      "metadata": {
        "id": "v0RSOUApfHpt"
      },
      "source": [
        "words3_6070=twtt(df3_6070)"
      ],
      "execution_count": null,
      "outputs": []
    },
    {
      "cell_type": "code",
      "metadata": {
        "id": "ozE3FpGcfHpu"
      },
      "source": [
        "word_list3_6070 = sorted(words3_6070.items(), key=lambda x: x[1], reverse=True) # 내림차순\n",
        "word_list3_6070"
      ],
      "execution_count": null,
      "outputs": []
    },
    {
      "cell_type": "code",
      "metadata": {
        "id": "4bI_XQh5fHpw"
      },
      "source": [
        "plt.rc('font',size=15)\n",
        "fontprop = fm.FontProperties(fname= '/usr/share/fonts/truetype/nanum/NanumBarunGothic.ttf', size=20)\n",
        "fig = plt.figure(figsize=(10,30))\n",
        "fig.patch.set_facecolor('white')\n",
        "max = 100\n",
        "sns_plot=sns.barplot([i[1] for i in word_list3_6070[:max]],\n",
        "            [i[0] for i in word_list3_6070[:max]])\n",
        "\n",
        "\n",
        "sns_plot.set_title(\"Frequency 100\")\n",
        "sns_plot.set_ylabel(\"단어\")\n",
        "sns_plot.set_xlabel(\"빈도\")\n",
        "fig = sns_plot.get_figure()\n",
        "fig.savefig('숙식_재범3회이상_6070대_빈도.png')"
      ],
      "execution_count": null,
      "outputs": []
    },
    {
      "cell_type": "code",
      "metadata": {
        "id": "lcbNoNrefHpy"
      },
      "source": [
        "wordcloud = WordCloud(font_path = '/usr/share/fonts/truetype/nanum/NanumGothic.ttf' ,background_color='white',width=1500, height=1000).generate_from_frequencies(dict(word_list3_6070)) \n",
        "plt.imshow(wordcloud) \n",
        "plt.axis('off')\n",
        "plt.show()\n",
        "wordcloud.to_file('숙식_재범3회이상_6070대_wordcloud.png')"
      ],
      "execution_count": null,
      "outputs": []
    },
    {
      "cell_type": "code",
      "metadata": {
        "id": "52vosKevfHpz"
      },
      "source": [
        ""
      ],
      "execution_count": null,
      "outputs": []
    },
    {
      "cell_type": "code",
      "metadata": {
        "id": "P-sWIC1tfHp0"
      },
      "source": [
        ""
      ],
      "execution_count": null,
      "outputs": []
    },
    {
      "cell_type": "markdown",
      "metadata": {
        "id": "1EFcbwPhfHp2"
      },
      "source": [
        "### 히트맵"
      ]
    },
    {
      "cell_type": "code",
      "metadata": {
        "id": "0weKfhP_FadV"
      },
      "source": [
        ""
      ],
      "execution_count": null,
      "outputs": []
    },
    {
      "cell_type": "code",
      "metadata": {
        "id": "ob7gGTF9_M60"
      },
      "source": [
        "\n",
        "df = pd.DataFrame([words3_2030, words3_4050, words3_6070]).T\n",
        "df.columns = ['2030대', '4050대', '6070대']\n",
        "\n",
        "df = df.apply(lambda x : x / np.sum(x))\n",
        "df = df.apply(lambda x : (x-np.min(x)) / (np.max(x)-np.min(x))) #Heatmap에 상대적인 빈도수 출력하고싶을때\n",
        "\n",
        "plt.rc('font',size=16)\n",
        "figure = plt.figure(figsize=(8,10))\n",
        "ax = plt.axes()\n",
        "heat=sns.heatmap(df.sort_values(df.columns[0], ascending=False).iloc[:15], annot=True, fmt = '.3f', linewidths=0.3, cmap = 'Blues', ax = ax)\n",
        "plt.show()\n",
        "figure.savefig('재범3회이상일때 연령별 비교 히트맵.png', format='png',dpi=1200)\n"
      ],
      "execution_count": null,
      "outputs": []
    },
    {
      "cell_type": "markdown",
      "metadata": {
        "id": "HN0F5bmto5XB"
      },
      "source": [
        "# 연령집단에 따른 범수별분석\n",
        "\n",
        "#### 2030대일때 초 1 2 3 \n",
        "#### 4050대일때 초 1 2 3\n",
        "#### 6070대일때 초 1 2 3 "
      ]
    },
    {
      "cell_type": "markdown",
      "metadata": {
        "id": "1UKkmMmoq5qc"
      },
      "source": [
        "## 연령별로 데이터 프레임 나누기 "
      ]
    },
    {
      "cell_type": "code",
      "metadata": {
        "id": "gfmJwMSUpqby"
      },
      "source": [
        "df"
      ],
      "execution_count": null,
      "outputs": []
    },
    {
      "cell_type": "code",
      "metadata": {
        "id": "qz0UBkqApb87"
      },
      "source": [
        "# 연령으로 데이터 프레임 나누기 \n",
        "df20 = df[df['연령']==20]\n",
        "df30 = df[df['연령']==30]\n",
        "df40 = df[df['연령']==40]\n",
        "df50 = df[df['연령']==50]\n",
        "df60 = df[df['연령']==60]\n",
        "df70 = df[df['연령']==70]\n",
        "\n",
        "df2030 = df20.append(df30)\n",
        "df4050 = df40.append(df50)\n",
        "df6070 = df60.append(df70)"
      ],
      "execution_count": null,
      "outputs": []
    },
    {
      "cell_type": "code",
      "metadata": {
        "id": "HPBuqtHUq3af"
      },
      "source": [
        ""
      ],
      "execution_count": null,
      "outputs": []
    },
    {
      "cell_type": "code",
      "metadata": {
        "id": "aAp6-i19q3rJ"
      },
      "source": [
        "\n",
        "twitter = Twitter() \n",
        "twitter.add_dictionary(['허그집단프로그램','담당직원','사회복귀','당직자', '숙식보호', '직업훈련', '적극적', '보호관찰', '프로그램 종료', '지원이유', '지금', '특별한사항', '이행사항', '용접기술교육원', '취업알선', '특수용접기능사', '유의사항', '취업박람회', '허그일자리프로그램', '건강관리', '긴급원호', '상기 인', '야간반', '여성기술교육원', '용접배관', '주거지원자', '가족관계', '허그일자리지원프로그램', '고용보험', '상기자', '영농기술교육원', '안전사고', '안정적', '준수사항', '보호종료', '취업지원 프로그램', '구직활동', '대형면허', '건축도장기능사', '건강문제', '친구들', '거주지', '집단상담', '시설관리직', '필기합격', '긍정적', '주거지원', '출결관리', '가족부양', '참여자', '허그 일자리 프로그램', '전기기술교육원', '이행상황', '자기관리', '기술교육원', '기초수급자', '정산금', '특이사항', '애로사항', '용접기능사', '사후관리', '보호관찰법', '기계가공기술교육원', '지원기회', '보호사업', '보호관찰소', '생활 준칙', '위문물품', '법무보호가족교육원', '실기합격', '주거지', '지출관리', '외출 요청', '예치금', '생활관 준칙', '합동결혼식', '용접기능훈련', '미납금', '상기 대상자', '사회성향상 프로그램', '규칙적', '가족희망센터', '몸관리', '상기인', '보호관찰소장', '안전관리', '경제적', '입주자', '취업성공패키지', '보호위원', '허그일자리 프로그램', '허그일자리사업', '집단프로그램', '기초수급', '장기간', '허그 일자리 집단프로그램', '보호종료자', '자동차정비기술교육원', '허그일자리', '식구들', '변동사항', '생활관준칙', '용접훈련', '자립이행상황통보서'], 'Noun')"
      ],
      "execution_count": null,
      "outputs": []
    },
    {
      "cell_type": "code",
      "metadata": {
        "id": "u9gBFeVoq3rM"
      },
      "source": [
        "from ckonlpy.tag import Postprocessor\n",
        "\n",
        "\n",
        "\n",
        "stopwords= [ #날짜 계정 등 시기를 나타내는 토큰\n",
        "        '개월','금일', '기간','겨울','년도', '날짜','금월','까지', '날씨', '어제', '이번','최근', '추후','하루', '한번', '항상','현재','시일','조기','그동안',\n",
        "        '다음주','평소','차후','지난','요즘','아침','오전','오후','예전','한해','전일','여름','시기', '가끔','사이','최종','명일','향후',\n",
        "\n",
        "        #지역 위치나타내는 토큰\n",
        "        '경기도','김해','서울','울산','천안','당부',\n",
        "        \n",
        "        #관련없는 토큰\n",
        "        '결과', '경우', '계속', '계획', '공단', '과정', '관련', '관리','근황','기관','본인','다른', '다소', '다시', '다음', '담당', '담당자','실시','상기',\n",
        "        '대상자','멘토링','문자', '발생', '방문', '보고','상기인', '상담', '상태', '상황', '생활', '생활관', '소하', '스스로', '시간',\n",
        "        '아직', '여건', '예정', '외박', '외출', '요청','이야기', '이행','이후', '입소', '자신', '작성','정리', '정적', '제공', '제출', '조치', '종료',\n",
        "        '주거지원', '준비','지도','지원', '직원', '진행', '참여', '처리','통보','퇴소','확인', '활동','변경','가능','일부','심사','결정','강조',\n",
        "        '보호종료','개시','동일','파악','재차','사용','주기','연결','마무리', '사실','기재','얼마','의사','사료','참여자','기타','단계','완료', '귀하','혼자','당장',\n",
        "        '해당','인계','각종', '번호','취지','참고','보도','약간','대신','진단','물음','회의','양해','완전','부분','만료','상기 대상자','상기자','패키지','가장',\n",
        "\n",
        "        #쓸모없는 토큰\n",
        "        '가지','고자', '고함','구들', '금은','기반', '기하','동안', '되어', '드림', '때문', '또한', '려고', '로부터','다해' ,'대하', '대한', '대해', '더욱', '도로',\n",
        "        '만원', '만큼' , '면서', '모습', '문하', '바로',  '보이', '보임','부분계획', '부터', '부하', '사항', '않아', '양곡','어서','위해', '유의면서','이행상',\n",
        "        '인의', '인하','있는', '있다고', '있도록', '있어', '있으며', '있음', '자로','전하', '전함','정도','중이', '중임', '지소', '통해','특이', '하겠다고', '하고',\n",
        "        '하고자', '하기', '하는', '하도록','하며', '하면서', '하여', '하였으며', '하였음', '하자', '하지','해주','통한','다가','처럼','하라','주지','무하','더라도','요하',\n",
        "        '여부','중인','달라', '물어','어가','상의','고하','라하','대로','어보','지고','이하','한지','각하','영하','알리','여러','바란','아무','이제','서도','당하','여서',\n",
        "        '립하','보기','로서','도래','지원이','남지','가기','지원기','조리','간다','만하','주어','시킴', '리지','아지','고용보', '족하','어도','성하','교하','일이','기해',\n",
        "        '일해','해하','달이','결하','조성하','제하','장일','도중','소가','심해','일어','일도','을시','도록','시운전', '이루',\n",
        "        \n",
        "        # #청소년 관련 단어 \n",
        "        \"최선\", \"면담\", \"특이사항\", \"이행상황\", \"사업\", \"전달\", \"사무실\",\n",
        "        \"설명\", \"관계\", \"특별\", \"안전사고\", \"가정\", \"마음\", \"철저\", \"아보\", \"명절\",\"사하\", \"원호\",\n",
        "        \"환경\"]\n",
        "replace = {'주소지':'거주기','주거지':'거주지', '행동':'태도', '애로':'특이', '주의':'유의', '상황':'상태', '열심':'성실', '관리':'조치',  '애로':'필요', '직장':'업무', '회사':'일자리', '지부':'공단',\n",
        "           '근로':'근무', '근속':'근무',\n",
        "           '불편':'문제', '어려움':'문제', \n",
        "           '지지':'독려', '격려':'독려','하라':'독려',\n",
        "           '열심':'노력', '의지':'노력', '자립':'노력',\n",
        "           '지금':'현재', '오늘':'현재',\n",
        "           '전화':'연락', '통화':'연락','유선':'연락',\n",
        "           '체납':'연체', '미납':'연체'\n",
        "           ,'안정적':'안정'\n",
        "           }\n",
        "\n",
        "postprocessor = Postprocessor(twitter, replace = replace, passtags = 'Noun', stopwords = stopwords)"
      ],
      "execution_count": null,
      "outputs": []
    },
    {
      "cell_type": "code",
      "metadata": {
        "id": "ZQowCVKoq3rO"
      },
      "source": [
        "\n",
        "def twtt(dfname):  \n",
        "  lists = np.array(dfname['CONSULT_CONT'].tolist())\n",
        "\n",
        "  morphs = [] \n",
        "  for sentence in lists: \n",
        "    morphs.append(postprocessor.pos(sentence)) \n",
        "\n",
        "  noun=[] \n",
        "\n",
        "  for sentence in morphs : \n",
        "    for word, tag in sentence : \n",
        "      if tag in ['Noun'] and len(word)>1:\n",
        "          noun.append(word)\n",
        "  count = Counter(noun)\n",
        "  words = dict(count.most_common(100)) \n",
        "  return words\n"
      ],
      "execution_count": null,
      "outputs": []
    },
    {
      "cell_type": "markdown",
      "metadata": {
        "id": "vCpZzwnFq_BE"
      },
      "source": [
        "## 2030대 일때 범수별 분석"
      ]
    },
    {
      "cell_type": "code",
      "metadata": {
        "id": "IDG0DJT9peJR"
      },
      "source": [
        "# 연령별 범수 분석 \n",
        "df2030_0 = df2030[df2030['JAEBUM_1']==0]\n",
        "df2030_1 = df2030[(df2030['JAEBUM']==1)]\n",
        "df2030_2 = df2030[(df2030['JAEBUM']==2)]\n",
        "df2030_3 = df2030[(df2030['JAEBUM']>=3)]"
      ],
      "execution_count": null,
      "outputs": []
    },
    {
      "cell_type": "markdown",
      "metadata": {
        "id": "oeAdHM22rXTp"
      },
      "source": [
        "### 초범"
      ]
    },
    {
      "cell_type": "code",
      "metadata": {
        "id": "wGpEMSLGrXTp"
      },
      "source": [
        "words2030_0=twtt(df2030_0)"
      ],
      "execution_count": null,
      "outputs": []
    },
    {
      "cell_type": "code",
      "metadata": {
        "id": "72dhA-c4rXTs"
      },
      "source": [
        "word_list2030_0 = sorted(words2030_0.items(), key=lambda x: x[1], reverse=True) # 내림차순\n",
        "word_list2030_0"
      ],
      "execution_count": null,
      "outputs": []
    },
    {
      "cell_type": "code",
      "metadata": {
        "id": "l1J490vXrXTt"
      },
      "source": [
        "plt.rc('font',size=15)\n",
        "fontprop = fm.FontProperties(fname= '/usr/share/fonts/truetype/nanum/NanumBarunGothic.ttf', size=20)\n",
        "fig = plt.figure(figsize=(10,30))\n",
        "fig.patch.set_facecolor('white')\n",
        "max = 100\n",
        "sns_plot=sns.barplot([i[1] for i in word_list2030_0[:max]],\n",
        "            [i[0] for i in word_list2030_0[:max]])\n",
        "\n",
        "\n",
        "sns_plot.set_title(\"Frequency 100\")\n",
        "sns_plot.set_ylabel(\"단어\")\n",
        "sns_plot.set_xlabel(\"빈도\")\n",
        "fig = sns_plot.get_figure()\n",
        "fig.savefig('숙식_2030대일때초범_빈도표.png')"
      ],
      "execution_count": null,
      "outputs": []
    },
    {
      "cell_type": "markdown",
      "metadata": {
        "id": "PVg93yG5rXTy"
      },
      "source": [
        "### 재범1회"
      ]
    },
    {
      "cell_type": "code",
      "metadata": {
        "id": "E81JrBaUrXTy"
      },
      "source": [
        "words2030_1=twtt(df2030_1)"
      ],
      "execution_count": null,
      "outputs": []
    },
    {
      "cell_type": "code",
      "metadata": {
        "id": "MztNOZyQrXT0"
      },
      "source": [
        "word_list2030_1 = sorted(words2030_1.items(), key=lambda x: x[1], reverse=True) # 내림차순\n",
        "word_list2030_1"
      ],
      "execution_count": null,
      "outputs": []
    },
    {
      "cell_type": "code",
      "metadata": {
        "id": "_Qil_rx1rXT1"
      },
      "source": [
        "plt.rc('font',size=15)\n",
        "fontprop = fm.FontProperties(fname= '/usr/share/fonts/truetype/nanum/NanumBarunGothic.ttf', size=20)\n",
        "fig = plt.figure(figsize=(10,30))\n",
        "fig.patch.set_facecolor('white')\n",
        "max = 100\n",
        "sns_plot=sns.barplot([i[1] for i in word_list2030_1[:max]],\n",
        "            [i[0] for i in word_list2030_1[:max]])\n",
        "\n",
        "\n",
        "sns_plot.set_title(\"Frequency 100\")\n",
        "sns_plot.set_ylabel(\"단어\")\n",
        "sns_plot.set_xlabel(\"빈도\")\n",
        "fig = sns_plot.get_figure()\n",
        "fig.savefig('숙식_2030대일때재범1회_빈도표.png')"
      ],
      "execution_count": null,
      "outputs": []
    },
    {
      "cell_type": "markdown",
      "metadata": {
        "id": "ouFx10q9rXT5"
      },
      "source": [
        "### 재범2회"
      ]
    },
    {
      "cell_type": "code",
      "metadata": {
        "id": "zr0J0GzjrXT5"
      },
      "source": [
        "words2030_2=twtt(df2030_2)"
      ],
      "execution_count": null,
      "outputs": []
    },
    {
      "cell_type": "code",
      "metadata": {
        "id": "mVGj_cwurXT6"
      },
      "source": [
        "word_list2030_2 = sorted(words2030_2.items(), key=lambda x: x[1], reverse=True) # 내림차순\n",
        "word_list2030_2"
      ],
      "execution_count": null,
      "outputs": []
    },
    {
      "cell_type": "code",
      "metadata": {
        "id": "R7F_kgOdrXT8"
      },
      "source": [
        "plt.rc('font',size=15)\n",
        "fontprop = fm.FontProperties(fname= '/usr/share/fonts/truetype/nanum/NanumBarunGothic.ttf', size=20)\n",
        "fig = plt.figure(figsize=(10,30))\n",
        "fig.patch.set_facecolor('white')\n",
        "max = 100\n",
        "sns_plot=sns.barplot([i[1] for i in word_list2030_2[:max]],\n",
        "            [i[0] for i in word_list2030_2[:max]])\n",
        "\n",
        "\n",
        "sns_plot.set_title(\"Frequency 100\")\n",
        "sns_plot.set_ylabel(\"단어\")\n",
        "sns_plot.set_xlabel(\"빈도\")\n",
        "fig = sns_plot.get_figure()\n",
        "fig.savefig('숙식_2030대일때재범2회_빈도표.png')"
      ],
      "execution_count": null,
      "outputs": []
    },
    {
      "cell_type": "markdown",
      "metadata": {
        "id": "oRN8ZGM4tJmx"
      },
      "source": [
        "### 재범3회이상"
      ]
    },
    {
      "cell_type": "code",
      "metadata": {
        "id": "AAeQanFXtJmy"
      },
      "source": [
        "words2030_3=twtt(df2030_3)"
      ],
      "execution_count": null,
      "outputs": []
    },
    {
      "cell_type": "code",
      "metadata": {
        "id": "FXVHpIi2tJm1"
      },
      "source": [
        "word_list2030_3 = sorted(words2030_3.items(), key=lambda x: x[1], reverse=True) # 내림차순\n",
        "word_list2030_3"
      ],
      "execution_count": null,
      "outputs": []
    },
    {
      "cell_type": "code",
      "metadata": {
        "id": "DlLqYTOItJm3"
      },
      "source": [
        "plt.rc('font',size=15)\n",
        "fontprop = fm.FontProperties(fname= '/usr/share/fonts/truetype/nanum/NanumBarunGothic.ttf', size=20)\n",
        "fig = plt.figure(figsize=(10,30))\n",
        "fig.patch.set_facecolor('white')\n",
        "max = 100\n",
        "sns_plot=sns.barplot([i[1] for i in word_list2030_3[:max]],\n",
        "            [i[0] for i in word_list2030_3[:max]])\n",
        "\n",
        "\n",
        "sns_plot.set_title(\"Frequency 100\")\n",
        "sns_plot.set_ylabel(\"단어\")\n",
        "sns_plot.set_xlabel(\"빈도\")\n",
        "fig = sns_plot.get_figure()\n",
        "fig.savefig('숙식_2030대일때재범3회이상_빈도표.png')"
      ],
      "execution_count": null,
      "outputs": []
    },
    {
      "cell_type": "markdown",
      "metadata": {
        "id": "95h11ZSYrXUC"
      },
      "source": [
        "### 히트맵"
      ]
    },
    {
      "cell_type": "code",
      "metadata": {
        "id": "7PpHO6ZmrXUD"
      },
      "source": [
        "\n",
        "df = pd.DataFrame([words2030_0, words2030_1, words2030_2,words2030_3]).T\n",
        "df.columns = ['초범', '재범1회', '재범2회','재범3회']\n",
        "\n",
        "df = df.apply(lambda x : x / np.sum(x))\n",
        "df = df.apply(lambda x : (x-np.min(x)) / (np.max(x)-np.min(x))) #Heatmap에 상대적인 빈도수 출력하고싶을때\n",
        "\n",
        "plt.rc('font',size=16)\n",
        "figure = plt.figure(figsize=(8,10))\n",
        "ax = plt.axes()\n",
        "heat=sns.heatmap(df.sort_values(df.columns[0], ascending=False).iloc[:15], annot=True, fmt = '.3f', linewidths=0.3, cmap = 'Blues', ax = ax)\n",
        "plt.show()\n",
        "figure.savefig('2030대일때 범수별 비교 히트맵.png', format='png',dpi=1200)\n"
      ],
      "execution_count": null,
      "outputs": []
    },
    {
      "cell_type": "markdown",
      "metadata": {
        "id": "46vtQ95CtaKx"
      },
      "source": [
        "## 4050대 일때 범수별 분석"
      ]
    },
    {
      "cell_type": "code",
      "metadata": {
        "id": "ZlF4wKDDtaKy"
      },
      "source": [
        "\n",
        "# 연령별 범수 분석 \n",
        "df4050_0 = df4050[df4050['JAEBUM_1']==0]\n",
        "df4050_1 = df4050[(df4050['JAEBUM']==1)]\n",
        "df4050_2 = df4050[(df4050['JAEBUM']==2)]\n",
        "df4050_3 = df4050[(df4050['JAEBUM']>=3)]"
      ],
      "execution_count": null,
      "outputs": []
    },
    {
      "cell_type": "markdown",
      "metadata": {
        "id": "HIGnpJnwtaK1"
      },
      "source": [
        "### 초범"
      ]
    },
    {
      "cell_type": "code",
      "metadata": {
        "id": "RaVO-z70taK2"
      },
      "source": [
        "words4050_0=twtt(df4050_0)"
      ],
      "execution_count": null,
      "outputs": []
    },
    {
      "cell_type": "code",
      "metadata": {
        "id": "_AWnP4GItaK4"
      },
      "source": [
        "word_list4050_0 = sorted(words4050_0.items(), key=lambda x: x[1], reverse=True) # 내림차순\n",
        "word_list4050_0"
      ],
      "execution_count": null,
      "outputs": []
    },
    {
      "cell_type": "code",
      "metadata": {
        "id": "CayHWOSTtaK7"
      },
      "source": [
        "plt.rc('font',size=15)\n",
        "fontprop = fm.FontProperties(fname= '/usr/share/fonts/truetype/nanum/NanumBarunGothic.ttf', size=20)\n",
        "fig = plt.figure(figsize=(10,30))\n",
        "fig.patch.set_facecolor('white')\n",
        "max = 100\n",
        "sns_plot=sns.barplot([i[1] for i in word_list4050_0[:max]],\n",
        "            [i[0] for i in word_list4050_0[:max]])\n",
        "\n",
        "\n",
        "sns_plot.set_title(\"Frequency 100\")\n",
        "sns_plot.set_ylabel(\"단어\")\n",
        "sns_plot.set_xlabel(\"빈도\")\n",
        "fig = sns_plot.get_figure()\n",
        "fig.savefig('숙식_4050대일때초범_빈도표.png')"
      ],
      "execution_count": null,
      "outputs": []
    },
    {
      "cell_type": "markdown",
      "metadata": {
        "id": "x8f1TrsxtaLA"
      },
      "source": [
        "### 재범1회"
      ]
    },
    {
      "cell_type": "code",
      "metadata": {
        "id": "A0wDwxWVtaLA"
      },
      "source": [
        "words4050_1=twtt(df4050_1)"
      ],
      "execution_count": null,
      "outputs": []
    },
    {
      "cell_type": "code",
      "metadata": {
        "id": "dsckXVaUtaLD"
      },
      "source": [
        "word_list4050_1 = sorted(words4050_1.items(), key=lambda x: x[1], reverse=True) # 내림차순\n",
        "word_list4050_1"
      ],
      "execution_count": null,
      "outputs": []
    },
    {
      "cell_type": "code",
      "metadata": {
        "id": "MmPuWIsptaLE"
      },
      "source": [
        "plt.rc('font',size=15)\n",
        "fontprop = fm.FontProperties(fname= '/usr/share/fonts/truetype/nanum/NanumBarunGothic.ttf', size=20)\n",
        "fig = plt.figure(figsize=(10,30))\n",
        "fig.patch.set_facecolor('white')\n",
        "max = 100\n",
        "sns_plot=sns.barplot([i[1] for i in word_list4050_1[:max]],\n",
        "            [i[0] for i in word_list4050_1[:max]])\n",
        "\n",
        "\n",
        "sns_plot.set_title(\"Frequency 100\")\n",
        "sns_plot.set_ylabel(\"단어\")\n",
        "sns_plot.set_xlabel(\"빈도\")\n",
        "fig = sns_plot.get_figure()\n",
        "fig.savefig('숙식_4050대일때재범1회_빈도표.png')"
      ],
      "execution_count": null,
      "outputs": []
    },
    {
      "cell_type": "markdown",
      "metadata": {
        "id": "09cHVyiZtaLG"
      },
      "source": [
        "### 재범2회"
      ]
    },
    {
      "cell_type": "code",
      "metadata": {
        "id": "RNXfVguhtaLG"
      },
      "source": [
        "words4050_2=twtt(df4050_2)"
      ],
      "execution_count": null,
      "outputs": []
    },
    {
      "cell_type": "code",
      "metadata": {
        "id": "1mdLfDAetaLH"
      },
      "source": [
        "word_list4050_2 = sorted(words4050_2.items(), key=lambda x: x[1], reverse=True) # 내림차순\n",
        "word_list4050_2"
      ],
      "execution_count": null,
      "outputs": []
    },
    {
      "cell_type": "code",
      "metadata": {
        "id": "MEfrgJ2XtaLJ"
      },
      "source": [
        "plt.rc('font',size=15)\n",
        "fontprop = fm.FontProperties(fname= '/usr/share/fonts/truetype/nanum/NanumBarunGothic.ttf', size=20)\n",
        "fig = plt.figure(figsize=(10,30))\n",
        "fig.patch.set_facecolor('white')\n",
        "max = 100\n",
        "sns_plot=sns.barplot([i[1] for i in word_list4050_2[:max]],\n",
        "            [i[0] for i in word_list4050_2[:max]])\n",
        "\n",
        "\n",
        "sns_plot.set_title(\"Frequency 100\")\n",
        "sns_plot.set_ylabel(\"단어\")\n",
        "sns_plot.set_xlabel(\"빈도\")\n",
        "fig = sns_plot.get_figure()\n",
        "fig.savefig('숙식_4050대일때재범2회_빈도표.png')"
      ],
      "execution_count": null,
      "outputs": []
    },
    {
      "cell_type": "markdown",
      "metadata": {
        "id": "EtVfPpghtaLP"
      },
      "source": [
        "### 재범3회이상"
      ]
    },
    {
      "cell_type": "code",
      "metadata": {
        "id": "sPgN0vcwtaLP"
      },
      "source": [
        "words4050_3=twtt(df4050_3)"
      ],
      "execution_count": null,
      "outputs": []
    },
    {
      "cell_type": "code",
      "metadata": {
        "id": "obLjr4yvtaLQ"
      },
      "source": [
        "word_list4050_3 = sorted(words4050_3.items(), key=lambda x: x[1], reverse=True) # 내림차순\n",
        "word_list4050_3"
      ],
      "execution_count": null,
      "outputs": []
    },
    {
      "cell_type": "code",
      "metadata": {
        "id": "yI2SZgXWtaLS"
      },
      "source": [
        "plt.rc('font',size=15)\n",
        "fontprop = fm.FontProperties(fname= '/usr/share/fonts/truetype/nanum/NanumBarunGothic.ttf', size=20)\n",
        "fig = plt.figure(figsize=(10,30))\n",
        "fig.patch.set_facecolor('white')\n",
        "max = 100\n",
        "sns_plot=sns.barplot([i[1] for i in word_list4050_3[:max]],\n",
        "            [i[0] for i in word_list4050_3[:max]])\n",
        "\n",
        "\n",
        "sns_plot.set_title(\"Frequency 100\")\n",
        "sns_plot.set_ylabel(\"단어\")\n",
        "sns_plot.set_xlabel(\"빈도\")\n",
        "fig = sns_plot.get_figure()\n",
        "fig.savefig('숙식_4050대일때재범3회이상_빈도표.png')"
      ],
      "execution_count": null,
      "outputs": []
    },
    {
      "cell_type": "markdown",
      "metadata": {
        "id": "RG9wiXSYtaLV"
      },
      "source": [
        "### 히트맵"
      ]
    },
    {
      "cell_type": "code",
      "metadata": {
        "id": "np35aaa1taLV"
      },
      "source": [
        "\n",
        "df = pd.DataFrame([words4050_0, words4050_1, words4050_2,words4050_3]).T\n",
        "df.columns = ['초범', '재범1회', '재범2회','재범3회']\n",
        "\n",
        "df = df.apply(lambda x : x / np.sum(x))\n",
        "df = df.apply(lambda x : (x-np.min(x)) / (np.max(x)-np.min(x))) #Heatmap에 상대적인 빈도수 출력하고싶을때\n",
        "\n",
        "plt.rc('font',size=16)\n",
        "figure = plt.figure(figsize=(8,10))\n",
        "ax = plt.axes()\n",
        "heat=sns.heatmap(df.sort_values(df.columns[0], ascending=False).iloc[:15], annot=True, fmt = '.3f', linewidths=0.3, cmap = 'Blues', ax = ax)\n",
        "plt.show()\n",
        "figure.savefig('4050대일때 범수별 비교 히트맵.png', format='png',dpi=1200)\n"
      ],
      "execution_count": null,
      "outputs": []
    },
    {
      "cell_type": "markdown",
      "metadata": {
        "id": "oEIuEEOqrFip"
      },
      "source": [
        "## 6070대 일때 범수별 분석"
      ]
    },
    {
      "cell_type": "code",
      "metadata": {
        "id": "-RndDiXkqjPr"
      },
      "source": [
        "# 연령별 범수 분석 \n",
        "df6070_0 = df6070[df6070['JAEBUM_1']==0]\n",
        "df6070_1 = df6070[(df6070['JAEBUM']==1)]\n",
        "df6070_2 = df6070[(df6070['JAEBUM']==2)]\n",
        "df6070_3 = df6070[(df6070['JAEBUM']>=3)]"
      ],
      "execution_count": null,
      "outputs": []
    },
    {
      "cell_type": "markdown",
      "metadata": {
        "id": "MB4fPVt5ud9h"
      },
      "source": [
        "### 초범"
      ]
    },
    {
      "cell_type": "code",
      "metadata": {
        "id": "ThofjXTxud9i"
      },
      "source": [
        "words6070_0=twtt(df6070_0)"
      ],
      "execution_count": null,
      "outputs": []
    },
    {
      "cell_type": "code",
      "metadata": {
        "id": "UKwZOTvgud9k"
      },
      "source": [
        "word_list6070_0 = sorted(words6070_0.items(), key=lambda x: x[1], reverse=True) # 내림차순\n",
        "word_list6070_0"
      ],
      "execution_count": null,
      "outputs": []
    },
    {
      "cell_type": "code",
      "metadata": {
        "id": "Bv4JDMa7ud9n"
      },
      "source": [
        "plt.rc('font',size=15)\n",
        "fontprop = fm.FontProperties(fname= '/usr/share/fonts/truetype/nanum/NanumBarunGothic.ttf', size=20)\n",
        "fig = plt.figure(figsize=(10,30))\n",
        "fig.patch.set_facecolor('white')\n",
        "max = 100\n",
        "sns_plot=sns.barplot([i[1] for i in word_list6070_0[:max]],\n",
        "            [i[0] for i in word_list6070_0[:max]])\n",
        "\n",
        "\n",
        "sns_plot.set_title(\"Frequency 100\")\n",
        "sns_plot.set_ylabel(\"단어\")\n",
        "sns_plot.set_xlabel(\"빈도\")\n",
        "fig = sns_plot.get_figure()\n",
        "fig.savefig('숙식_6070대일때초범_빈도표.png')"
      ],
      "execution_count": null,
      "outputs": []
    },
    {
      "cell_type": "markdown",
      "metadata": {
        "id": "XS9upZqyud9r"
      },
      "source": [
        "### 재범1회"
      ]
    },
    {
      "cell_type": "code",
      "metadata": {
        "id": "SqSuCTn3ud9r"
      },
      "source": [
        "words6070_1=twtt(df6070_1)"
      ],
      "execution_count": null,
      "outputs": []
    },
    {
      "cell_type": "code",
      "metadata": {
        "id": "cCQoUJoYud9t"
      },
      "source": [
        "word_list6070_1 = sorted(words6070_1.items(), key=lambda x: x[1], reverse=True) # 내림차순\n",
        "word_list6070_1"
      ],
      "execution_count": null,
      "outputs": []
    },
    {
      "cell_type": "code",
      "metadata": {
        "id": "t0_LX7S2ud9v"
      },
      "source": [
        "plt.rc('font',size=15)\n",
        "fontprop = fm.FontProperties(fname= '/usr/share/fonts/truetype/nanum/NanumBarunGothic.ttf', size=20)\n",
        "fig = plt.figure(figsize=(10,30))\n",
        "fig.patch.set_facecolor('white')\n",
        "max = 100\n",
        "sns_plot=sns.barplot([i[1] for i in word_list6070_1[:max]],\n",
        "            [i[0] for i in word_list6070_1[:max]])\n",
        "\n",
        "\n",
        "sns_plot.set_title(\"Frequency 100\")\n",
        "sns_plot.set_ylabel(\"단어\")\n",
        "sns_plot.set_xlabel(\"빈도\")\n",
        "fig = sns_plot.get_figure()\n",
        "fig.savefig('숙식_6070대일때재범1회_빈도표.png')"
      ],
      "execution_count": null,
      "outputs": []
    },
    {
      "cell_type": "markdown",
      "metadata": {
        "id": "zEvZwytLud9w"
      },
      "source": [
        "### 재범2회"
      ]
    },
    {
      "cell_type": "code",
      "metadata": {
        "id": "mx-d0A10ud9x"
      },
      "source": [
        "words6070_2=twtt(df6070_2)"
      ],
      "execution_count": null,
      "outputs": []
    },
    {
      "cell_type": "code",
      "metadata": {
        "id": "qNohB4PMud9y"
      },
      "source": [
        "word_list6070_2 = sorted(words6070_2.items(), key=lambda x: x[1], reverse=True) # 내림차순\n",
        "word_list6070_2"
      ],
      "execution_count": null,
      "outputs": []
    },
    {
      "cell_type": "code",
      "metadata": {
        "id": "j6t8wsv0ud90"
      },
      "source": [
        "plt.rc('font',size=15)\n",
        "fontprop = fm.FontProperties(fname= '/usr/share/fonts/truetype/nanum/NanumBarunGothic.ttf', size=20)\n",
        "fig = plt.figure(figsize=(10,30))\n",
        "fig.patch.set_facecolor('white')\n",
        "max = 100\n",
        "sns_plot=sns.barplot([i[1] for i in word_list6070_2[:max]],\n",
        "            [i[0] for i in word_list6070_2[:max]])\n",
        "\n",
        "\n",
        "sns_plot.set_title(\"Frequency 100\")\n",
        "sns_plot.set_ylabel(\"단어\")\n",
        "sns_plot.set_xlabel(\"빈도\")\n",
        "fig = sns_plot.get_figure()\n",
        "fig.savefig('숙식_6070대일때재범2회_빈도표.png')"
      ],
      "execution_count": null,
      "outputs": []
    },
    {
      "cell_type": "markdown",
      "metadata": {
        "id": "_3MMZnXcud94"
      },
      "source": [
        "### 재범3회이상"
      ]
    },
    {
      "cell_type": "code",
      "metadata": {
        "id": "xI7QEkqeud95"
      },
      "source": [
        "words6070_3=twtt(df6070_3)"
      ],
      "execution_count": null,
      "outputs": []
    },
    {
      "cell_type": "code",
      "metadata": {
        "id": "cPHH5qdUud96"
      },
      "source": [
        "word_list6070_3 = sorted(words6070_3.items(), key=lambda x: x[1], reverse=True) # 내림차순\n",
        "word_list6070_3"
      ],
      "execution_count": null,
      "outputs": []
    },
    {
      "cell_type": "code",
      "metadata": {
        "id": "ISiQOLqDud98"
      },
      "source": [
        "plt.rc('font',size=15)\n",
        "fontprop = fm.FontProperties(fname= '/usr/share/fonts/truetype/nanum/NanumBarunGothic.ttf', size=20)\n",
        "fig = plt.figure(figsize=(10,30))\n",
        "fig.patch.set_facecolor('white')\n",
        "max = 100\n",
        "sns_plot=sns.barplot([i[1] for i in word_list6070_3[:max]],\n",
        "            [i[0] for i in word_list6070_3[:max]])\n",
        "\n",
        "\n",
        "sns_plot.set_title(\"Frequency 100\")\n",
        "sns_plot.set_ylabel(\"단어\")\n",
        "sns_plot.set_xlabel(\"빈도\")\n",
        "fig = sns_plot.get_figure()\n",
        "fig.savefig('숙식_6070대일때재범3회이상_빈도표.png')"
      ],
      "execution_count": null,
      "outputs": []
    },
    {
      "cell_type": "markdown",
      "metadata": {
        "id": "rqygbWvGud9_"
      },
      "source": [
        "### 히트맵"
      ]
    },
    {
      "cell_type": "code",
      "metadata": {
        "id": "RwXSmC2nud9_"
      },
      "source": [
        "\n",
        "df = pd.DataFrame([words6070_0, words6070_1, words6070_2,words6070_3]).T\n",
        "df.columns = ['초범', '재범1회', '재범2회','재범3회']\n",
        "\n",
        "df = df.apply(lambda x : x / np.sum(x))\n",
        "df = df.apply(lambda x : (x-np.min(x)) / (np.max(x)-np.min(x))) #Heatmap에 상대적인 빈도수 출력하고싶을때\n",
        "\n",
        "plt.rc('font',size=16)\n",
        "figure = plt.figure(figsize=(8,10))\n",
        "ax = plt.axes()\n",
        "heat=sns.heatmap(df.sort_values(df.columns[0], ascending=False).iloc[:15], annot=True, fmt = '.3f', linewidths=0.3, cmap = 'Blues', ax = ax)\n",
        "plt.show()\n",
        "figure.savefig('6070대일때 범수별비교 히트맵.png', format='png',dpi=1200)\n"
      ],
      "execution_count": null,
      "outputs": []
    },
    {
      "cell_type": "markdown",
      "metadata": {
        "id": "UdaM56Cb5GrS"
      },
      "source": [
        "# 죄명집단에 따른 범수별분석\n",
        "\n",
        "#####죄명집단 초 재 1 2 3 \n",
        "#####범수집단 강력 재산 성 "
      ]
    },
    {
      "cell_type": "markdown",
      "metadata": {
        "id": "hi-r0nX1WtfO"
      },
      "source": [
        "## 죄명집단에 따른 범수별분석"
      ]
    },
    {
      "cell_type": "markdown",
      "metadata": {
        "id": "MWUBHLkuT_vB"
      },
      "source": [
        "### 데이터프레임나누기 "
      ]
    },
    {
      "cell_type": "code",
      "metadata": {
        "id": "a9UvTcpw6sG_"
      },
      "source": [
        "df"
      ],
      "execution_count": null,
      "outputs": []
    },
    {
      "cell_type": "code",
      "metadata": {
        "id": "c7I-DnCE6gSb"
      },
      "source": [
        "df_crime10 = df[(df['죄명']==10) | (df['죄명']==20) | (df['죄명']==50) | (df['죄명']==60)] #강력범죄 [ 살인,강도,방화,폭행]\n",
        "\n",
        "df_crime20 = df[(df['죄명']==40) | (df['죄명']==70) | (df['죄명']==80)] #재산범죄 [절도, 횡령, 사기]\n",
        "\n",
        "df_crime30 = df[(df['죄명']==120) | (df['죄명']==130) | (df['죄명']==30)] #성범죄(성폭력, 성추행, 강간)\n"
      ],
      "execution_count": null,
      "outputs": []
    },
    {
      "cell_type": "code",
      "metadata": {
        "id": "qQerMgNqT8Ry"
      },
      "source": [
        "\n",
        "twitter = Twitter() \n",
        "twitter.add_dictionary(['허그집단프로그램','담당직원','사회복귀','당직자', '숙식보호', '직업훈련', '적극적', '보호관찰', '프로그램 종료', '지원이유', '지금', '특별한사항', '이행사항', '용접기술교육원', '취업알선', '특수용접기능사', '유의사항', '취업박람회', '허그일자리프로그램', '건강관리', '긴급원호', '상기 인', '야간반', '여성기술교육원', '용접배관', '주거지원자', '가족관계', '허그일자리지원프로그램', '고용보험', '상기자', '영농기술교육원', '안전사고', '안정적', '준수사항', '보호종료', '취업지원 프로그램', '구직활동', '대형면허', '건축도장기능사', '건강문제', '친구들', '거주지', '집단상담', '시설관리직', '필기합격', '긍정적', '주거지원', '출결관리', '가족부양', '참여자', '허그 일자리 프로그램', '전기기술교육원', '이행상황', '자기관리', '기술교육원', '기초수급자', '정산금', '특이사항', '애로사항', '용접기능사', '사후관리', '보호관찰법', '기계가공기술교육원', '지원기회', '보호사업', '보호관찰소', '생활 준칙', '위문물품', '법무보호가족교육원', '실기합격', '주거지', '지출관리', '외출 요청', '예치금', '생활관 준칙', '합동결혼식', '용접기능훈련', '미납금', '상기 대상자', '사회성향상 프로그램', '규칙적', '가족희망센터', '몸관리', '상기인', '보호관찰소장', '안전관리', '경제적', '입주자', '취업성공패키지', '보호위원', '허그일자리 프로그램', '허그일자리사업', '집단프로그램', '기초수급', '장기간', '허그 일자리 집단프로그램', '보호종료자', '자동차정비기술교육원', '허그일자리', '식구들', '변동사항', '생활관준칙', '용접훈련', '자립이행상황통보서'], 'Noun')"
      ],
      "execution_count": null,
      "outputs": []
    },
    {
      "cell_type": "code",
      "metadata": {
        "id": "D9GliVBFT8R9"
      },
      "source": [
        "from ckonlpy.tag import Postprocessor\n",
        "\n",
        "\n",
        "stopwords= [ #날짜 계정 등 시기를 나타내는 토큰\n",
        "        '개월','금일', '기간','겨울','년도', '날짜','금월','까지', '날씨', '어제', '이번','최근', '추후','하루', '한번', '항상','현재','시일','조기','그동안',\n",
        "        '다음주','평소','차후','지난','요즘','아침','오전','오후','예전','한해','전일','여름','시기', '가끔','사이','최종','명일','향후',\n",
        "\n",
        "        #지역 위치나타내는 토큰\n",
        "        '경기도','김해','서울','울산','천안','당부',\n",
        "        \n",
        "        #관련없는 토큰\n",
        "        '결과', '경우', '계속', '계획', '공단', '과정', '관련', '관리','근황','기관','본인','다른', '다소', '다시', '다음', '담당', '담당자','실시','상기',\n",
        "        '대상자','멘토링','문자', '발생', '방문', '보고','상기인', '상담', '상태', '상황', '생활', '생활관', '소하', '스스로', '시간',\n",
        "        '아직', '여건', '예정', '외박', '외출', '요청','이야기', '이행','이후', '입소', '자신', '작성','정리', '정적', '제공', '제출', '조치', '종료',\n",
        "        '주거지원', '준비','지도','지원', '직원', '진행', '참여', '처리','통보','퇴소','확인', '활동','변경','가능','일부','심사','결정','강조',\n",
        "        '보호종료','개시','동일','파악','재차','사용','주기','연결','마무리', '사실','기재','얼마','의사','사료','참여자','기타','단계','완료', '귀하','혼자','당장',\n",
        "        '해당','인계','각종', '번호','취지','참고','보도','약간','대신','진단','물음','회의','양해','완전','부분','만료','상기 대상자','상기자','패키지','가장',\n",
        "\n",
        "        #쓸모없는 토큰\n",
        "        '가지','고자', '고함','구들', '금은','기반', '기하','동안', '되어', '드림', '때문', '또한', '려고', '로부터','다해' ,'대하', '대한', '대해', '더욱', '도로',\n",
        "        '만원', '만큼' , '면서', '모습', '문하', '바로',  '보이', '보임','부분계획', '부터', '부하', '사항', '않아', '양곡','어서','위해', '유의면서','이행상',\n",
        "        '인의', '인하','있는', '있다고', '있도록', '있어', '있으며', '있음', '자로','전하', '전함','정도','중이', '중임', '지소', '통해','특이', '하겠다고', '하고',\n",
        "        '하고자', '하기', '하는', '하도록','하며', '하면서', '하여', '하였으며', '하였음', '하자', '하지','해주','통한','다가','처럼','하라','주지','무하','더라도','요하',\n",
        "        '여부','중인','달라', '물어','어가','상의','고하','라하','대로','어보','지고','이하','한지','각하','영하','알리','여러','바란','아무','이제','서도','당하','여서',\n",
        "        '립하','보기','로서','도래','지원이','남지','가기','지원기','조리','간다','만하','주어','시킴', '리지','아지','고용보', '족하','어도','성하','교하','일이','기해',\n",
        "        '일해','해하','달이','결하','조성하','제하','장일','도중','소가','심해','일어','일도','을시','도록','시운전', '이루',\n",
        "        \n",
        "        # #청소년 관련 단어 \n",
        "        \"최선\", \"면담\", \"특이사항\", \"이행상황\", \"사업\", \"전달\", \"사무실\",\n",
        "        \"설명\", \"관계\", \"특별\", \"안전사고\", \"가정\", \"마음\", \"철저\", \"아보\", \"명절\",\"사하\", \"원호\",\n",
        "        \"환경\"]\n",
        "replace = {'주소지':'거주기','주거지':'거주지', '행동':'태도', '애로':'특이', '주의':'유의', '상황':'상태', '열심':'성실', '관리':'조치',  '애로':'필요', '직장':'업무', '회사':'일자리', '지부':'공단',\n",
        "           '근로':'근무', '근속':'근무',\n",
        "           '불편':'문제', '어려움':'문제', \n",
        "           '지지':'독려', '격려':'독려','하라':'독려',\n",
        "           '열심':'노력', '의지':'노력', '자립':'노력',\n",
        "           '지금':'현재', '오늘':'현재',\n",
        "           '전화':'연락', '통화':'연락','유선':'연락',\n",
        "           '체납':'연체', '미납':'연체'\n",
        "           ,'안정적':'안정'\n",
        "           }\n",
        "\n",
        "postprocessor = Postprocessor(twitter, replace = replace, passtags = 'Noun', stopwords = stopwords)"
      ],
      "execution_count": null,
      "outputs": []
    },
    {
      "cell_type": "code",
      "metadata": {
        "id": "gtMOuLljT8SC"
      },
      "source": [
        "\n",
        "def twtt(dfname):  \n",
        "  lists = np.array(dfname['CONSULT_CONT'].tolist())\n",
        "\n",
        "  morphs = [] \n",
        "  for sentence in lists: \n",
        "    morphs.append(postprocessor.pos(sentence)) \n",
        "\n",
        "  noun=[] \n",
        "\n",
        "  for sentence in morphs : \n",
        "    for word, tag in sentence : \n",
        "      if tag in ['Noun'] and len(word)>1:\n",
        "          noun.append(word)\n",
        "  count = Counter(noun)\n",
        "  words = dict(count.most_common(100)) \n",
        "  return words\n"
      ],
      "execution_count": null,
      "outputs": []
    },
    {
      "cell_type": "markdown",
      "metadata": {
        "id": "TmnI7-PKQk5B"
      },
      "source": [
        "### 강력범죄 "
      ]
    },
    {
      "cell_type": "code",
      "metadata": {
        "id": "6pAfcqtrRKuI"
      },
      "source": [
        "# 연령별 범수 분석 \n",
        "df_crime10_0 = df_crime10[df_crime10['JAEBUM_1']==0]\n",
        "df_crime10_1 = df_crime10[(df_crime10['JAEBUM']==1)]\n",
        "df_crime10_2 = df_crime10[(df_crime10['JAEBUM']==2)]\n",
        "df_crime10_3 = df_crime10[(df_crime10['JAEBUM']>=3)]"
      ],
      "execution_count": null,
      "outputs": []
    },
    {
      "cell_type": "markdown",
      "metadata": {
        "id": "i_KBn2_zRf9w"
      },
      "source": [
        "### 강력범죄 / 초범"
      ]
    },
    {
      "cell_type": "code",
      "metadata": {
        "id": "vj_lxg6y7GPU"
      },
      "source": [
        "words_crime10_0=twtt(df_crime10_0)"
      ],
      "execution_count": null,
      "outputs": []
    },
    {
      "cell_type": "code",
      "metadata": {
        "id": "lXtiU_Iv7GPY"
      },
      "source": [
        "word_list_crime10_0 = sorted(words_crime10_0.items(), key=lambda x: x[1], reverse=True) # 내림차순\n",
        "word_list_crime10_0"
      ],
      "execution_count": null,
      "outputs": []
    },
    {
      "cell_type": "code",
      "metadata": {
        "id": "tjbWvmKp7GPb"
      },
      "source": [
        "plt.rc('font',size=15)\n",
        "fontprop = fm.FontProperties(fname= '/usr/share/fonts/truetype/nanum/NanumBarunGothic.ttf', size=20)\n",
        "fig = plt.figure(figsize=(10,30))\n",
        "fig.patch.set_facecolor('white')\n",
        "max = 100\n",
        "sns_plot=sns.barplot([i[1] for i in word_list_crime10_0[:max]],\n",
        "            [i[0] for i in word_list_crime10_0[:max]])\n",
        "\n",
        "#sns_plot =sns.barplot([i[1] for i in newAlist],[i[0] for i in newAlist])\n",
        "\n",
        "sns_plot.set_title(\"Frequency 100\")\n",
        "sns_plot.set_ylabel(\"단어\")\n",
        "sns_plot.set_xlabel(\"빈도\")\n",
        "fig = sns_plot.get_figure()\n",
        "fig.savefig('숙식_강력범죄_초범_빈도표.png')"
      ],
      "execution_count": null,
      "outputs": []
    },
    {
      "cell_type": "markdown",
      "metadata": {
        "id": "1qJy3Gr9R04-"
      },
      "source": [
        "### 강력범죄 / 재범1회"
      ]
    },
    {
      "cell_type": "code",
      "metadata": {
        "id": "UoJ1fiyHR04_"
      },
      "source": [
        "words_crime10_1=twtt(df_crime10_1)"
      ],
      "execution_count": null,
      "outputs": []
    },
    {
      "cell_type": "code",
      "metadata": {
        "id": "--N_olmvR05B"
      },
      "source": [
        "word_list_crime10_1 = sorted(words_crime10_1.items(), key=lambda x: x[1], reverse=True) # 내림차순\n",
        "word_list_crime10_1"
      ],
      "execution_count": null,
      "outputs": []
    },
    {
      "cell_type": "code",
      "metadata": {
        "id": "uN1sLMDWR05D"
      },
      "source": [
        "plt.rc('font',size=15)\n",
        "fontprop = fm.FontProperties(fname= '/usr/share/fonts/truetype/nanum/NanumBarunGothic.ttf', size=20)\n",
        "fig = plt.figure(figsize=(10,30))\n",
        "fig.patch.set_facecolor('white')\n",
        "max = 100\n",
        "sns_plot=sns.barplot([i[1] for i in word_list_crime10_1[:max]],\n",
        "            [i[0] for i in word_list_crime10_1[:max]])\n",
        "\n",
        "\n",
        "sns_plot.set_title(\"Frequency 100\")\n",
        "sns_plot.set_ylabel(\"단어\")\n",
        "sns_plot.set_xlabel(\"빈도\")\n",
        "fig = sns_plot.get_figure()\n",
        "fig.savefig('숙식_강력범죄_재범1회_빈도표.png')"
      ],
      "execution_count": null,
      "outputs": []
    },
    {
      "cell_type": "markdown",
      "metadata": {
        "id": "mN-5rv1VSh9o"
      },
      "source": [
        "### 강력범죄 / 재범2회"
      ]
    },
    {
      "cell_type": "code",
      "metadata": {
        "id": "wlpb58bySh9r"
      },
      "source": [
        "words_crime10_2=twtt(df_crime10_2)"
      ],
      "execution_count": null,
      "outputs": []
    },
    {
      "cell_type": "code",
      "metadata": {
        "id": "STjNOqOTSh9z"
      },
      "source": [
        "word_list_crime10_2 = sorted(words_crime10_2.items(), key=lambda x: x[1], reverse=True) # 내림차순\n",
        "word_list_crime10_2"
      ],
      "execution_count": null,
      "outputs": []
    },
    {
      "cell_type": "code",
      "metadata": {
        "id": "Qk_Ce0RUSh98"
      },
      "source": [
        "plt.rc('font',size=15)\n",
        "fontprop = fm.FontProperties(fname= '/usr/share/fonts/truetype/nanum/NanumBarunGothic.ttf', size=20)\n",
        "fig = plt.figure(figsize=(10,30))\n",
        "fig.patch.set_facecolor('white')\n",
        "max = 100\n",
        "sns_plot=sns.barplot([i[1] for i in word_list_crime10_2[:max]],\n",
        "            [i[0] for i in word_list_crime10_2[:max]])\n",
        "\n",
        "\n",
        "sns_plot.set_title(\"Frequency 100\")\n",
        "sns_plot.set_ylabel(\"단어\")\n",
        "sns_plot.set_xlabel(\"빈도\")\n",
        "fig = sns_plot.get_figure()\n",
        "fig.savefig('숙식_강력범죄_재범2회_빈도표.png')"
      ],
      "execution_count": null,
      "outputs": []
    },
    {
      "cell_type": "markdown",
      "metadata": {
        "id": "kczyQ39tSrRA"
      },
      "source": [
        "### 강력범죄 / 재범3회이상"
      ]
    },
    {
      "cell_type": "code",
      "metadata": {
        "id": "9p8xM60NSrRC"
      },
      "source": [
        "words_crime10_3=twtt(df_crime10_3)"
      ],
      "execution_count": null,
      "outputs": []
    },
    {
      "cell_type": "code",
      "metadata": {
        "id": "3HyKVkZPSrRJ"
      },
      "source": [
        "word_list_crime10_3 = sorted(words_crime10_3.items(), key=lambda x: x[1], reverse=True) # 내림차순\n",
        "word_list_crime10_3"
      ],
      "execution_count": null,
      "outputs": []
    },
    {
      "cell_type": "code",
      "metadata": {
        "id": "PFU5dcDGSrRQ"
      },
      "source": [
        "plt.rc('font',size=15)\n",
        "fontprop = fm.FontProperties(fname= '/usr/share/fonts/truetype/nanum/NanumBarunGothic.ttf', size=20)\n",
        "fig = plt.figure(figsize=(10,30))\n",
        "fig.patch.set_facecolor('white')\n",
        "max = 100\n",
        "sns_plot=sns.barplot([i[1] for i in word_list_crime10_3[:max]],\n",
        "            [i[0] for i in word_list_crime10_3[:max]])\n",
        "\n",
        "\n",
        "sns_plot.set_title(\"Frequency 100\")\n",
        "sns_plot.set_ylabel(\"단어\")\n",
        "sns_plot.set_xlabel(\"빈도\")\n",
        "fig = sns_plot.get_figure()\n",
        "fig.savefig('숙식_강력범죄_재범3회이상_빈도표.png')"
      ],
      "execution_count": null,
      "outputs": []
    },
    {
      "cell_type": "markdown",
      "metadata": {
        "id": "L1HFfrtUYQIp"
      },
      "source": [
        "### 히트맵"
      ]
    },
    {
      "cell_type": "code",
      "metadata": {
        "id": "Wb9giIwCSrRW"
      },
      "source": [
        "\n",
        "df = pd.DataFrame([words_crime10_0, words_crime10_1, words_crime10_2,words_crime10_3]).T\n",
        "df.columns = ['초범', '재범1회', '재범2회','재범3회이상']\n",
        "\n",
        "df = df.apply(lambda x : x / np.sum(x))\n",
        "df = df.apply(lambda x : (x-np.min(x)) / (np.max(x)-np.min(x))) #Heatmap에 상대적인 빈도수 출력하고싶을때\n",
        "\n",
        "plt.rc('font',size=16)\n",
        "figure = plt.figure(figsize=(8,10))\n",
        "ax = plt.axes()\n",
        "heat=sns.heatmap(df.sort_values(df.columns[0], ascending=False).iloc[:15], annot=True, fmt = '.3f', linewidths=0.3, cmap = 'Blues', ax = ax)\n",
        "plt.show()\n",
        "figure.savefig('6070대일때 범수별비교 히트맵1.png', format='png',dpi=1200)\n"
      ],
      "execution_count": null,
      "outputs": []
    },
    {
      "cell_type": "markdown",
      "metadata": {
        "id": "LIGqxX77TXQY"
      },
      "source": [
        "### 재산범죄 "
      ]
    },
    {
      "cell_type": "markdown",
      "metadata": {
        "id": "VUnMSc-4TXQf"
      },
      "source": [
        "### 데이터프레임 나누기 "
      ]
    },
    {
      "cell_type": "code",
      "metadata": {
        "id": "lMGyU00eTXQg"
      },
      "source": [
        "# 연령별 범수 분석 \n",
        "df_crime20_0 = df_crime20[df_crime20['JAEBUM_1']==0]\n",
        "df_crime20_1 = df_crime20[(df_crime20['JAEBUM']==1)]\n",
        "df_crime20_2 = df_crime20[(df_crime20['JAEBUM']==2)]\n",
        "df_crime20_3 = df_crime20[(df_crime20['JAEBUM']>=3)]"
      ],
      "execution_count": null,
      "outputs": []
    },
    {
      "cell_type": "markdown",
      "metadata": {
        "id": "Vgs01jOfTXQt"
      },
      "source": [
        "### 재산범죄 / 초범"
      ]
    },
    {
      "cell_type": "code",
      "metadata": {
        "id": "iC2UlgrCTXQt"
      },
      "source": [
        "words_crime20_0=twtt(df_crime20_0)"
      ],
      "execution_count": null,
      "outputs": []
    },
    {
      "cell_type": "code",
      "metadata": {
        "id": "rdrbNznlTXQw"
      },
      "source": [
        "word_list_crime20_0 = sorted(words_crime20_0.items(), key=lambda x: x[1], reverse=True) # 내림차순\n",
        "word_list_crime20_0"
      ],
      "execution_count": null,
      "outputs": []
    },
    {
      "cell_type": "code",
      "metadata": {
        "id": "quqLewMkTXQy"
      },
      "source": [
        "plt.rc('font',size=15)\n",
        "fontprop = fm.FontProperties(fname= '/usr/share/fonts/truetype/nanum/NanumBarunGothic.ttf', size=20)\n",
        "fig = plt.figure(figsize=(10,30))\n",
        "fig.patch.set_facecolor('white')\n",
        "max = 100\n",
        "sns_plot=sns.barplot([i[1] for i in word_list_crime20_0[:max]],\n",
        "            [i[0] for i in word_list_crime20_0[:max]])\n",
        "\n",
        "\n",
        "sns_plot.set_title(\"Frequency 100\")\n",
        "sns_plot.set_ylabel(\"단어\")\n",
        "sns_plot.set_xlabel(\"빈도\")\n",
        "fig = sns_plot.get_figure()\n",
        "fig.savefig('숙식_재산범죄_초범_빈도표.png')"
      ],
      "execution_count": null,
      "outputs": []
    },
    {
      "cell_type": "markdown",
      "metadata": {
        "id": "4zmnxY79TXQ2"
      },
      "source": [
        "### 재산범죄 / 재범1회"
      ]
    },
    {
      "cell_type": "code",
      "metadata": {
        "id": "C2YBl9DcTXQ2"
      },
      "source": [
        "words_crime20_1=twtt(df_crime20_1)"
      ],
      "execution_count": null,
      "outputs": []
    },
    {
      "cell_type": "code",
      "metadata": {
        "id": "_WRcsKx5TXQ4"
      },
      "source": [
        "word_list_crime20_1 = sorted(words_crime20_1.items(), key=lambda x: x[1], reverse=True) # 내림차순\n",
        "word_list_crime20_1"
      ],
      "execution_count": null,
      "outputs": []
    },
    {
      "cell_type": "code",
      "metadata": {
        "id": "tGKUsiL9TXQ6"
      },
      "source": [
        "plt.rc('font',size=15)\n",
        "fontprop = fm.FontProperties(fname= '/usr/share/fonts/truetype/nanum/NanumBarunGothic.ttf', size=20)\n",
        "fig = plt.figure(figsize=(10,30))\n",
        "fig.patch.set_facecolor('white')\n",
        "max = 100\n",
        "sns_plot=sns.barplot([i[1] for i in word_list_crime20_1[:max]],\n",
        "            [i[0] for i in word_list_crime20_1[:max]])\n",
        "\n",
        "\n",
        "sns_plot.set_title(\"Frequency 100\")\n",
        "sns_plot.set_ylabel(\"단어\")\n",
        "sns_plot.set_xlabel(\"빈도\")\n",
        "fig = sns_plot.get_figure()\n",
        "fig.savefig('숙식_재산범죄_재범1회_빈도표.png')"
      ],
      "execution_count": null,
      "outputs": []
    },
    {
      "cell_type": "markdown",
      "metadata": {
        "id": "DRH6AG3ETXRA"
      },
      "source": [
        "### 재산범죄 / 재범2회"
      ]
    },
    {
      "cell_type": "code",
      "metadata": {
        "id": "5okDvwW9TXRB"
      },
      "source": [
        "words_crime20_2=twtt(df_crime20_2)"
      ],
      "execution_count": null,
      "outputs": []
    },
    {
      "cell_type": "code",
      "metadata": {
        "id": "8A84kZwtTXRE"
      },
      "source": [
        "word_list_crime20_2 = sorted(words_crime20_2.items(), key=lambda x: x[1], reverse=True) # 내림차순\n",
        "word_list_crime20_2"
      ],
      "execution_count": null,
      "outputs": []
    },
    {
      "cell_type": "code",
      "metadata": {
        "id": "rnO60ni4TXRF"
      },
      "source": [
        "plt.rc('font',size=15)\n",
        "fontprop = fm.FontProperties(fname= '/usr/share/fonts/truetype/nanum/NanumBarunGothic.ttf', size=20)\n",
        "fig = plt.figure(figsize=(10,30))\n",
        "fig.patch.set_facecolor('white')\n",
        "max = 100\n",
        "sns_plot=sns.barplot([i[1] for i in word_list_crime20_2[:max]],\n",
        "            [i[0] for i in word_list_crime20_2[:max]])\n",
        "\n",
        "\n",
        "sns_plot.set_title(\"Frequency 100\")\n",
        "sns_plot.set_ylabel(\"단어\")\n",
        "sns_plot.set_xlabel(\"빈도\")\n",
        "fig = sns_plot.get_figure()\n",
        "fig.savefig('숙식_재산범죄_재범2회_빈도표.png')"
      ],
      "execution_count": null,
      "outputs": []
    },
    {
      "cell_type": "markdown",
      "metadata": {
        "id": "pokWcuiPTXRK"
      },
      "source": [
        "### 재산범죄 / 재범3회이상"
      ]
    },
    {
      "cell_type": "code",
      "metadata": {
        "id": "05jo8piYTXRK"
      },
      "source": [
        "words_crime20_3=twtt(df_crime20_3)"
      ],
      "execution_count": null,
      "outputs": []
    },
    {
      "cell_type": "code",
      "metadata": {
        "id": "LO-U-6DJTXRM"
      },
      "source": [
        "word_list_crime20_3 = sorted(words_crime20_3.items(), key=lambda x: x[1], reverse=True) # 내림차순\n",
        "word_list_crime20_3"
      ],
      "execution_count": null,
      "outputs": []
    },
    {
      "cell_type": "code",
      "metadata": {
        "id": "SpecCaJXTXRO"
      },
      "source": [
        "plt.rc('font',size=15)\n",
        "fontprop = fm.FontProperties(fname= '/usr/share/fonts/truetype/nanum/NanumBarunGothic.ttf', size=20)\n",
        "fig = plt.figure(figsize=(10,30))\n",
        "fig.patch.set_facecolor('white')\n",
        "max = 100\n",
        "sns_plot=sns.barplot([i[1] for i in word_list_crime20_3[:max]],\n",
        "            [i[0] for i in word_list_crime20_3[:max]])\n",
        "\n",
        "\n",
        "sns_plot.set_title(\"Frequency 100\")\n",
        "sns_plot.set_ylabel(\"단어\")\n",
        "sns_plot.set_xlabel(\"빈도\")\n",
        "fig = sns_plot.get_figure()\n",
        "fig.savefig('숙식_재산범죄_재범3회이상_빈도표.png')"
      ],
      "execution_count": null,
      "outputs": []
    },
    {
      "cell_type": "code",
      "metadata": {
        "id": "qsJY9Rg9TXRS"
      },
      "source": [
        "\n",
        "df = pd.DataFrame([words_crime20_0, words_crime20_1, words_crime20_2,words_crime20_3]).T\n",
        "df.columns = ['초범', '재범1회', '재범2회','재범3회이상']\n",
        "\n",
        "df = df.apply(lambda x : x / np.sum(x))\n",
        "df = df.apply(lambda x : (x-np.min(x)) / (np.max(x)-np.min(x))) #Heatmap에 상대적인 빈도수 출력하고싶을때\n",
        "\n",
        "plt.rc('font',size=16)\n",
        "figure = plt.figure(figsize=(8,10))\n",
        "ax = plt.axes()\n",
        "heat=sns.heatmap(df.sort_values(df.columns[0], ascending=False).iloc[:15], annot=True, fmt = '.3f', linewidths=0.3, cmap = 'Blues', ax = ax)\n",
        "plt.show()\n",
        "figure.savefig('6070대일때 범수별비교 히트맵2.png', format='png',dpi=1200)\n"
      ],
      "execution_count": null,
      "outputs": []
    },
    {
      "cell_type": "markdown",
      "metadata": {
        "id": "vuZhFuFYVSq7"
      },
      "source": [
        "### 성범죄 "
      ]
    },
    {
      "cell_type": "markdown",
      "metadata": {
        "id": "PH4HXBJ6VSq9"
      },
      "source": [
        "### 데이터프레임 나누기 "
      ]
    },
    {
      "cell_type": "code",
      "metadata": {
        "id": "Pmi0PlGoVSq-"
      },
      "source": [
        "# 연령별 범수 분석 \n",
        "df_crime30_0 = df_crime30[df_crime30['JAEBUM_1']==0]\n",
        "df_crime30_1 = df_crime30[(df_crime30['JAEBUM']==1)]\n",
        "df_crime30_2 = df_crime30[(df_crime30['JAEBUM']==2)]\n",
        "df_crime30_3 = df_crime30[(df_crime30['JAEBUM']>=3)]"
      ],
      "execution_count": null,
      "outputs": []
    },
    {
      "cell_type": "markdown",
      "metadata": {
        "id": "SqAhulfEVSrE"
      },
      "source": [
        "### 성범죄 / 초범"
      ]
    },
    {
      "cell_type": "code",
      "metadata": {
        "id": "vreJTQzaVSrF"
      },
      "source": [
        "words_crime30_0=twtt(df_crime30_0)"
      ],
      "execution_count": null,
      "outputs": []
    },
    {
      "cell_type": "code",
      "metadata": {
        "id": "fpQ3VZd6VSrJ"
      },
      "source": [
        "word_list_crime30_0 = sorted(words_crime30_0.items(), key=lambda x: x[1], reverse=True) # 내림차순\n",
        "word_list_crime30_0"
      ],
      "execution_count": null,
      "outputs": []
    },
    {
      "cell_type": "code",
      "metadata": {
        "id": "yCMQin5gVSrM"
      },
      "source": [
        "plt.rc('font',size=15)\n",
        "fontprop = fm.FontProperties(fname= '/usr/share/fonts/truetype/nanum/NanumBarunGothic.ttf', size=20)\n",
        "fig = plt.figure(figsize=(10,30))\n",
        "fig.patch.set_facecolor('white')\n",
        "max = 100\n",
        "sns_plot=sns.barplot([i[1] for i in word_list_crime30_0[:max]],\n",
        "            [i[0] for i in word_list_crime30_0[:max]])\n",
        "\n",
        "\n",
        "sns_plot.set_title(\"Frequency 100\")\n",
        "sns_plot.set_ylabel(\"단어\")\n",
        "sns_plot.set_xlabel(\"빈도\")\n",
        "fig = sns_plot.get_figure()\n",
        "fig.savefig('숙식_성범죄_초범_빈도표.png')"
      ],
      "execution_count": null,
      "outputs": []
    },
    {
      "cell_type": "markdown",
      "metadata": {
        "id": "cTr-3ktMVSrP"
      },
      "source": [
        "### 성범죄 / 재범1회"
      ]
    },
    {
      "cell_type": "code",
      "metadata": {
        "id": "8iWMk14BVSrQ"
      },
      "source": [
        "words_crime30_1=twtt(df_crime30_1)"
      ],
      "execution_count": null,
      "outputs": []
    },
    {
      "cell_type": "code",
      "metadata": {
        "id": "RZwZBVzYVSrT"
      },
      "source": [
        "word_list_crime30_1 = sorted(words_crime30_1.items(), key=lambda x: x[1], reverse=True) # 내림차순\n",
        "word_list_crime30_1"
      ],
      "execution_count": null,
      "outputs": []
    },
    {
      "cell_type": "code",
      "metadata": {
        "id": "qhTKC8A8VSrW"
      },
      "source": [
        "plt.rc('font',size=15)\n",
        "fontprop = fm.FontProperties(fname= '/usr/share/fonts/truetype/nanum/NanumBarunGothic.ttf', size=20)\n",
        "fig = plt.figure(figsize=(10,30))\n",
        "fig.patch.set_facecolor('white')\n",
        "max = 100\n",
        "sns_plot=sns.barplot([i[1] for i in word_list_crime30_1[:max]],\n",
        "            [i[0] for i in word_list_crime30_1[:max]])\n",
        "\n",
        "\n",
        "sns_plot.set_title(\"Frequency 100\")\n",
        "sns_plot.set_ylabel(\"단어\")\n",
        "sns_plot.set_xlabel(\"빈도\")\n",
        "fig = sns_plot.get_figure()\n",
        "fig.savefig('숙식_성범죄_재범1회_빈도표.png')"
      ],
      "execution_count": null,
      "outputs": []
    },
    {
      "cell_type": "markdown",
      "metadata": {
        "id": "FUPzqlb-VSrh"
      },
      "source": [
        "### 성범죄 / 재범2회"
      ]
    },
    {
      "cell_type": "code",
      "metadata": {
        "id": "3v2wU5QgVSri"
      },
      "source": [
        "words_crime30_2=twtt(df_crime30_2)"
      ],
      "execution_count": null,
      "outputs": []
    },
    {
      "cell_type": "code",
      "metadata": {
        "id": "1qdgVB5_VSrl"
      },
      "source": [
        "word_list_crime30_2 = sorted(words_crime30_2.items(), key=lambda x: x[1], reverse=True) # 내림차순\n",
        "word_list_crime30_2"
      ],
      "execution_count": null,
      "outputs": []
    },
    {
      "cell_type": "code",
      "metadata": {
        "id": "M21Q7pQyVSro"
      },
      "source": [
        "plt.rc('font',size=15)\n",
        "fontprop = fm.FontProperties(fname= '/usr/share/fonts/truetype/nanum/NanumBarunGothic.ttf', size=20)\n",
        "fig = plt.figure(figsize=(10,30))\n",
        "fig.patch.set_facecolor('white')\n",
        "max = 100\n",
        "sns_plot=sns.barplot([i[1] for i in word_list_crime30_2[:max]],\n",
        "            [i[0] for i in word_list_crime30_2[:max]])\n",
        "\n",
        "\n",
        "sns_plot.set_title(\"Frequency 100\")\n",
        "sns_plot.set_ylabel(\"단어\")\n",
        "sns_plot.set_xlabel(\"빈도\")\n",
        "fig = sns_plot.get_figure()\n",
        "fig.savefig('숙식_성범죄_재범2회_빈도표.png')"
      ],
      "execution_count": null,
      "outputs": []
    },
    {
      "cell_type": "markdown",
      "metadata": {
        "id": "RwtohF5YVSrt"
      },
      "source": [
        "### 성범죄 / 재범3회이상"
      ]
    },
    {
      "cell_type": "code",
      "metadata": {
        "id": "o6REHLE4VSrt"
      },
      "source": [
        "words_crime30_3=twtt(df_crime30_3)"
      ],
      "execution_count": null,
      "outputs": []
    },
    {
      "cell_type": "code",
      "metadata": {
        "id": "84BXFFu0VSrv"
      },
      "source": [
        "word_list_crime30_3 = sorted(words_crime30_3.items(), key=lambda x: x[1], reverse=True) # 내림차순\n",
        "word_list_crime30_3"
      ],
      "execution_count": null,
      "outputs": []
    },
    {
      "cell_type": "code",
      "metadata": {
        "id": "E6FW_sB4VSrx"
      },
      "source": [
        "plt.rc('font',size=15)\n",
        "fontprop = fm.FontProperties(fname= '/usr/share/fonts/truetype/nanum/NanumBarunGothic.ttf', size=20)\n",
        "fig = plt.figure(figsize=(10,30))\n",
        "fig.patch.set_facecolor('white')\n",
        "max = 100\n",
        "sns_plot=sns.barplot([i[1] for i in word_list_crime30_3[:max]],\n",
        "            [i[0] for i in word_list_crime30_3[:max]])\n",
        "\n",
        "\n",
        "sns_plot.set_title(\"Frequency 100\")\n",
        "sns_plot.set_ylabel(\"단어\")\n",
        "sns_plot.set_xlabel(\"빈도\")\n",
        "fig = sns_plot.get_figure()\n",
        "fig.savefig('숙식_성범죄_재범3회이상_빈도표.png')"
      ],
      "execution_count": null,
      "outputs": []
    },
    {
      "cell_type": "code",
      "metadata": {
        "id": "sOxzOpa7VSry"
      },
      "source": [
        "\n",
        "df = pd.DataFrame([words_crime30_0, words_crime30_1, words_crime30_2,words_crime30_3]).T\n",
        "df.columns = ['초범', '재범1회', '재범2회','재범3회이상']\n",
        "\n",
        "df = df.apply(lambda x : x / np.sum(x))\n",
        "df = df.apply(lambda x : (x-np.min(x)) / (np.max(x)-np.min(x))) #Heatmap에 상대적인 빈도수 출력하고싶을때\n",
        "\n",
        "plt.rc('font',size=16)\n",
        "figure = plt.figure(figsize=(8,10))\n",
        "ax = plt.axes()\n",
        "heat=sns.heatmap(df.sort_values(df.columns[0], ascending=False).iloc[:15], annot=True, fmt = '.3f', linewidths=0.3, cmap = 'Blues', ax = ax)\n",
        "plt.show()\n",
        "figure.savefig('6070대일때 범수별비교 히트맵3.png', format='png',dpi=1200)\n"
      ],
      "execution_count": null,
      "outputs": []
    },
    {
      "cell_type": "markdown",
      "metadata": {
        "id": "pkKTH1KOW15i"
      },
      "source": [
        "# 범수집단에 따른 죄명별분석"
      ]
    },
    {
      "cell_type": "markdown",
      "metadata": {
        "id": "moAyEjj7XCzS"
      },
      "source": [
        "### 데이터프레임 나누기"
      ]
    },
    {
      "cell_type": "code",
      "metadata": {
        "id": "Ln6UjYlBXc6_"
      },
      "source": [
        "df0 = df[df['JAEBUM_1']==0]\n",
        "df1 = df[(df['JAEBUM']==1)]\n",
        "df2 = df[(df['JAEBUM']==2)]\n",
        "df3 = df[(df['JAEBUM']>=3)]"
      ],
      "execution_count": null,
      "outputs": []
    },
    {
      "cell_type": "code",
      "metadata": {
        "id": "-Kvx4U2pXc7X"
      },
      "source": [
        "\n",
        "twitter = Twitter() \n",
        "twitter.add_dictionary(['허그집단프로그램','담당직원','사회복귀','당직자', '숙식보호', '직업훈련', '적극적', '보호관찰', '프로그램 종료', '지원이유', '지금', '특별한사항', '이행사항', '용접기술교육원', '취업알선', '특수용접기능사', '유의사항', '취업박람회', '허그일자리프로그램', '건강관리', '긴급원호', '상기 인', '야간반', '여성기술교육원', '용접배관', '주거지원자', '가족관계', '허그일자리지원프로그램', '고용보험', '상기자', '영농기술교육원', '안전사고', '안정적', '준수사항', '보호종료', '취업지원 프로그램', '구직활동', '대형면허', '건축도장기능사', '건강문제', '친구들', '거주지', '집단상담', '시설관리직', '필기합격', '긍정적', '주거지원', '출결관리', '가족부양', '참여자', '허그 일자리 프로그램', '전기기술교육원', '이행상황', '자기관리', '기술교육원', '기초수급자', '정산금', '특이사항', '애로사항', '용접기능사', '사후관리', '보호관찰법', '기계가공기술교육원', '지원기회', '보호사업', '보호관찰소', '생활 준칙', '위문물품', '법무보호가족교육원', '실기합격', '주거지', '지출관리', '외출 요청', '예치금', '생활관 준칙', '합동결혼식', '용접기능훈련', '미납금', '상기 대상자', '사회성향상 프로그램', '규칙적', '가족희망센터', '몸관리', '상기인', '보호관찰소장', '안전관리', '경제적', '입주자', '취업성공패키지', '보호위원', '허그일자리 프로그램', '허그일자리사업', '집단프로그램', '기초수급', '장기간', '허그 일자리 집단프로그램', '보호종료자', '자동차정비기술교육원', '허그일자리', '식구들', '변동사항', '생활관준칙', '용접훈련', '자립이행상황통보서'], 'Noun')"
      ],
      "execution_count": null,
      "outputs": []
    },
    {
      "cell_type": "code",
      "metadata": {
        "id": "9dCwA6NaXc7b"
      },
      "source": [
        "from ckonlpy.tag import Postprocessor\n",
        "\n",
        "\n",
        "\n",
        "stopwords= [ #날짜 계정 등 시기를 나타내는 토큰\n",
        "        '개월','금일', '기간','겨울','년도', '날짜','금월','까지', '날씨', '어제', '이번','최근', '추후','하루', '한번', '항상','현재','시일','조기','그동안',\n",
        "        '다음주','평소','차후','지난','요즘','아침','오전','오후','예전','한해','전일','여름','시기', '가끔','사이','최종','명일','향후',\n",
        "\n",
        "        #지역 위치나타내는 토큰\n",
        "        '경기도','김해','서울','울산','천안','당부',\n",
        "        \n",
        "        #관련없는 토큰\n",
        "        '결과', '경우', '계속', '계획', '공단', '과정', '관련', '관리','근황','기관','본인','다른', '다소', '다시', '다음', '담당', '담당자','실시','상기',\n",
        "        '대상자','멘토링','문자', '발생', '방문', '보고','상기인', '상담', '상태', '상황', '생활', '생활관', '소하', '스스로', '시간',\n",
        "        '아직', '여건', '예정', '외박', '외출', '요청','이야기', '이행','이후', '입소', '자신', '작성','정리', '정적', '제공', '제출', '조치', '종료',\n",
        "        '주거지원', '준비','지도','지원', '직원', '진행', '참여', '처리','통보','퇴소','확인', '활동','변경','가능','일부','심사','결정','강조',\n",
        "        '보호종료','개시','동일','파악','재차','사용','주기','연결','마무리', '사실','기재','얼마','의사','사료','참여자','기타','단계','완료', '귀하','혼자','당장',\n",
        "        '해당','인계','각종', '번호','취지','참고','보도','약간','대신','진단','물음','회의','양해','완전','부분','만료','상기 대상자','상기자','패키지','가장',\n",
        "\n",
        "        #쓸모없는 토큰\n",
        "        '가지','고자', '고함','구들', '금은','기반', '기하','동안', '되어', '드림', '때문', '또한', '려고', '로부터','다해' ,'대하', '대한', '대해', '더욱', '도로',\n",
        "        '만원', '만큼' , '면서', '모습', '문하', '바로',  '보이', '보임','부분계획', '부터', '부하', '사항', '않아', '양곡','어서','위해', '유의면서','이행상',\n",
        "        '인의', '인하','있는', '있다고', '있도록', '있어', '있으며', '있음', '자로','전하', '전함','정도','중이', '중임', '지소', '통해','특이', '하겠다고', '하고',\n",
        "        '하고자', '하기', '하는', '하도록','하며', '하면서', '하여', '하였으며', '하였음', '하자', '하지','해주','통한','다가','처럼','하라','주지','무하','더라도','요하',\n",
        "        '여부','중인','달라', '물어','어가','상의','고하','라하','대로','어보','지고','이하','한지','각하','영하','알리','여러','바란','아무','이제','서도','당하','여서',\n",
        "        '립하','보기','로서','도래','지원이','남지','가기','지원기','조리','간다','만하','주어','시킴', '리지','아지','고용보', '족하','어도','성하','교하','일이','기해',\n",
        "        '일해','해하','달이','결하','조성하','제하','장일','도중','소가','심해','일어','일도','을시','도록','시운전', '이루',\n",
        "        \n",
        "        # #청소년 관련 단어 \n",
        "        \"최선\", \"면담\", \"특이사항\", \"이행상황\", \"사업\", \"전달\", \"사무실\",\n",
        "        \"설명\", \"관계\", \"특별\", \"안전사고\", \"가정\", \"마음\", \"철저\", \"아보\", \"명절\",\"사하\", \"원호\",\n",
        "        \"환경\"]\n",
        "replace = {'주소지':'거주기','주거지':'거주지', '행동':'태도', '애로':'특이', '주의':'유의', '상황':'상태', '열심':'성실', '관리':'조치',  '애로':'필요', '직장':'업무', '회사':'일자리', '지부':'공단',\n",
        "           '근로':'근무', '근속':'근무',\n",
        "           '불편':'문제', '어려움':'문제', \n",
        "           '지지':'독려', '격려':'독려','하라':'독려',\n",
        "           #'열심':'노력', '의지':'노력', '자립':'노력',\n",
        "           '지금':'현재', '오늘':'현재',\n",
        "           '전화':'연락', '통화':'연락','유선':'연락',\n",
        "           '체납':'연체', '미납':'연체'\n",
        "           ,'안정적':'안정'\n",
        "           }\n",
        "\n",
        "postprocessor = Postprocessor(twitter, replace = replace, passtags = 'Noun', stopwords = stopwords)"
      ],
      "execution_count": null,
      "outputs": []
    },
    {
      "cell_type": "code",
      "metadata": {
        "id": "V3IGhckrXc7h"
      },
      "source": [
        "\n",
        "def twtt(dfname):  \n",
        "  lists = np.array(dfname['CONSULT_CONT'].tolist())\n",
        "\n",
        "  morphs = [] \n",
        "  for sentence in lists: \n",
        "    morphs.append(postprocessor.pos(sentence)) \n",
        "\n",
        "  noun=[] \n",
        "\n",
        "  for sentence in morphs : \n",
        "    for word, tag in sentence : \n",
        "      if tag in ['Noun'] and len(word)>1:\n",
        "          noun.append(word)\n",
        "  count = Counter(noun)\n",
        "  words = dict(count.most_common(100)) \n",
        "  return words\n"
      ],
      "execution_count": null,
      "outputs": []
    },
    {
      "cell_type": "markdown",
      "metadata": {
        "id": "m44OxOl3B_Y8"
      },
      "source": [
        "## 초범"
      ]
    },
    {
      "cell_type": "markdown",
      "metadata": {
        "id": "s5dgYjyOBMiU"
      },
      "source": [
        "### 데이터프레임나누기"
      ]
    },
    {
      "cell_type": "code",
      "metadata": {
        "id": "8eZ9O7KB_-om"
      },
      "source": [
        "df_crime0_10 = df0[(df0['죄명']==10) | (df0['죄명']==20) | (df0['죄명']==50) | (df0['죄명']==60)] #강력범죄 [ 살인,강도,방화,폭행]\n",
        "\n",
        "df_crime0_20 = df0[(df0['죄명']==40) | (df0['죄명']==70) | (df0['죄명']==80)] #재산범죄 [절도, 횡령, 사기]\n",
        "\n",
        "df_crime0_30 = df0[(df0['죄명']==120) | (df0['죄명']==130) | (df0['죄명']==30)] #성범죄(성폭력, 성추행, 강간)"
      ],
      "execution_count": null,
      "outputs": []
    },
    {
      "cell_type": "markdown",
      "metadata": {
        "id": "wydyHiPR_Yig"
      },
      "source": [
        "### 초범 / 강력범죄 "
      ]
    },
    {
      "cell_type": "code",
      "metadata": {
        "id": "3v0gqj4S_Yih"
      },
      "source": [
        "words_crime0_10=twtt(df_crime0_10)"
      ],
      "execution_count": null,
      "outputs": []
    },
    {
      "cell_type": "code",
      "metadata": {
        "id": "PNCqqPLR_Yik"
      },
      "source": [
        "word_list_crime0_10 = sorted(words_crime0_10.items(), key=lambda x: x[1], reverse=True) # 내림차순\n",
        "word_list_crime0_10"
      ],
      "execution_count": null,
      "outputs": []
    },
    {
      "cell_type": "code",
      "metadata": {
        "id": "eH50VQGx_Yin"
      },
      "source": [
        "plt.rc('font',size=15)\n",
        "fontprop = fm.FontProperties(fname= '/usr/share/fonts/truetype/nanum/NanumBarunGothic.ttf', size=20)\n",
        "fig = plt.figure(figsize=(10,30))\n",
        "fig.patch.set_facecolor('white')\n",
        "max = 100\n",
        "sns_plot=sns.barplot([i[1] for i in word_list_crime0_10[:max]],\n",
        "            [i[0] for i in word_list_crime0_10[:max]])\n",
        "\n",
        "\n",
        "sns_plot.set_title(\"Frequency 100\")\n",
        "sns_plot.set_ylabel(\"단어\")\n",
        "sns_plot.set_xlabel(\"빈도\")\n",
        "fig = sns_plot.get_figure()\n",
        "fig.savefig('숙식_초범_강력범죄_빈도표.png')"
      ],
      "execution_count": null,
      "outputs": []
    },
    {
      "cell_type": "markdown",
      "metadata": {
        "id": "Mb1NQaZnA5vb"
      },
      "source": [
        "### 초범 / 재산범죄 "
      ]
    },
    {
      "cell_type": "code",
      "metadata": {
        "id": "85AkI0qFA5vf"
      },
      "source": [
        "words_crime0_20=twtt(df_crime0_20)"
      ],
      "execution_count": null,
      "outputs": []
    },
    {
      "cell_type": "code",
      "metadata": {
        "id": "-kKT_dlVA5vh"
      },
      "source": [
        "word_list_crime0_20 = sorted(words_crime0_20.items(), key=lambda x: x[1], reverse=True) # 내림차순\n",
        "word_list_crime0_20"
      ],
      "execution_count": null,
      "outputs": []
    },
    {
      "cell_type": "code",
      "metadata": {
        "id": "IS-F8QTGA5vk"
      },
      "source": [
        "plt.rc('font',size=15)\n",
        "fontprop = fm.FontProperties(fname= '/usr/share/fonts/truetype/nanum/NanumBarunGothic.ttf', size=20)\n",
        "fig = plt.figure(figsize=(10,30))\n",
        "fig.patch.set_facecolor('white')\n",
        "max = 100\n",
        "sns_plot=sns.barplot([i[1] for i in word_list_crime0_20[:max]],\n",
        "            [i[0] for i in word_list_crime0_20[:max]])\n",
        "\n",
        "\n",
        "sns_plot.set_title(\"Frequency 100\")\n",
        "sns_plot.set_ylabel(\"단어\")\n",
        "sns_plot.set_xlabel(\"빈도\")\n",
        "fig = sns_plot.get_figure()\n",
        "fig.savefig('숙식_초범_재산범죄_빈도표.png')"
      ],
      "execution_count": null,
      "outputs": []
    },
    {
      "cell_type": "markdown",
      "metadata": {
        "id": "C2p34OqPBbXq"
      },
      "source": [
        "### 초범 / 성범죄 "
      ]
    },
    {
      "cell_type": "code",
      "metadata": {
        "id": "YaKzfWONBbXs"
      },
      "source": [
        "words_crime0_30=twtt(df_crime0_30)"
      ],
      "execution_count": null,
      "outputs": []
    },
    {
      "cell_type": "code",
      "metadata": {
        "id": "2IMVRoguBbXv"
      },
      "source": [
        "word_list_crime0_30 = sorted(words_crime0_30.items(), key=lambda x: x[1], reverse=True) # 내림차순\n",
        "word_list_crime0_30"
      ],
      "execution_count": null,
      "outputs": []
    },
    {
      "cell_type": "code",
      "metadata": {
        "id": "icoHAo1NBbXy"
      },
      "source": [
        "plt.rc('font',size=15)\n",
        "fontprop = fm.FontProperties(fname= '/usr/share/fonts/truetype/nanum/NanumBarunGothic.ttf', size=20)\n",
        "fig = plt.figure(figsize=(10,30))\n",
        "fig.patch.set_facecolor('white')\n",
        "max = 100\n",
        "sns_plot=sns.barplot([i[1] for i in word_list_crime0_30[:max]],\n",
        "            [i[0] for i in word_list_crime0_30[:max]])\n",
        "\n",
        "\n",
        "sns_plot.set_title(\"Frequency 100\")\n",
        "sns_plot.set_ylabel(\"단어\")\n",
        "sns_plot.set_xlabel(\"빈도\")\n",
        "fig = sns_plot.get_figure()\n",
        "fig.savefig('숙식_초범_성범죄_빈도표.png')"
      ],
      "execution_count": null,
      "outputs": []
    },
    {
      "cell_type": "markdown",
      "metadata": {
        "id": "snDOmiCw_Yir"
      },
      "source": [
        "### 히트맵"
      ]
    },
    {
      "cell_type": "code",
      "metadata": {
        "id": "N80dQCeuAzyA"
      },
      "source": [
        "\n",
        "df = pd.DataFrame([words_crime0_10, words_crime0_20, words_crime0_30]).T\n",
        "df.columns = ['강력범죄','재산범죄','성범죄']\n",
        "\n",
        "df = df.apply(lambda x : x / np.sum(x))\n",
        "df = df.apply(lambda x : (x-np.min(x)) / (np.max(x)-np.min(x))) #Heatmap에 상대적인 빈도수 출력하고싶을때\n",
        "\n",
        "plt.rc('font',size=16)\n",
        "figure = plt.figure(figsize=(8,10))\n",
        "ax = plt.axes()\n",
        "heat=sns.heatmap(df.sort_values(df.columns[0], ascending=False).iloc[:15], annot=True, fmt = '.3f', linewidths=0.3, cmap = 'Blues', ax = ax)\n",
        "plt.show()\n",
        "figure.savefig('초범일때 죄명별 분석 히트맵.png', format='png',dpi=1200)\n"
      ],
      "execution_count": null,
      "outputs": []
    },
    {
      "cell_type": "markdown",
      "metadata": {
        "id": "D8jx54k5CCBY"
      },
      "source": [
        "## 재범1회"
      ]
    },
    {
      "cell_type": "markdown",
      "metadata": {
        "id": "PBGF5LUZCCBa"
      },
      "source": [
        "### 데이터프레임나누기"
      ]
    },
    {
      "cell_type": "code",
      "metadata": {
        "id": "H5mSQZgcCCBb"
      },
      "source": [
        "df_crime1_10 = df1[(df1['죄명']==10) | (df1['죄명']==20) | (df1['죄명']==50) | (df1['죄명']==60)] #강력범죄 [ 살인,강도,방화,폭행]\n",
        "\n",
        "df_crime1_20 = df1[(df1['죄명']==40) | (df1['죄명']==70) | (df1['죄명']==80)] #재산범죄 [절도, 횡령, 사기]\n",
        "\n",
        "df_crime1_30 = df1[(df1['죄명']==120) | (df1['죄명']==130) | (df1['죄명']==30)] #성범죄(성폭력, 성추행, 강간)"
      ],
      "execution_count": null,
      "outputs": []
    },
    {
      "cell_type": "markdown",
      "metadata": {
        "id": "mwps8lCNCCBe"
      },
      "source": [
        "### 재범1회 / 강력범죄 "
      ]
    },
    {
      "cell_type": "code",
      "metadata": {
        "id": "XpIcIo_6CCBe"
      },
      "source": [
        "words_crime1_10=twtt(df_crime1_10)"
      ],
      "execution_count": null,
      "outputs": []
    },
    {
      "cell_type": "code",
      "metadata": {
        "id": "cBdySY9WCCBg"
      },
      "source": [
        "word_list_crime1_10 = sorted(words_crime1_10.items(), key=lambda x: x[1], reverse=True) # 내림차순\n",
        "word_list_crime1_10"
      ],
      "execution_count": null,
      "outputs": []
    },
    {
      "cell_type": "code",
      "metadata": {
        "id": "Z-iVesdECCBj"
      },
      "source": [
        "plt.rc('font',size=15)\n",
        "fontprop = fm.FontProperties(fname= '/usr/share/fonts/truetype/nanum/NanumBarunGothic.ttf', size=20)\n",
        "fig = plt.figure(figsize=(10,30))\n",
        "fig.patch.set_facecolor('white')\n",
        "max = 100\n",
        "sns_plot=sns.barplot([i[1] for i in word_list_crime1_10[:max]],\n",
        "            [i[0] for i in word_list_crime1_10[:max]])\n",
        "\n",
        "\n",
        "sns_plot.set_title(\"Frequency 100\")\n",
        "sns_plot.set_ylabel(\"단어\")\n",
        "sns_plot.set_xlabel(\"빈도\")\n",
        "fig = sns_plot.get_figure()\n",
        "fig.savefig('숙식_재범1회_강력범죄_빈도표.png')"
      ],
      "execution_count": null,
      "outputs": []
    },
    {
      "cell_type": "markdown",
      "metadata": {
        "id": "c2UUmKiBCCBl"
      },
      "source": [
        "### 재범1회 / 재산범죄 "
      ]
    },
    {
      "cell_type": "code",
      "metadata": {
        "id": "4fb8n7RKCCBl"
      },
      "source": [
        "words_crime1_20=twtt(df_crime1_20)"
      ],
      "execution_count": null,
      "outputs": []
    },
    {
      "cell_type": "code",
      "metadata": {
        "id": "0jeEvSMnCCBn"
      },
      "source": [
        "word_list_crime1_20 = sorted(words_crime1_20.items(), key=lambda x: x[1], reverse=True) # 내림차순\n",
        "word_list_crime1_20"
      ],
      "execution_count": null,
      "outputs": []
    },
    {
      "cell_type": "code",
      "metadata": {
        "id": "90_VD0pcCCBp"
      },
      "source": [
        "plt.rc('font',size=15)\n",
        "fontprop = fm.FontProperties(fname= '/usr/share/fonts/truetype/nanum/NanumBarunGothic.ttf', size=20)\n",
        "fig = plt.figure(figsize=(10,30))\n",
        "fig.patch.set_facecolor('white')\n",
        "max = 100\n",
        "sns_plot=sns.barplot([i[1] for i in word_list_crime1_20[:max]],\n",
        "            [i[0] for i in word_list_crime1_20[:max]])\n",
        "\n",
        "\n",
        "sns_plot.set_title(\"Frequency 100\")\n",
        "sns_plot.set_ylabel(\"단어\")\n",
        "sns_plot.set_xlabel(\"빈도\")\n",
        "fig = sns_plot.get_figure()\n",
        "fig.savefig('숙식_재범1회_재산범죄_빈도표.png')"
      ],
      "execution_count": null,
      "outputs": []
    },
    {
      "cell_type": "markdown",
      "metadata": {
        "id": "wteDrZBkCCBr"
      },
      "source": [
        "### 재범1회 / 성범죄 "
      ]
    },
    {
      "cell_type": "code",
      "metadata": {
        "id": "80S2VvDcCCBr"
      },
      "source": [
        "words_crime1_30=twtt(df_crime1_30)"
      ],
      "execution_count": null,
      "outputs": []
    },
    {
      "cell_type": "code",
      "metadata": {
        "id": "ykwsvSvaCCBt"
      },
      "source": [
        "word_list_crime1_30 = sorted(words_crime1_30.items(), key=lambda x: x[1], reverse=True) # 내림차순\n",
        "word_list_crime1_30"
      ],
      "execution_count": null,
      "outputs": []
    },
    {
      "cell_type": "code",
      "metadata": {
        "id": "Hrfnp82bCCBu"
      },
      "source": [
        "plt.rc('font',size=15)\n",
        "fontprop = fm.FontProperties(fname= '/usr/share/fonts/truetype/nanum/NanumBarunGothic.ttf', size=20)\n",
        "fig = plt.figure(figsize=(10,30))\n",
        "fig.patch.set_facecolor('white')\n",
        "max = 100\n",
        "sns_plot=sns.barplot([i[1] for i in word_list_crime1_30[:max]],\n",
        "            [i[0] for i in word_list_crime1_30[:max]])\n",
        "\n",
        "\n",
        "sns_plot.set_title(\"Frequency 100\")\n",
        "sns_plot.set_ylabel(\"단어\")\n",
        "sns_plot.set_xlabel(\"빈도\")\n",
        "fig = sns_plot.get_figure()\n",
        "fig.savefig('숙식_재범1회_성범죄_빈도표.png')"
      ],
      "execution_count": null,
      "outputs": []
    },
    {
      "cell_type": "markdown",
      "metadata": {
        "id": "AstUFvs3CCBw"
      },
      "source": [
        "### 히트맵"
      ]
    },
    {
      "cell_type": "code",
      "metadata": {
        "id": "XTo_xXPPCCBx"
      },
      "source": [
        "\n",
        "df = pd.DataFrame([words_crime1_10, words_crime1_20, words_crime1_30]).T\n",
        "df.columns = ['강력범죄','재산범죄','성범죄']\n",
        "\n",
        "df = df.apply(lambda x : x / np.sum(x))\n",
        "df = df.apply(lambda x : (x-np.min(x)) / (np.max(x)-np.min(x))) #Heatmap에 상대적인 빈도수 출력하고싶을때\n",
        "\n",
        "plt.rc('font',size=16)\n",
        "figure = plt.figure(figsize=(8,10))\n",
        "ax = plt.axes()\n",
        "heat=sns.heatmap(df.sort_values(df.columns[0], ascending=False).iloc[:15], annot=True, fmt = '.3f', linewidths=0.3, cmap = 'Blues', ax = ax)\n",
        "plt.show()\n",
        "figure.savefig('재범1회일때 죄명별 분석 히트맵.png', format='png',dpi=1200)\n"
      ],
      "execution_count": null,
      "outputs": []
    },
    {
      "cell_type": "markdown",
      "metadata": {
        "id": "rKAvD7IwFl3Q"
      },
      "source": [
        "## 재범2회"
      ]
    },
    {
      "cell_type": "markdown",
      "metadata": {
        "id": "stWHqJRzFl3V"
      },
      "source": [
        "### 데이터프레임나누기"
      ]
    },
    {
      "cell_type": "code",
      "metadata": {
        "id": "DdSayehFFl3V"
      },
      "source": [
        "df_crime2_10 = df2[(df2['죄명']==10) | (df2['죄명']==20) | (df2['죄명']==50) | (df2['죄명']==60)] #강력범죄 [ 살인,강도,방화,폭행]\n",
        "\n",
        "df_crime2_20 = df2[(df2['죄명']==40) | (df2['죄명']==70) | (df2['죄명']==80)] #재산범죄 [절도, 횡령, 사기]\n",
        "\n",
        "df_crime2_30 = df2[(df2['죄명']==120) | (df2['죄명']==130) | (df2['죄명']==30)] #성범죄(성폭력, 성추행, 강간)"
      ],
      "execution_count": null,
      "outputs": []
    },
    {
      "cell_type": "markdown",
      "metadata": {
        "id": "Zhio8fmKFl3Y"
      },
      "source": [
        "### 재범2회 / 강력범죄 "
      ]
    },
    {
      "cell_type": "code",
      "metadata": {
        "id": "ad8EDt1aFl3Y"
      },
      "source": [
        "words_crime2_10=twtt(df_crime2_10)"
      ],
      "execution_count": null,
      "outputs": []
    },
    {
      "cell_type": "code",
      "metadata": {
        "id": "Hfed0HOCFl3a"
      },
      "source": [
        "word_list_crime2_10 = sorted(words_crime2_10.items(), key=lambda x: x[1], reverse=True) # 내림차순\n",
        "word_list_crime2_10"
      ],
      "execution_count": null,
      "outputs": []
    },
    {
      "cell_type": "code",
      "metadata": {
        "id": "rr_sHOYhFl3d"
      },
      "source": [
        "plt.rc('font',size=15)\n",
        "fontprop = fm.FontProperties(fname= '/usr/share/fonts/truetype/nanum/NanumBarunGothic.ttf', size=20)\n",
        "fig = plt.figure(figsize=(10,30))\n",
        "fig.patch.set_facecolor('white')\n",
        "max = 100\n",
        "sns_plot=sns.barplot([i[1] for i in word_list_crime2_10[:max]],\n",
        "            [i[0] for i in word_list_crime2_10[:max]])\n",
        "\n",
        "\n",
        "sns_plot.set_title(\"Frequency 100\")\n",
        "sns_plot.set_ylabel(\"단어\")\n",
        "sns_plot.set_xlabel(\"빈도\")\n",
        "fig = sns_plot.get_figure()\n",
        "fig.savefig('숙식_재범2회_강력범죄_빈도표.png')"
      ],
      "execution_count": null,
      "outputs": []
    },
    {
      "cell_type": "markdown",
      "metadata": {
        "id": "rPckGl4XFl3f"
      },
      "source": [
        "### 재범2회 / 재산범죄 "
      ]
    },
    {
      "cell_type": "code",
      "metadata": {
        "id": "948sq_5pFl3f"
      },
      "source": [
        "words_crime2_20=twtt(df_crime2_20)"
      ],
      "execution_count": null,
      "outputs": []
    },
    {
      "cell_type": "code",
      "metadata": {
        "id": "TT8uL4oLFl3h"
      },
      "source": [
        "word_list_crime2_20 = sorted(words_crime2_20.items(), key=lambda x: x[1], reverse=True) # 내림차순\n",
        "word_list_crime2_20"
      ],
      "execution_count": null,
      "outputs": []
    },
    {
      "cell_type": "code",
      "metadata": {
        "id": "CsVCCY-qFl3j"
      },
      "source": [
        "plt.rc('font',size=15)\n",
        "fontprop = fm.FontProperties(fname= '/usr/share/fonts/truetype/nanum/NanumBarunGothic.ttf', size=20)\n",
        "fig = plt.figure(figsize=(10,30))\n",
        "fig.patch.set_facecolor('white')\n",
        "max = 100\n",
        "sns_plot=sns.barplot([i[1] for i in word_list_crime2_20[:max]],\n",
        "            [i[0] for i in word_list_crime2_20[:max]])\n",
        "\n",
        "\n",
        "sns_plot.set_title(\"Frequency 100\")\n",
        "sns_plot.set_ylabel(\"단어\")\n",
        "sns_plot.set_xlabel(\"빈도\")\n",
        "fig = sns_plot.get_figure()\n",
        "fig.savefig('숙식_재범2회_재산범죄_빈도표.png')"
      ],
      "execution_count": null,
      "outputs": []
    },
    {
      "cell_type": "markdown",
      "metadata": {
        "id": "kmNtGePjFl3k"
      },
      "source": [
        "### 재범2회 / 성범죄 "
      ]
    },
    {
      "cell_type": "code",
      "metadata": {
        "id": "mmobwLfqFl3k"
      },
      "source": [
        "words_crime2_30=twtt(df_crime2_30)"
      ],
      "execution_count": null,
      "outputs": []
    },
    {
      "cell_type": "code",
      "metadata": {
        "id": "wI8wIcoHFl3n"
      },
      "source": [
        "word_list_crime2_30 = sorted(words_crime2_30.items(), key=lambda x: x[1], reverse=True) # 내림차순\n",
        "word_list_crime2_30"
      ],
      "execution_count": null,
      "outputs": []
    },
    {
      "cell_type": "code",
      "metadata": {
        "id": "5t5yNatxFl3o"
      },
      "source": [
        "plt.rc('font',size=15)\n",
        "fontprop = fm.FontProperties(fname= '/usr/share/fonts/truetype/nanum/NanumBarunGothic.ttf', size=20)\n",
        "fig = plt.figure(figsize=(10,30))\n",
        "fig.patch.set_facecolor('white')\n",
        "max = 100\n",
        "sns_plot=sns.barplot([i[1] for i in word_list_crime2_30[:max]],\n",
        "            [i[0] for i in word_list_crime2_30[:max]])\n",
        "\n",
        "\n",
        "sns_plot.set_title(\"Frequency 100\")\n",
        "sns_plot.set_ylabel(\"단어\")\n",
        "sns_plot.set_xlabel(\"빈도\")\n",
        "fig = sns_plot.get_figure()\n",
        "fig.savefig('숙식_재범2회_성범죄_빈도표.png')"
      ],
      "execution_count": null,
      "outputs": []
    },
    {
      "cell_type": "markdown",
      "metadata": {
        "id": "kNWd8CqXFl3q"
      },
      "source": [
        "### 히트맵"
      ]
    },
    {
      "cell_type": "code",
      "metadata": {
        "id": "rwNl-LyIFl3q"
      },
      "source": [
        "\n",
        "df = pd.DataFrame([words_crime2_10, words_crime2_20, words_crime2_30]).T\n",
        "df.columns = ['강력범죄','재산범죄','성범죄']\n",
        "\n",
        "df = df.apply(lambda x : x / np.sum(x))\n",
        "df = df.apply(lambda x : (x-np.min(x)) / (np.max(x)-np.min(x))) #Heatmap에 상대적인 빈도수 출력하고싶을때\n",
        "\n",
        "plt.rc('font',size=16)\n",
        "figure = plt.figure(figsize=(8,10))\n",
        "ax = plt.axes()\n",
        "heat=sns.heatmap(df.sort_values(df.columns[0], ascending=False).iloc[:15], annot=True, fmt = '.3f', linewidths=0.3, cmap = 'Blues', ax = ax)\n",
        "plt.show()\n",
        "figure.savefig('재범2회일때 죄명별 분석 히트맵.png', format='png',dpi=1200)\n"
      ],
      "execution_count": null,
      "outputs": []
    },
    {
      "cell_type": "markdown",
      "metadata": {
        "id": "Y8HS4yvgGdLV"
      },
      "source": [
        "## 재범3회이상"
      ]
    },
    {
      "cell_type": "markdown",
      "metadata": {
        "id": "4P2LAXe_GdLX"
      },
      "source": [
        "### 데이터프레임나누기"
      ]
    },
    {
      "cell_type": "code",
      "metadata": {
        "id": "UAoT5dh9GdLY"
      },
      "source": [
        "df_crime3_10 = df3[(df3['죄명']==10) | (df3['죄명']==20) | (df3['죄명']==50) | (df3['죄명']==60)] #강력범죄 [ 살인,강도,방화,폭행]\n",
        "\n",
        "df_crime3_20 = df3[(df3['죄명']==40) | (df3['죄명']==70) | (df3['죄명']==80)] #재산범죄 [절도, 횡령, 사기]\n",
        "\n",
        "df_crime3_30 = df3[(df3['죄명']==120) | (df3['죄명']==130) | (df3['죄명']==30)] #성범죄(성폭력, 성추행, 강간)"
      ],
      "execution_count": null,
      "outputs": []
    },
    {
      "cell_type": "markdown",
      "metadata": {
        "id": "wkD6pBWTGdLb"
      },
      "source": [
        "### 재범3회 / 강력범죄 "
      ]
    },
    {
      "cell_type": "code",
      "metadata": {
        "id": "NfFIx0QkGdLb"
      },
      "source": [
        "words_crime3_10=twtt(df_crime3_10)"
      ],
      "execution_count": null,
      "outputs": []
    },
    {
      "cell_type": "code",
      "metadata": {
        "id": "eVo0pRQZGdLd"
      },
      "source": [
        "word_list_crime3_10 = sorted(words_crime3_10.items(), key=lambda x: x[1], reverse=True) # 내림차순\n",
        "word_list_crime3_10"
      ],
      "execution_count": null,
      "outputs": []
    },
    {
      "cell_type": "code",
      "metadata": {
        "id": "kj-gOmu1GdLg"
      },
      "source": [
        "plt.rc('font',size=15)\n",
        "fontprop = fm.FontProperties(fname= '/usr/share/fonts/truetype/nanum/NanumBarunGothic.ttf', size=20)\n",
        "fig = plt.figure(figsize=(10,30))\n",
        "fig.patch.set_facecolor('white')\n",
        "max = 100\n",
        "sns_plot=sns.barplot([i[1] for i in word_list_crime3_10[:max]],\n",
        "            [i[0] for i in word_list_crime3_10[:max]])\n",
        "\n",
        "\n",
        "sns_plot.set_title(\"Frequency 100\")\n",
        "sns_plot.set_ylabel(\"단어\")\n",
        "sns_plot.set_xlabel(\"빈도\")\n",
        "fig = sns_plot.get_figure()\n",
        "fig.savefig('숙식_재범3회이상_강력범죄_빈도표.png')"
      ],
      "execution_count": null,
      "outputs": []
    },
    {
      "cell_type": "markdown",
      "metadata": {
        "id": "zYb2JktoGdLi"
      },
      "source": [
        "### 재범3회 / 재산범죄 "
      ]
    },
    {
      "cell_type": "code",
      "metadata": {
        "id": "TD8TVjr6GdLi"
      },
      "source": [
        "words_crime3_20=twtt(df_crime3_20)"
      ],
      "execution_count": null,
      "outputs": []
    },
    {
      "cell_type": "code",
      "metadata": {
        "id": "Z8fFIEcsGdLk"
      },
      "source": [
        "word_list_crime3_20 = sorted(words_crime3_20.items(), key=lambda x: x[1], reverse=True) # 내림차순\n",
        "word_list_crime3_20"
      ],
      "execution_count": null,
      "outputs": []
    },
    {
      "cell_type": "code",
      "metadata": {
        "id": "zJJLnhncGdLl"
      },
      "source": [
        "plt.rc('font',size=15)\n",
        "fontprop = fm.FontProperties(fname= '/usr/share/fonts/truetype/nanum/NanumBarunGothic.ttf', size=20)\n",
        "fig = plt.figure(figsize=(10,30))\n",
        "fig.patch.set_facecolor('white')\n",
        "max = 100\n",
        "sns_plot=sns.barplot([i[1] for i in word_list_crime3_20[:max]],\n",
        "            [i[0] for i in word_list_crime3_20[:max]])\n",
        "\n",
        "\n",
        "sns_plot.set_title(\"Frequency 100\")\n",
        "sns_plot.set_ylabel(\"단어\")\n",
        "sns_plot.set_xlabel(\"빈도\")\n",
        "fig = sns_plot.get_figure()\n",
        "fig.savefig('숙식_재범3회이상_재산범죄_빈도표.png')"
      ],
      "execution_count": null,
      "outputs": []
    },
    {
      "cell_type": "markdown",
      "metadata": {
        "id": "r-8ESrXHGdLn"
      },
      "source": [
        "### 재범3회 / 성범죄 "
      ]
    },
    {
      "cell_type": "code",
      "metadata": {
        "id": "HQDxgEt1GdLo"
      },
      "source": [
        "words_crime3_30=twtt(df_crime3_30)"
      ],
      "execution_count": null,
      "outputs": []
    },
    {
      "cell_type": "code",
      "metadata": {
        "id": "UE6dRJoaGdLp"
      },
      "source": [
        "word_list_crime3_30 = sorted(words_crime3_30.items(), key=lambda x: x[1], reverse=True) # 내림차순\n",
        "word_list_crime3_30"
      ],
      "execution_count": null,
      "outputs": []
    },
    {
      "cell_type": "code",
      "metadata": {
        "id": "NEhdXU82GdLr"
      },
      "source": [
        "plt.rc('font',size=15)\n",
        "fontprop = fm.FontProperties(fname= '/usr/share/fonts/truetype/nanum/NanumBarunGothic.ttf', size=20)\n",
        "fig = plt.figure(figsize=(10,30))\n",
        "fig.patch.set_facecolor('white')\n",
        "max = 100\n",
        "sns_plot=sns.barplot([i[1] for i in word_list_crime3_30[:max]],\n",
        "            [i[0] for i in word_list_crime3_30[:max]])\n",
        "\n",
        "\n",
        "sns_plot.set_title(\"Frequency 100\")\n",
        "sns_plot.set_ylabel(\"단어\")\n",
        "sns_plot.set_xlabel(\"빈도\")\n",
        "fig = sns_plot.get_figure()\n",
        "fig.savefig('숙식_재범3회이상_성범죄_빈도표.png')"
      ],
      "execution_count": null,
      "outputs": []
    },
    {
      "cell_type": "markdown",
      "metadata": {
        "id": "t7SmzEZuGdLs"
      },
      "source": [
        "### 히트맵"
      ]
    },
    {
      "cell_type": "code",
      "metadata": {
        "id": "SH0KPOiEGdLt"
      },
      "source": [
        "\n",
        "df = pd.DataFrame([words_crime3_10, words_crime3_20, words_crime3_30]).T\n",
        "df.columns = ['강력범죄','재산범죄','성범죄']\n",
        "\n",
        "df = df.apply(lambda x : x / np.sum(x))\n",
        "df = df.apply(lambda x : (x-np.min(x)) / (np.max(x)-np.min(x))) #Heatmap에 상대적인 빈도수 출력하고싶을때\n",
        "\n",
        "plt.rc('font',size=16)\n",
        "figure = plt.figure(figsize=(8,10))\n",
        "ax = plt.axes()\n",
        "heat=sns.heatmap(df.sort_values(df.columns[0], ascending=False).iloc[:15], annot=True, fmt = '.3f', linewidths=0.3, cmap = 'Blues', ax = ax)\n",
        "plt.show()\n",
        "figure.savefig('재범3회이상일때 죄명별 분석 히트맵.png', format='png',dpi=1200)\n"
      ],
      "execution_count": null,
      "outputs": []
    },
    {
      "cell_type": "code",
      "metadata": {
        "id": "1Nws9gSAd0hH"
      },
      "source": [
        ""
      ],
      "execution_count": null,
      "outputs": []
    }
  ]
}