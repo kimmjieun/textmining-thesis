{
  "nbformat": 4,
  "nbformat_minor": 0,
  "metadata": {
    "colab": {
      "name": "thesis_analysis.ipynb",
      "provenance": [],
      "collapsed_sections": [
        "K4X83lKFGr3B",
        "3N1u46vtHv7v",
        "T1seVs5YPqey",
        "_ZGL5_1e6JJ6",
        "x75ok7DVuMBf",
        "nayaqhf1a7QZ",
        "NFg4S9lHijm_",
        "J8ZYxl8Siz8s",
        "MZVsL_sVfCGR",
        "5JcuWCbS1zXC",
        "F8HBIm-YSBxs",
        "ovoGDD4SRSq6",
        "rmhxJ968RSq9",
        "nPe7A0bhRSrJ",
        "p_B_1yavRSrK",
        "3TN82U-qRSr0",
        "wnXt6WqQRSr_",
        "oqHvdCTh22hi",
        "NsVbFo3A3L-X",
        "hg208My53RVm",
        "B2-slMoP22hr",
        "5laxJ7JS3uUy",
        "rMLqKiYD3xuz",
        "JlkmvdiX1n8E",
        "yxeJX9fzPiHS",
        "Vd2i1DDXPiHT",
        "Z44R-wGEPiHY",
        "1CCSUpuVPiHZ",
        "5YBsE5R6PiHi",
        "4HH4HZCIPiHn",
        "uS4_pGnWPiH0",
        "83aY6D9cPiH2",
        "YQbbYU6pPiID",
        "xHRYtLUM5PR8",
        "ejx3SNNK8Gi8",
        "ULiVhjZH6qvl",
        "oqCyWF9x8ZqB",
        "VjsLHWK-90Cq",
        "XpPqtFi8-DaH",
        "9mncp7Ce6tmb",
        "Ga1ayRNl6vPs",
        "iy51GTunsfj6",
        "dHy8A2eask21",
        "q0s_jWbXs9UJ",
        "SB5nvnHvtFaq"
      ]
    },
    "kernelspec": {
      "name": "python3",
      "display_name": "Python 3"
    },
    "accelerator": "GPU"
  },
  "cells": [
    {
      "cell_type": "markdown",
      "metadata": {
        "id": "view-in-github"
      },
      "source": [
        "<a href=\"https://colab.research.google.com/github/kimmjieun/textmining/blob/main/%EC%88%99%EC%8B%9D_%EA%B8%B0%EA%B0%84%EB%B3%84%EB%B6%84%EC%84%9D.ipynb\" target=\"_parent\"><img src=\"https://colab.research.google.com/assets/colab-badge.svg\" alt=\"Open In Colab\"/></a>"
      ]
    },
    {
      "cell_type": "code",
      "metadata": {
        "id": "12XNFdCLpYJf"
      },
      "source": [
        "#설치파일 , 글꼴 돌리고 다시시작 "
      ],
      "execution_count": null,
      "outputs": []
    },
    {
      "cell_type": "code",
      "metadata": {
        "id": "IDGf7FHzloW4",
        "colab": {
          "base_uri": "https://localhost:8080/"
        },
        "outputId": "e2ecf080-3d88-4d70-c85b-578649ee7a11"
      },
      "source": [
        "import sys\n",
        "print(sys.version)"
      ],
      "execution_count": null,
      "outputs": [
        {
          "output_type": "stream",
          "text": [
            "3.6.9 (default, Oct  8 2020, 12:12:24) \n",
            "[GCC 8.4.0]\n"
          ],
          "name": "stdout"
        }
      ]
    },
    {
      "cell_type": "markdown",
      "metadata": {
        "id": "K4X83lKFGr3B"
      },
      "source": [
        "# 설치파일\n"
      ]
    },
    {
      "cell_type": "code",
      "metadata": {
        "id": "Q4fwV7BAHSsB",
        "colab": {
          "base_uri": "https://localhost:8080/"
        },
        "outputId": "9033e319-9548-4852-ed4b-8482f3a50d6d"
      },
      "source": [
        "'''\n",
        "!apt-get update\n",
        "\n",
        "!apt-get install g++ openjdk-8-jdk python-dev python3-dev\n",
        "\n",
        "!pip3 install JPype1-py3\n",
        "\n",
        "!pip3 install konlpy\n",
        "\n",
        "!JAVA_HOME=\"/usr/lib/jvm/java-8-openjdk-amd64\"\n",
        "'''"
      ],
      "execution_count": null,
      "outputs": [
        {
          "output_type": "execute_result",
          "data": {
            "application/vnd.google.colaboratory.intrinsic+json": {
              "type": "string"
            },
            "text/plain": [
              "'\\n!apt-get update\\n\\n!apt-get install g++ openjdk-8-jdk python-dev python3-dev\\n\\n!pip3 install JPype1-py3\\n\\n!pip3 install konlpy\\n\\n!JAVA_HOME=\"/usr/lib/jvm/java-8-openjdk-amd64\"\\n'"
            ]
          },
          "metadata": {
            "tags": []
          },
          "execution_count": 1
        }
      ]
    },
    {
      "cell_type": "code",
      "metadata": {
        "id": "h4smFStJHXjE"
      },
      "source": [
        "import pandas as pd \n",
        "import matplotlib.pyplot as plt\n",
        "from collections import Counter\n",
        "from wordcloud import WordCloud \n",
        "import numpy as np\n",
        "\n",
        "\n",
        "import matplotlib.pyplot as plt\n",
        "\n",
        "import nltk\n",
        "from nltk.corpus import stopwords\n",
        "%matplotlib inline\n",
        "import seaborn as sns\n",
        "\n",
        "import warnings\n",
        "warnings.filterwarnings(action = 'ignore')\n"
      ],
      "execution_count": null,
      "outputs": []
    },
    {
      "cell_type": "code",
      "metadata": {
        "id": "J6yltvk0HZUV",
        "colab": {
          "base_uri": "https://localhost:8080/"
        },
        "outputId": "51df09db-845a-40c6-e348-b8aa560ede52"
      },
      "source": [
        "'''\n",
        "import jpype\n",
        "print(jpype.isJVMStarted()) #return False:not running or 0:running\n",
        "'''"
      ],
      "execution_count": null,
      "outputs": [
        {
          "output_type": "execute_result",
          "data": {
            "application/vnd.google.colaboratory.intrinsic+json": {
              "type": "string"
            },
            "text/plain": [
              "'\\nimport jpype\\nprint(jpype.isJVMStarted()) #return False:not running or 0:running\\n'"
            ]
          },
          "metadata": {
            "tags": []
          },
          "execution_count": 3
        }
      ]
    },
    {
      "cell_type": "code",
      "metadata": {
        "id": "iUF-bpL1HefQ",
        "colab": {
          "base_uri": "https://localhost:8080/"
        },
        "outputId": "7b31b143-433a-4f0d-c4de-de0df8674fa5"
      },
      "source": [
        "!pip install customized_konlpy"
      ],
      "execution_count": null,
      "outputs": [
        {
          "output_type": "stream",
          "text": [
            "Collecting customized_konlpy\n",
            "\u001b[?25l  Downloading https://files.pythonhosted.org/packages/07/8c/d39c483b637a6d85ab2d6da50012810628982bbd5279818bdc5dd1e7da51/customized_konlpy-0.0.64-py3-none-any.whl (881kB)\n",
            "\u001b[K     |████████████████████████████████| 890kB 9.4MB/s \n",
            "\u001b[?25hCollecting konlpy>=0.4.4\n",
            "\u001b[?25l  Downloading https://files.pythonhosted.org/packages/85/0e/f385566fec837c0b83f216b2da65db9997b35dd675e107752005b7d392b1/konlpy-0.5.2-py2.py3-none-any.whl (19.4MB)\n",
            "\u001b[K     |████████████████████████████████| 19.4MB 1.4MB/s \n",
            "\u001b[?25hCollecting Jpype1>=0.6.1\n",
            "\u001b[?25l  Downloading https://files.pythonhosted.org/packages/fd/96/1030895dea70855a2e1078e3fe0d6a63dcb7c212309e07dc9ee39d33af54/JPype1-1.1.2-cp36-cp36m-manylinux2010_x86_64.whl (450kB)\n",
            "\u001b[K     |████████████████████████████████| 460kB 46.7MB/s \n",
            "\u001b[?25hCollecting beautifulsoup4==4.6.0\n",
            "\u001b[?25l  Downloading https://files.pythonhosted.org/packages/9e/d4/10f46e5cfac773e22707237bfcd51bbffeaf0a576b0a847ec7ab15bd7ace/beautifulsoup4-4.6.0-py3-none-any.whl (86kB)\n",
            "\u001b[K     |████████████████████████████████| 92kB 13.6MB/s \n",
            "\u001b[?25hRequirement already satisfied: numpy>=1.6 in /usr/local/lib/python3.6/dist-packages (from konlpy>=0.4.4->customized_konlpy) (1.18.5)\n",
            "Collecting tweepy>=3.7.0\n",
            "  Downloading https://files.pythonhosted.org/packages/bb/7c/99d51f80f3b77b107ebae2634108717362c059a41384a1810d13e2429a81/tweepy-3.9.0-py2.py3-none-any.whl\n",
            "Requirement already satisfied: lxml>=4.1.0 in /usr/local/lib/python3.6/dist-packages (from konlpy>=0.4.4->customized_konlpy) (4.2.6)\n",
            "Collecting colorama\n",
            "  Downloading https://files.pythonhosted.org/packages/44/98/5b86278fbbf250d239ae0ecb724f8572af1c91f4a11edf4d36a206189440/colorama-0.4.4-py2.py3-none-any.whl\n",
            "Requirement already satisfied: typing-extensions; python_version < \"3.8\" in /usr/local/lib/python3.6/dist-packages (from Jpype1>=0.6.1->customized_konlpy) (3.7.4.3)\n",
            "Requirement already satisfied: requests-oauthlib>=0.7.0 in /usr/local/lib/python3.6/dist-packages (from tweepy>=3.7.0->konlpy>=0.4.4->customized_konlpy) (1.3.0)\n",
            "Requirement already satisfied: six>=1.10.0 in /usr/local/lib/python3.6/dist-packages (from tweepy>=3.7.0->konlpy>=0.4.4->customized_konlpy) (1.15.0)\n",
            "Requirement already satisfied: requests[socks]>=2.11.1 in /usr/local/lib/python3.6/dist-packages (from tweepy>=3.7.0->konlpy>=0.4.4->customized_konlpy) (2.23.0)\n",
            "Requirement already satisfied: oauthlib>=3.0.0 in /usr/local/lib/python3.6/dist-packages (from requests-oauthlib>=0.7.0->tweepy>=3.7.0->konlpy>=0.4.4->customized_konlpy) (3.1.0)\n",
            "Requirement already satisfied: chardet<4,>=3.0.2 in /usr/local/lib/python3.6/dist-packages (from requests[socks]>=2.11.1->tweepy>=3.7.0->konlpy>=0.4.4->customized_konlpy) (3.0.4)\n",
            "Requirement already satisfied: idna<3,>=2.5 in /usr/local/lib/python3.6/dist-packages (from requests[socks]>=2.11.1->tweepy>=3.7.0->konlpy>=0.4.4->customized_konlpy) (2.10)\n",
            "Requirement already satisfied: certifi>=2017.4.17 in /usr/local/lib/python3.6/dist-packages (from requests[socks]>=2.11.1->tweepy>=3.7.0->konlpy>=0.4.4->customized_konlpy) (2020.6.20)\n",
            "Requirement already satisfied: urllib3!=1.25.0,!=1.25.1,<1.26,>=1.21.1 in /usr/local/lib/python3.6/dist-packages (from requests[socks]>=2.11.1->tweepy>=3.7.0->konlpy>=0.4.4->customized_konlpy) (1.24.3)\n",
            "Requirement already satisfied: PySocks!=1.5.7,>=1.5.6; extra == \"socks\" in /usr/local/lib/python3.6/dist-packages (from requests[socks]>=2.11.1->tweepy>=3.7.0->konlpy>=0.4.4->customized_konlpy) (1.7.1)\n",
            "Installing collected packages: beautifulsoup4, tweepy, Jpype1, colorama, konlpy, customized-konlpy\n",
            "  Found existing installation: beautifulsoup4 4.6.3\n",
            "    Uninstalling beautifulsoup4-4.6.3:\n",
            "      Successfully uninstalled beautifulsoup4-4.6.3\n",
            "  Found existing installation: tweepy 3.6.0\n",
            "    Uninstalling tweepy-3.6.0:\n",
            "      Successfully uninstalled tweepy-3.6.0\n",
            "Successfully installed Jpype1-1.1.2 beautifulsoup4-4.6.0 colorama-0.4.4 customized-konlpy-0.0.64 konlpy-0.5.2 tweepy-3.9.0\n"
          ],
          "name": "stdout"
        }
      ]
    },
    {
      "cell_type": "code",
      "metadata": {
        "id": "hkG49c0fHgnw"
      },
      "source": [
        "from ckonlpy.tag import Twitter\n",
        "twitter = Twitter()"
      ],
      "execution_count": null,
      "outputs": []
    },
    {
      "cell_type": "code",
      "metadata": {
        "id": "i128LCeQrzjS"
      },
      "source": [
        "from google.colab import drive\n",
        "drive.mount('/content/drive')"
      ],
      "execution_count": null,
      "outputs": []
    },
    {
      "cell_type": "markdown",
      "metadata": {
        "id": "3N1u46vtHv7v"
      },
      "source": [
        "# 글꼴"
      ]
    },
    {
      "cell_type": "code",
      "metadata": {
        "id": "neOBjVw3Hi2Q"
      },
      "source": [
        "%matplotlib inline  \n",
        "import matplotlib as mpl  # 기본 설정 만지는 용도\n",
        "import matplotlib.pyplot as plt  # 그래프 그리는 용도\n",
        "import matplotlib.font_manager as fm  # 폰트 관련 용도"
      ],
      "execution_count": null,
      "outputs": []
    },
    {
      "cell_type": "code",
      "metadata": {
        "id": "anZwy2hvH2Pi"
      },
      "source": [
        "#나눔고딕인스톨\n",
        "!apt-get update -qq\n",
        "!apt-get install fonts-nanum* -qq"
      ],
      "execution_count": null,
      "outputs": []
    },
    {
      "cell_type": "code",
      "metadata": {
        "id": "3ZFAkMmAH3yW"
      },
      "source": [
        "# 체크해보면 폰트 개수가 늘어났다\n",
        "sys_font=fm.findSystemFonts()\n",
        "print(f\"sys_font number: {len(sys_font)}\")\n",
        "\n",
        "nanum_font = [f for f in sys_font if 'Nanum' in f]\n",
        "print(f\"nanum_font number: {len(nanum_font)}\")"
      ],
      "execution_count": null,
      "outputs": []
    },
    {
      "cell_type": "code",
      "metadata": {
        "id": "H-lWQOCYH_PT"
      },
      "source": [
        "# 한번 프린트 해보자\n",
        "nanum_font"
      ],
      "execution_count": null,
      "outputs": []
    },
    {
      "cell_type": "code",
      "metadata": {
        "id": "-FewIEOAIBZA"
      },
      "source": [
        "# 현재 설정되어 있는 폰트 사이즈와 글꼴을 알아보자\n",
        "!python --version\n",
        "def current_font():\n",
        "  print(f\"설정 폰트 글꼴: {plt.rcParams['font.family']}, 설정 폰트 사이즈: {plt.rcParams['font.size']}\")  # 파이썬 3.6 이상 사용가능하다\n",
        "        \n",
        "current_font()"
      ],
      "execution_count": null,
      "outputs": []
    },
    {
      "cell_type": "code",
      "metadata": {
        "id": "WI1q-OXMIFMP"
      },
      "source": [
        "path = '/usr/share/fonts/truetype/nanum/NanumGothic.ttf'  # 설치된 나눔글꼴중 원하는 녀석의 전체 경로를 가져오자\n",
        "font_name = fm.FontProperties(fname=path, size=10).get_name()\n",
        "print(font_name)\n",
        "plt.rc('font', family=font_name)"
      ],
      "execution_count": null,
      "outputs": []
    },
    {
      "cell_type": "code",
      "metadata": {
        "id": "ToUAUhhfIGxz"
      },
      "source": [
        "data = np.random.randint(-200, 100, 50).cumsum()\n",
        "data"
      ],
      "execution_count": null,
      "outputs": []
    },
    {
      "cell_type": "code",
      "metadata": {
        "id": "H0Yui0xZIK7i"
      },
      "source": [
        "# 그래프를 그려보자. 하지만 한글은 깨진다\n",
        "plt.plot(range(50), data, 'r')\n",
        "plt.title('시간별 가격 추이')\n",
        "plt.ylabel('주식 가격')\n",
        "plt.xlabel('시간(분)')\n",
        "plt.style.use('seaborn-pastel')\n",
        "plt.show()"
      ],
      "execution_count": null,
      "outputs": []
    },
    {
      "cell_type": "code",
      "metadata": {
        "id": "BSwqewRuIMT9"
      },
      "source": [
        "fm._rebuild()"
      ],
      "execution_count": null,
      "outputs": []
    },
    {
      "cell_type": "markdown",
      "metadata": {
        "id": "T1seVs5YPqey"
      },
      "source": [
        "# 0) 그룹핑"
      ]
    },
    {
      "cell_type": "code",
      "metadata": {
        "id": "gQx5bOP7INzJ"
      },
      "source": [
        "df = pd.read_excel(\"/content/drive/My Drive/data2_5.xlsx\")\n"
      ],
      "execution_count": null,
      "outputs": []
    },
    {
      "cell_type": "code",
      "metadata": {
        "id": "2OE--z2tnSes"
      },
      "source": [
        "df = df[(df['CARE_OPEN_CLASS_NM']==10)]\n",
        "df"
      ],
      "execution_count": null,
      "outputs": []
    },
    {
      "cell_type": "code",
      "metadata": {
        "id": "LXcSJVuGf0eK"
      },
      "source": [
        "df=df.sort_values(by=['DSJ_JUMIN_NO','DSJ_CARD_NO','CONSULT_DATE'])\n",
        "df"
      ],
      "execution_count": null,
      "outputs": []
    },
    {
      "cell_type": "code",
      "metadata": {
        "id": "4Y6iwIC-3Fhm"
      },
      "source": [
        "df['CONSULT_DATE'] = pd.to_datetime(df['CONSULT_DATE'],format ='%Y%m%d')\n",
        "df"
      ],
      "execution_count": null,
      "outputs": []
    },
    {
      "cell_type": "code",
      "metadata": {
        "id": "k15f___43Inu"
      },
      "source": [
        "jumin = df.iat[0,1] \n",
        "date = df.iat[0,2]\n",
        "\n",
        "print(jumin)\n",
        "print(date)"
      ],
      "execution_count": null,
      "outputs": []
    },
    {
      "cell_type": "code",
      "metadata": {
        "id": "DENP_gSb3L3f"
      },
      "source": [
        "from datetime import datetime, timedelta\n",
        "\n",
        "count = 0\n",
        "group=[]\n",
        "i=0\n",
        "\n",
        "for index, row in df.iterrows():\n",
        "   # if row[1]=='주민번호(비식별)':\n",
        "    #    continue\n",
        "    \n",
        "    if jumin != row[1]:\n",
        "      count=0\n",
        "      i=0\n",
        "      jumin = row[1]\n",
        "      date = row[2]\n",
        "\n",
        "    if ((row[2] - date) >= timedelta(30)):\n",
        "      count+=1\n",
        "      date = row[2]\n",
        "      i+=1\n",
        "\n",
        "    group.append(count)\n",
        "    \n"
      ],
      "execution_count": null,
      "outputs": []
    },
    {
      "cell_type": "code",
      "metadata": {
        "id": "Ft2CYknG3OGQ"
      },
      "source": [
        "df['GROUP'] = group\n",
        "df"
      ],
      "execution_count": null,
      "outputs": []
    },
    {
      "cell_type": "code",
      "metadata": {
        "id": "0BCrwKHc4vn_"
      },
      "source": [
        "df.to_excel(\"data2_5_group.xlsx\")"
      ],
      "execution_count": null,
      "outputs": []
    },
    {
      "cell_type": "markdown",
      "metadata": {
        "id": "_ZGL5_1e6JJ6"
      },
      "source": [
        "#1) 전처리"
      ]
    },
    {
      "cell_type": "code",
      "metadata": {
        "id": "pJ1VBldW6Nca"
      },
      "source": [
        "df = pd.read_excel(\"/content/drive/My Drive/data2_5_group.xlsx\")\n",
        "\n",
        "df = df[(df['CARE_OPEN_CLASS_NM']==10)]\n",
        "df"
      ],
      "execution_count": null,
      "outputs": []
    },
    {
      "cell_type": "code",
      "metadata": {
        "id": "DLfx1HKg72A6"
      },
      "source": [
        "twitter.add_dictionary(['허그집단프로그램','담당직원','사회복귀','당직자', '숙식보호', '직업훈련', '적극적', '보호관찰', '프로그램 종료', '지원이유', '지금', '특별한사항', '이행사항', '용접기술교육원', '취업알선', '특수용접기능사', '유의사항', '취업박람회', '허그일자리프로그램', '건강관리', '긴급원호', '상기 인', '야간반', '여성기술교육원', '용접배관', '주거지원자', '가족관계', '허그일자리지원프로그램', '고용보험', '상기자', '영농기술교육원', '안전사고', '안정적', '준수사항', '보호종료', '취업지원 프로그램', '구직활동', '대형면허', '건축도장기능사', '건강문제', '친구들', '거주지', '집단상담', '시설관리직', '필기합격', '긍정적', '주거지원', '출결관리', '가족부양', '참여자', '허그 일자리 프로그램', '전기기술교육원', '이행상황', '자기관리', '기술교육원', '기초수급자', '정산금', '특이사항', '애로사항', '용접기능사', '사후관리', '보호관찰법', '기계가공기술교육원', '지원기회', '보호사업', '보호관찰소', '생활 준칙', '위문물품', '법무보호가족교육원', '실기합격', '주거지', '지출관리', '외출 요청', '예치금', '생활관 준칙', '합동결혼식', '용접기능훈련', '미납금', '상기 대상자', '사회성향상 프로그램', '규칙적', '가족희망센터', '몸관리', '상기인', '보호관찰소장', '안전관리', '경제적', '입주자', '취업성공패키지', '보호위원', '허그일자리 프로그램', '허그일자리사업', '집단프로그램', '기초수급', '장기간', '허그 일자리 집단프로그램', '보호종료자', '자동차정비기술교육원', '허그일자리', '식구들', '변동사항', '생활관준칙', '용접훈련', '자립이행상황통보서'], 'Noun')"
      ],
      "execution_count": null,
      "outputs": []
    },
    {
      "cell_type": "code",
      "metadata": {
        "id": "Kec0a13l8Mmn"
      },
      "source": [
        "from ckonlpy.tag import Postprocessor\n",
        "\n",
        "\n",
        "\n",
        "stopwords= [ #날짜 계정 등 시기를 나타내는 토큰\n",
        "        '개월','금일', '기간','겨울','년도', '날짜','금월','까지', '날씨', '어제', '이번','최근', '추후','하루', '한번', '항상','현재','시일','조기','그동안',\n",
        "        '다음주','평소','차후','지난','요즘','아침','오전','오후','예전','한해','전일','여름','시기', '가끔','사이','최종','명일','향후',\n",
        "\n",
        "        #지역 위치나타내는 토큰\n",
        "        '경기도','김해','서울','울산','천안','당부',\n",
        "        \n",
        "        #관련없는 토큰\n",
        "        '결과', '경우', '계속', '계획', '공단', '과정', '관련', '관리','근황','기관','본인','다른', '다소', '다시', '다음', '담당', '담당자','실시','상기',\n",
        "        '대상자','멘토링','문자', '발생', '방문', '보고','상기인', '상담', '상태', '상황', '생활', '생활관', '소하', '스스로', '시간',\n",
        "        '아직', '여건', '예정', '외박', '외출', '요청','이야기', '이행','이후', '입소', '자신', '작성','정리', '정적', '제공', '제출', '조치', '종료',\n",
        "        '주거지원', '준비','지도','지원', '직원', '진행', '참여', '처리','통보','퇴소','확인', '활동','변경','가능','일부','심사','결정','강조',\n",
        "        '보호종료','개시','동일','파악','재차','사용','주기','연결','마무리', '사실','기재','얼마','의사','사료','참여자','기타','단계','완료', '귀하','혼자','당장',\n",
        "        '해당','인계','각종', '번호','취지','참고','보도','약간','대신','진단','물음','회의','양해','완전','부분','만료','상기 대상자','상기자','패키지','가장',\n",
        "\n",
        "        #쓸모없는 토큰\n",
        "        '가지','고자', '고함','구들', '금은','기반', '기하','동안', '되어', '드림', '때문', '또한', '려고', '로부터','다해' ,'대하', '대한', '대해', '더욱', '도로',\n",
        "        '만원', '만큼' , '면서', '모습', '문하', '바로',  '보이', '보임','부분계획', '부터', '부하', '사항', '않아', '양곡','어서','위해', '유의면서','이행상',\n",
        "        '인의', '인하','있는', '있다고', '있도록', '있어', '있으며', '있음', '자로','전하', '전함','정도','중이', '중임', '지소', '통해','특이', '하겠다고', '하고',\n",
        "        '하고자', '하기', '하는', '하도록','하며', '하면서', '하여', '하였으며', '하였음', '하자', '하지','해주','통한','다가','처럼','하라','주지','무하','더라도','요하',\n",
        "        '여부','중인','달라', '물어','어가','상의','고하','라하','대로','어보','지고','이하','한지','각하','영하','알리','여러','바란','아무','이제','서도','당하','여서',\n",
        "        '립하','보기','로서','도래','지원이','남지','가기','지원기','조리','간다','만하','주어','시킴', '리지','아지','고용보', '족하','어도','성하','교하','일이','기해',\n",
        "        '일해','해하','달이','결하','조성하','제하','장일','도중','소가','심해','일어','일도','을시','도록','시운전', '이루',\n",
        "        \n",
        "        #청소년 관련 단어 \n",
        "        \"최선\", \"면담\", \"특이사항\", \"이행상황\", \"사업\", \"전달\", \"사무실\",\n",
        "        \"설명\", \"관계\", \"특별\", \"안전사고\", \"가정\", \"마음\", \"철저\", \"아보\", \"명절\",\"사하\", \"원호\", \"환경\"\n",
        "        \n",
        "        ]\n",
        "\n",
        "\n",
        "replace = {'주소지':'거주기','주거지':'거주지', '행동':'태도', '애로':'특이', '주의':'유의', '상황':'상태',\n",
        "           '열심':'성실', '관리':'조치',  '애로':'필요', '직장':'업무', '회사':'일자리', '지부':'공단',\n",
        "           '근로':'근무', '근속':'근무',\n",
        "           '불편':'문제', '어려움':'문제', \n",
        "           '지지':'독려', '격려':'독려',\n",
        "           '의지':'노력',\n",
        "           '지금':'현재', '오늘':'현재',\n",
        "           '전화':'연락', '통화':'연락','유선':'연락',\n",
        "           '체납':'연체', '미납':'연체'\n",
        "           ,'안정적':'안정'\n",
        "           }\n",
        "\n",
        "postprocessor = Postprocessor(twitter, replace = replace, passtags = 'Noun', stopwords = stopwords)"
      ],
      "execution_count": null,
      "outputs": []
    },
    {
      "cell_type": "code",
      "metadata": {
        "id": "SMMM9H908P-d"
      },
      "source": [
        "\n",
        "def twtt(dfname):  # 단어별빈도수\n",
        "  lists = np.array(dfname['CONSULT_CONT'].tolist())\n",
        "\n",
        "  morphs = [] \n",
        "  for sentence in lists: \n",
        "    morphs.append(postprocessor.pos(sentence)) \n",
        "\n",
        "  noun=[] \n",
        "\n",
        "  for sentence in morphs : \n",
        "    for word, tag in sentence : \n",
        "      if tag in ['Noun'] and len(word)>1:\n",
        "          noun.append(word) # 단어를 추가 하는 것 \n",
        "  count = Counter(noun)\n",
        "  words = dict(count.most_common(100)) \n",
        "\n",
        "  return words\n",
        "\n",
        "\n",
        "# 문장마다 나오는 명사를 뽑아야함 \n",
        "\n",
        "def twtt_network(dfname):\n",
        "  dataset=[]\n",
        "  lists = np.array(dfname['CONSULT_CONT'].tolist()) \n",
        "\n",
        "  morphs = [] \n",
        "  for sentence in lists: \n",
        "    morphs.append(postprocessor.pos(sentence))  #전처리된 문장  \n",
        "  \n",
        "  dataset=[]\n",
        "\n",
        "  for sentence in morphs:\n",
        "    newlist = [word for word,tag in sentence  if tag in ['Noun'] and len(word)>1]\n",
        "\n",
        "    dataset.append(newlist)\n",
        "\n",
        "  return dataset\n",
        " \n",
        " \n",
        "\n",
        "def twtt2(dfname):  # 단어별빈도수\n",
        "  lists = np.array(dfname['CONSULT_CONT'].tolist())\n",
        "\n",
        "  morphs = [] \n",
        "  for sentence in lists: \n",
        "    morphs.append(postprocessor.pos(sentence)) \n",
        "\n",
        "  noun=[] \n",
        "\n",
        "  for sentence in morphs : \n",
        "    for word, tag in sentence : \n",
        "      if tag in ['Noun'] and len(word)>1:\n",
        "          noun.append(word) # 단어를 추가 하는 것 \n",
        "  count = Counter(noun)\n",
        "  words = dict(count.most_common()) \n",
        "\n",
        "  return words\n",
        "\n",
        "\n"
      ],
      "execution_count": null,
      "outputs": []
    },
    {
      "cell_type": "markdown",
      "metadata": {
        "id": "x75ok7DVuMBf"
      },
      "source": [
        "# 빈도수"
      ]
    },
    {
      "cell_type": "code",
      "metadata": {
        "id": "C0V4aTLgt9bb"
      },
      "source": [
        "words0=twtt(df) "
      ],
      "execution_count": null,
      "outputs": []
    },
    {
      "cell_type": "code",
      "metadata": {
        "id": "m_1WluV4t9bc"
      },
      "source": [
        "word_list0 = sorted(words0.items(), key=lambda x: x[1], reverse=True) \n",
        "word_list0 "
      ],
      "execution_count": null,
      "outputs": []
    },
    {
      "cell_type": "code",
      "metadata": {
        "id": "bXngWt_Et9bg"
      },
      "source": [
        "\n",
        "with open('전체_빈도.txt', 'w') as f:\n",
        "  for line in word_list0:\n",
        "\n",
        "    f.write(str(line))\n",
        "    f.write(\"\\n\")\n",
        "\n",
        "\n",
        "\n",
        "\n",
        "\n"
      ],
      "execution_count": null,
      "outputs": []
    },
    {
      "cell_type": "code",
      "metadata": {
        "id": "klnzpsQUt9bh"
      },
      "source": [
        "plt.rc('font',size=15)\n",
        "fontprop = fm.FontProperties(fname= '/usr/share/fonts/truetype/nanum/NanumBarunGothic.ttf', size=20)\n",
        "fig = plt.figure(figsize=(10,30))\n",
        "fig.patch.set_facecolor('white')\n",
        "max = 100\n",
        "sns_plot=sns.barplot([i[1] for i in word_list0[:max]],\n",
        "            [i[0] for i in word_list0[:max]])\n",
        "\n",
        "\n",
        "sns_plot.set_title(\"Frequency 100\")\n",
        "sns_plot.set_ylabel(\"단어\")\n",
        "sns_plot.set_xlabel(\"빈도\")\n",
        "fig = sns_plot.get_figure()\n",
        "fig.savefig('전체_빈도.png')"
      ],
      "execution_count": null,
      "outputs": []
    },
    {
      "cell_type": "markdown",
      "metadata": {
        "id": "nayaqhf1a7QZ"
      },
      "source": [
        "# 동시출현빈도"
      ]
    },
    {
      "cell_type": "code",
      "metadata": {
        "id": "DK8BBvj9bDDK"
      },
      "source": [
        "token_list = twtt_network(df)"
      ],
      "execution_count": null,
      "outputs": []
    },
    {
      "cell_type": "markdown",
      "metadata": {
        "id": "024hl1BXicM1"
      },
      "source": [
        "#### 5개 연관"
      ]
    },
    {
      "cell_type": "code",
      "metadata": {
        "id": "Epz2_b4-Spsa"
      },
      "source": [
        "new_list=[]\n",
        "word_list = ['독려', '문제', '안내', '교육','희망']\n",
        "for tlist in token_list:\n",
        "  result =  all(elem in tlist  for elem in word_list) # 2가 1에 속해 있을때\n",
        "  if result:\n",
        "      new_list.append(tlist)\n",
        "len(new_list)"
      ],
      "execution_count": null,
      "outputs": []
    },
    {
      "cell_type": "code",
      "metadata": {
        "id": "0_JGHoSOTor3"
      },
      "source": [
        "count = {}   #동시출현 빈도가 저장될 dict\n",
        "for article in new_list:\n",
        "    article = list(set(article)) #중복제거 \n",
        "    for i, a in enumerate(article):\n",
        "        for b in article[i:]:\n",
        "            if a == b: continue   #같은 단어의 경우는 세지 않음\n",
        "            if a > b: a, b = b, a   #A, B와 B, A가 다르게 세어지는것을 막기 위해 항상 a < b로 순서 고정\n",
        "            count[a, b] = count.get((a, b), 0) + 1   #실제로 센다\n",
        "            break\n",
        "            \n"
      ],
      "execution_count": null,
      "outputs": []
    },
    {
      "cell_type": "code",
      "metadata": {
        "id": "xIYUZOJhTor5"
      },
      "source": [
        "count"
      ],
      "execution_count": null,
      "outputs": []
    },
    {
      "cell_type": "code",
      "metadata": {
        "id": "BRWsyKszTor7"
      },
      "source": [
        "\n",
        "sorted_x = sorted(count.items(), key=lambda kv: kv[1], reverse=True)\n",
        "sort_token=dict(sorted_x[:300])\n",
        "sort_token"
      ],
      "execution_count": null,
      "outputs": []
    },
    {
      "cell_type": "code",
      "metadata": {
        "id": "t8PyzF9hTor8"
      },
      "source": [
        "with open('연관_네트워크.txt', 'w') as f: \n",
        "  for key in sort_token:\n",
        "    result = str(key).replace('(','').replace(')','').replace(',','').replace('\\'','') \n",
        "    f.write(result) \n",
        "    f.write(\"\\n\") "
      ],
      "execution_count": null,
      "outputs": []
    },
    {
      "cell_type": "markdown",
      "metadata": {
        "id": "NFg4S9lHijm_"
      },
      "source": [
        "#### 전체 동시출현빈도"
      ]
    },
    {
      "cell_type": "code",
      "metadata": {
        "id": "pB8p2caGbDDQ"
      },
      "source": [
        "count = {}   #동시출현 빈도가 저장될 dict\n",
        "for article in token_list:\n",
        "    article = list(set(article)) #중복제거 \n",
        "    for i, a in enumerate(article):\n",
        "        for b in article[i:]:\n",
        "            if a == b: continue   #같은 단어의 경우는 세지 않음\n",
        "            if a > b: a, b = b, a   #A, B와 B, A가 다르게 세어지는것을 막기 위해 항상 a < b로 순서 고정\n",
        "            count[a, b] = count.get((a, b), 0) + 1   #실제로 센다\n",
        "            break\n",
        "            \n"
      ],
      "execution_count": null,
      "outputs": []
    },
    {
      "cell_type": "code",
      "metadata": {
        "id": "K2y5wAbsbDDS"
      },
      "source": [
        "count"
      ],
      "execution_count": null,
      "outputs": []
    },
    {
      "cell_type": "code",
      "metadata": {
        "id": "sjVcC03nbDDa"
      },
      "source": [
        "with open('전체_동시출현빈도.txt', 'w') as f:\n",
        "  for key,value in count.items():\n",
        "    result = str(key) + \" : \" + str(value)\n",
        "    f.write(result)\n",
        "    f.write(\"\\n\")"
      ],
      "execution_count": null,
      "outputs": []
    },
    {
      "cell_type": "markdown",
      "metadata": {
        "id": "J8ZYxl8Siz8s"
      },
      "source": [
        "#### 전체 동시출현빈도2 - 정렬"
      ]
    },
    {
      "cell_type": "code",
      "metadata": {
        "id": "9qYo8FwY4jDJ"
      },
      "source": [
        "sorted_x = sorted(count.items(), key=lambda kv: kv[1], reverse=True)\n",
        "sorted_x"
      ],
      "execution_count": null,
      "outputs": []
    },
    {
      "cell_type": "code",
      "metadata": {
        "id": "EuSzER9u4yGY"
      },
      "source": [
        "with open('전체_동시출현빈도2.txt', 'w') as f:\n",
        "  for key in sorted_x:\n",
        "    result = str(key) \n",
        "    f.write(result)\n",
        "    f.write(\"\\n\")"
      ],
      "execution_count": null,
      "outputs": []
    },
    {
      "cell_type": "markdown",
      "metadata": {
        "id": "MZVsL_sVfCGR"
      },
      "source": [
        "#### 특정단어 빈도수 (키워드 연관성분석 결과)"
      ]
    },
    {
      "cell_type": "code",
      "metadata": {
        "id": "EgkfNslYf13z"
      },
      "source": [
        "count = {}   #동시출현 빈도가 저장될 dict\n",
        "for article in token_list:\n",
        "    article = list(set(article)) #중복제거 \n",
        "    for i, a in enumerate(article):\n",
        "        for b in article[i:]:\n",
        "            if a == b: continue   #같은 단어의 경우는 세지 않음\n",
        "            if a > b: a, b = b, a   #A, B와 B, A가 다르게 세어지는것을 막기 위해 항상 a < b로 순서 고정\n",
        "            count[a, b] = count.get((a, b), 0) + 1   #실제로 센다\n",
        "            break\n",
        "            \n"
      ],
      "execution_count": null,
      "outputs": []
    },
    {
      "cell_type": "code",
      "metadata": {
        "id": "LVZHmDN1g7vC"
      },
      "source": [
        "count"
      ],
      "execution_count": null,
      "outputs": []
    },
    {
      "cell_type": "code",
      "metadata": {
        "id": "MaM6U_phjAl-"
      },
      "source": [
        "sorted_x = sorted(count.items(), key=lambda kv: kv[1], reverse=True)\n",
        "sort_token=dict(sorted_x[:300])\n",
        "sort_token\n",
        "# 빈도수로  sort한건데 바꿔야함 빈도수 "
      ],
      "execution_count": null,
      "outputs": []
    },
    {
      "cell_type": "code",
      "metadata": {
        "id": "mDCHO29w5Skg"
      },
      "source": [
        "word_list= ['독려','문제','안내','교육','희망','노력']\n",
        "\n",
        "\n",
        "count =0\n",
        "lists=[]\n",
        "for word in word_list:\n",
        "  lists.append(word)\n",
        "  for key in sorted_x:\n",
        "    result = str(key)  \n",
        "    if word in result:\n",
        "      lists.append(result)    \n",
        "      count +=1\n",
        "    if count ==10:\n",
        "      count=0\n",
        "      break\n",
        "\n",
        "\n",
        "with open('키워드연관분석.txt', 'w') as f: \n",
        "  for key in lists:\n",
        "    result = str(key)\n",
        "    f.write(result) \n",
        "    f.write(\"\\n\") \n",
        "lists"
      ],
      "execution_count": null,
      "outputs": []
    },
    {
      "cell_type": "markdown",
      "metadata": {
        "id": "5JcuWCbS1zXC"
      },
      "source": [
        "# 네트워크_빈도"
      ]
    },
    {
      "cell_type": "code",
      "metadata": {
        "id": "vDHl7UM_vRgL"
      },
      "source": [
        "fre = twtt2(df)\n"
      ],
      "execution_count": null,
      "outputs": []
    },
    {
      "cell_type": "code",
      "metadata": {
        "id": "fY3LWAXiHIzc"
      },
      "source": [
        "fre"
      ],
      "execution_count": null,
      "outputs": []
    },
    {
      "cell_type": "code",
      "metadata": {
        "id": "5LKGqRFU11Gh"
      },
      "source": [
        "token_list = twtt_network(df) "
      ],
      "execution_count": null,
      "outputs": []
    },
    {
      "cell_type": "code",
      "metadata": {
        "id": "hfV4waVqOmoY"
      },
      "source": [
        "token_list"
      ],
      "execution_count": null,
      "outputs": []
    },
    {
      "cell_type": "code",
      "metadata": {
        "id": "8jVRS7NQ11Gl"
      },
      "source": [
        "count = {}   #동시출현 빈도가 저장될 dict\n",
        "for article in token_list:\n",
        "    article = list(set(article)) #중복제거 \n",
        "    for i, a in enumerate(article):\n",
        "        for b in article[i:]:\n",
        "            if a == b: continue   #같은 단어의 경우는 세지 않음\n",
        "            if a > b: a, b = b, a   #A, B와 B, A가 다르게 세어지는것을 막기 위해 항상 a < b로 순서 고정\n",
        "            count[a, b] = count.get((a, b), 0) + 1   #실제로 센다\n",
        "            break\n",
        "            \n"
      ],
      "execution_count": null,
      "outputs": []
    },
    {
      "cell_type": "code",
      "metadata": {
        "id": "xEAZae_411Gm"
      },
      "source": [
        "count"
      ],
      "execution_count": null,
      "outputs": []
    },
    {
      "cell_type": "code",
      "metadata": {
        "id": "HCOXiUhHpE0T"
      },
      "source": [
        "sorted_x = sorted(count.items(), key=lambda x: x[1], reverse=True)\n",
        "sorted_x"
      ],
      "execution_count": null,
      "outputs": []
    },
    {
      "cell_type": "code",
      "metadata": {
        "id": "mrI79SuIsMWC"
      },
      "source": [
        "sort_token = dict(sorted_x[:300])"
      ],
      "execution_count": null,
      "outputs": []
    },
    {
      "cell_type": "code",
      "metadata": {
        "id": "ec4FA789BnMI"
      },
      "source": [
        "sort_token "
      ],
      "execution_count": null,
      "outputs": []
    },
    {
      "cell_type": "code",
      "metadata": {
        "id": "8X0OrPekNFzi"
      },
      "source": [
        "with open('전체_네트워크3.txt', 'w') as f: \n",
        "  for key in sort_token:\n",
        "    result = str(key).replace('(','').replace(')','').replace(',','').replace('\\'','') \n",
        "    f.write(result) \n",
        "    f.write(\"\\n\") \n"
      ],
      "execution_count": null,
      "outputs": []
    },
    {
      "cell_type": "code",
      "metadata": {
        "id": "gLayA_GaCE3t"
      },
      "source": [
        "new_tuple=()\n",
        "for key in sort_token.keys():\n",
        "  new_tuple += key\n",
        "\n",
        "new_lists= list(new_tuple)\n",
        "word_network = new_lists\n",
        "word_network\n",
        "# 네트워크에 나오는 단어집합 "
      ],
      "execution_count": null,
      "outputs": []
    },
    {
      "cell_type": "code",
      "metadata": {
        "id": "_QidHqyWA-V8"
      },
      "source": [
        "\n",
        "with open('전체_빈도_네트워크.txt', 'w') as f: \n",
        "  for word in word_network: \n",
        "    #print(word)\n",
        "    for key,value in fre.items():\n",
        "      #print(word,key)\n",
        "      if word == key : \n",
        "        result=str(key)+' '+str(value)\n",
        "        print(result)\n",
        "        f.write(result)\n",
        "        f.write(\"\\n\")"
      ],
      "execution_count": null,
      "outputs": []
    },
    {
      "cell_type": "code",
      "metadata": {
        "id": "G6ijXEjbxKC8"
      },
      "source": [
        "#fre - 전체 빈도 \n",
        "# new_lists - 네트워크 단어 \n",
        "# 전체 빈도 리스트에서 네트워크에 해당되는 빈도만 뽑기 \n",
        "# 네트워크에 나온 단어를 리스트로 만들기 \n"
      ],
      "execution_count": null,
      "outputs": []
    },
    {
      "cell_type": "markdown",
      "metadata": {
        "id": "F8HBIm-YSBxs"
      },
      "source": [
        "# 네트워크"
      ]
    },
    {
      "cell_type": "code",
      "metadata": {
        "id": "o3tIh1--SBxt"
      },
      "source": [
        "token_list = twtt_network(df)"
      ],
      "execution_count": null,
      "outputs": []
    },
    {
      "cell_type": "code",
      "metadata": {
        "id": "oqFA76etSBxw"
      },
      "source": [
        "token_list"
      ],
      "execution_count": null,
      "outputs": []
    },
    {
      "cell_type": "code",
      "metadata": {
        "id": "VIP_a-81SBx0"
      },
      "source": [
        "count = {}   #동시출현 빈도가 저장될 dict\n",
        "for article in token_list:\n",
        "    article = list(set(article)) #중복제거 \n",
        "    for i, a in enumerate(article):\n",
        "        for b in article[i:]:\n",
        "            if a == b: continue   #같은 단어의 경우는 세지 않음\n",
        "            if a > b: a, b = b, a   #A, B와 B, A가 다르게 세어지는것을 막기 위해 항상 a < b로 순서 고정\n",
        "            count[a, b] = count.get((a, b), 0) + 1   #실제로 센다\n",
        "            break\n",
        "            \n"
      ],
      "execution_count": null,
      "outputs": []
    },
    {
      "cell_type": "code",
      "metadata": {
        "id": "ceojiNjYSBx3"
      },
      "source": [
        "count"
      ],
      "execution_count": null,
      "outputs": []
    },
    {
      "cell_type": "code",
      "metadata": {
        "id": "NtA4ksbPSBx6"
      },
      "source": [
        "count.keys()"
      ],
      "execution_count": null,
      "outputs": []
    },
    {
      "cell_type": "code",
      "metadata": {
        "id": "mdQSP6RFUlFq"
      },
      "source": [
        "list(count.key())"
      ],
      "execution_count": null,
      "outputs": []
    },
    {
      "cell_type": "code",
      "metadata": {
        "id": "ve4gocN5TgML"
      },
      "source": [
        "lists =list(count.keys())\n",
        "lists_n = []\n",
        "for i in lists:\n",
        "  temp=lists.split(',')\n",
        "  lists_n.append(temp)\n",
        "  break\n",
        "lists_n"
      ],
      "execution_count": null,
      "outputs": []
    },
    {
      "cell_type": "code",
      "metadata": {
        "id": "D0ghebWXSByC"
      },
      "source": [
        "sorted_x = sorted(count.items(), key=lambda x: x[1], reverse=True)\n",
        "sorted_x"
      ],
      "execution_count": null,
      "outputs": []
    },
    {
      "cell_type": "code",
      "metadata": {
        "id": "1PpZUXbBSByF"
      },
      "source": [
        "sorted_x[:300]"
      ],
      "execution_count": null,
      "outputs": []
    },
    {
      "cell_type": "code",
      "metadata": {
        "id": "puLj_PTJSByI"
      },
      "source": [
        "sort_token = dict(sorted_x[:300])"
      ],
      "execution_count": null,
      "outputs": []
    },
    {
      "cell_type": "code",
      "metadata": {
        "id": "3qmUgR-rSByK"
      },
      "source": [
        "with open('전체_빈도_네트워크.txt', 'w') as f:\n",
        "  for key,value in sort_token.items():\n",
        "    result = str(key).replace(\"\\'\",\"\").replace(\"(\",\"\").replace(\")\",\"\").replace(\",\",\"\") + \" \" +str(value)\n",
        "    f.write(result)\n",
        "    f.write(\"\\n\")\n"
      ],
      "execution_count": null,
      "outputs": []
    },
    {
      "cell_type": "code",
      "metadata": {
        "id": "fmxQ5Np1SByM"
      },
      "source": [
        "with open('전체_네트워크3.txt', 'w') as f: \n",
        "  for key in sort_token:\n",
        "    result = str(key).replace('(','').replace(')','').replace(',','').replace('\\'','') \n",
        "    f.write(result) \n",
        "    f.write(\"\\n\") "
      ],
      "execution_count": null,
      "outputs": []
    },
    {
      "cell_type": "markdown",
      "metadata": {
        "id": "ovoGDD4SRSq6"
      },
      "source": [
        "# 기간별 분석 0-6,6~"
      ]
    },
    {
      "cell_type": "markdown",
      "metadata": {
        "id": "rmhxJ968RSq9"
      },
      "source": [
        "##1) 나누기"
      ]
    },
    {
      "cell_type": "code",
      "metadata": {
        "id": "ua8Iw7U623PQ",
        "colab": {
          "base_uri": "https://localhost:8080/"
        },
        "outputId": "aefbe088-0682-4389-d691-76505bd353bb"
      },
      "source": [
        "df = pd.read_excel(\"/content/drive/My Drive/data2_5_group.xlsx\")\n",
        "\n",
        "df = df[(df['CARE_OPEN_CLASS_NM']==10)]\n",
        "df"
      ],
      "execution_count": null,
      "outputs": [
        {
          "output_type": "execute_result",
          "data": {
            "text/html": [
              "<div>\n",
              "<style scoped>\n",
              "    .dataframe tbody tr th:only-of-type {\n",
              "        vertical-align: middle;\n",
              "    }\n",
              "\n",
              "    .dataframe tbody tr th {\n",
              "        vertical-align: top;\n",
              "    }\n",
              "\n",
              "    .dataframe thead th {\n",
              "        text-align: right;\n",
              "    }\n",
              "</style>\n",
              "<table border=\"1\" class=\"dataframe\">\n",
              "  <thead>\n",
              "    <tr style=\"text-align: right;\">\n",
              "      <th></th>\n",
              "      <th>Unnamed: 0</th>\n",
              "      <th>DSJ_CARD_NO</th>\n",
              "      <th>DSJ_JUMIN_NO</th>\n",
              "      <th>CONSULT_DATE</th>\n",
              "      <th>CARE_OPEN_CLASS_NM</th>\n",
              "      <th>CONSULT_CONT</th>\n",
              "      <th>JAEBUM</th>\n",
              "      <th>JAEBUM_1</th>\n",
              "      <th>출생년도</th>\n",
              "      <th>연령</th>\n",
              "      <th>학력</th>\n",
              "      <th>죄명</th>\n",
              "      <th>CARE_OPEN_CLASS_NM_1</th>\n",
              "      <th>GROUP</th>\n",
              "    </tr>\n",
              "  </thead>\n",
              "  <tbody>\n",
              "    <tr>\n",
              "      <th>0</th>\n",
              "      <td>124531</td>\n",
              "      <td>140020130195</td>\n",
              "      <td>+/AbJkm/QlIlyiVteHGbHg==</td>\n",
              "      <td>2013-09-30</td>\n",
              "      <td>10</td>\n",
              "      <td>- 숙식제공개시 \\r\\n- 생활관 규칙 준수 고지 \\r\\n- 공동생활로써 타인에게 ...</td>\n",
              "      <td>0</td>\n",
              "      <td>1</td>\n",
              "      <td>1969</td>\n",
              "      <td>40</td>\n",
              "      <td>1</td>\n",
              "      <td>10</td>\n",
              "      <td>10</td>\n",
              "      <td>0</td>\n",
              "    </tr>\n",
              "    <tr>\n",
              "      <th>1</th>\n",
              "      <td>124533</td>\n",
              "      <td>140020130195</td>\n",
              "      <td>+/AbJkm/QlIlyiVteHGbHg==</td>\n",
              "      <td>2013-11-15</td>\n",
              "      <td>10</td>\n",
              "      <td>- 신성용역에서 일당 7만원을 받으며 성실히 근무하고 있기에 조기 자립할 수 있도록...</td>\n",
              "      <td>0</td>\n",
              "      <td>1</td>\n",
              "      <td>1969</td>\n",
              "      <td>40</td>\n",
              "      <td>1</td>\n",
              "      <td>10</td>\n",
              "      <td>10</td>\n",
              "      <td>1</td>\n",
              "    </tr>\n",
              "    <tr>\n",
              "      <th>2</th>\n",
              "      <td>124532</td>\n",
              "      <td>140020130195</td>\n",
              "      <td>+/AbJkm/QlIlyiVteHGbHg==</td>\n",
              "      <td>2013-12-06</td>\n",
              "      <td>10</td>\n",
              "      <td>소내에서도 성실히 생활하였으며, 가족과 같이 생활하며 자립준비를 희망하여 숙식보호를...</td>\n",
              "      <td>0</td>\n",
              "      <td>1</td>\n",
              "      <td>1969</td>\n",
              "      <td>40</td>\n",
              "      <td>1</td>\n",
              "      <td>10</td>\n",
              "      <td>10</td>\n",
              "      <td>1</td>\n",
              "    </tr>\n",
              "    <tr>\n",
              "      <th>3</th>\n",
              "      <td>210286</td>\n",
              "      <td>70020150370</td>\n",
              "      <td>+0cDDhcMTr0uUG38+yw6Aw==</td>\n",
              "      <td>2015-06-13</td>\n",
              "      <td>10</td>\n",
              "      <td>금일 출소후 지부를 방문하여 숙식제공을 요청한대상자로, 수감전 목수일을 하였으며 우...</td>\n",
              "      <td>0</td>\n",
              "      <td>0</td>\n",
              "      <td>1951</td>\n",
              "      <td>60</td>\n",
              "      <td>1</td>\n",
              "      <td>40</td>\n",
              "      <td>10</td>\n",
              "      <td>0</td>\n",
              "    </tr>\n",
              "    <tr>\n",
              "      <th>4</th>\n",
              "      <td>210300</td>\n",
              "      <td>70020150370</td>\n",
              "      <td>+0cDDhcMTr0uUG38+yw6Aw==</td>\n",
              "      <td>2015-06-13</td>\n",
              "      <td>10</td>\n",
              "      <td>상기인은 금일 숙식제공을 희망하여 입소를 함. 공단생활관 준수사항에 대해서 전달하였...</td>\n",
              "      <td>0</td>\n",
              "      <td>0</td>\n",
              "      <td>1951</td>\n",
              "      <td>60</td>\n",
              "      <td>1</td>\n",
              "      <td>40</td>\n",
              "      <td>10</td>\n",
              "      <td>0</td>\n",
              "    </tr>\n",
              "    <tr>\n",
              "      <th>...</th>\n",
              "      <td>...</td>\n",
              "      <td>...</td>\n",
              "      <td>...</td>\n",
              "      <td>...</td>\n",
              "      <td>...</td>\n",
              "      <td>...</td>\n",
              "      <td>...</td>\n",
              "      <td>...</td>\n",
              "      <td>...</td>\n",
              "      <td>...</td>\n",
              "      <td>...</td>\n",
              "      <td>...</td>\n",
              "      <td>...</td>\n",
              "      <td>...</td>\n",
              "    </tr>\n",
              "    <tr>\n",
              "      <th>93385</th>\n",
              "      <td>51017</td>\n",
              "      <td>110020130014</td>\n",
              "      <td>zynchewXiUVFxiaWH8jI9g==</td>\n",
              "      <td>2013-04-30</td>\n",
              "      <td>10</td>\n",
              "      <td>예치금을 찾아가며 조만간 퇴소할 예정임. 김해시 진례인근에 집을 구했으며 근처 회사...</td>\n",
              "      <td>1</td>\n",
              "      <td>1</td>\n",
              "      <td>1973</td>\n",
              "      <td>40</td>\n",
              "      <td>1</td>\n",
              "      <td>30</td>\n",
              "      <td>10</td>\n",
              "      <td>5</td>\n",
              "    </tr>\n",
              "    <tr>\n",
              "      <th>93386</th>\n",
              "      <td>51014</td>\n",
              "      <td>110020130014</td>\n",
              "      <td>zynchewXiUVFxiaWH8jI9g==</td>\n",
              "      <td>2013-05-22</td>\n",
              "      <td>10</td>\n",
              "      <td>퇴소준비 중에 있으며 진례에 터를 잡을 계획으로 현재 공사중에 있어 추후 공사가 마...</td>\n",
              "      <td>1</td>\n",
              "      <td>1</td>\n",
              "      <td>1973</td>\n",
              "      <td>40</td>\n",
              "      <td>1</td>\n",
              "      <td>30</td>\n",
              "      <td>10</td>\n",
              "      <td>5</td>\n",
              "    </tr>\n",
              "    <tr>\n",
              "      <th>93387</th>\n",
              "      <td>51019</td>\n",
              "      <td>110020130014</td>\n",
              "      <td>zynchewXiUVFxiaWH8jI9g==</td>\n",
              "      <td>2013-06-07</td>\n",
              "      <td>10</td>\n",
              "      <td>상기인은 지난달 부터 김해시 진례면 소재에 본인의 집을 마련하기위해 노력중이였으며 ...</td>\n",
              "      <td>1</td>\n",
              "      <td>1</td>\n",
              "      <td>1973</td>\n",
              "      <td>40</td>\n",
              "      <td>1</td>\n",
              "      <td>30</td>\n",
              "      <td>10</td>\n",
              "      <td>5</td>\n",
              "    </tr>\n",
              "    <tr>\n",
              "      <th>93388</th>\n",
              "      <td>231951</td>\n",
              "      <td>80020140063</td>\n",
              "      <td>zzHNZZtvZeQRRxguiQ2Wpw==</td>\n",
              "      <td>2014-02-12</td>\n",
              "      <td>10</td>\n",
              "      <td>보호상담과 더불어 생활관 준수사항에 대해 설명 후 열심히 생활하여 자립할 것을 당부함.</td>\n",
              "      <td>0</td>\n",
              "      <td>1</td>\n",
              "      <td>1988</td>\n",
              "      <td>20</td>\n",
              "      <td>2</td>\n",
              "      <td>990</td>\n",
              "      <td>10</td>\n",
              "      <td>0</td>\n",
              "    </tr>\n",
              "    <tr>\n",
              "      <th>93389</th>\n",
              "      <td>231950</td>\n",
              "      <td>80020140063</td>\n",
              "      <td>zzHNZZtvZeQRRxguiQ2Wpw==</td>\n",
              "      <td>2014-02-24</td>\n",
              "      <td>10</td>\n",
              "      <td>부모와의 관계가 개선되고 같이 살고자 하여 퇴소를 신청하기에 퇴소시 재입소가 안되는...</td>\n",
              "      <td>0</td>\n",
              "      <td>1</td>\n",
              "      <td>1988</td>\n",
              "      <td>20</td>\n",
              "      <td>2</td>\n",
              "      <td>990</td>\n",
              "      <td>10</td>\n",
              "      <td>0</td>\n",
              "    </tr>\n",
              "  </tbody>\n",
              "</table>\n",
              "<p>93390 rows × 14 columns</p>\n",
              "</div>"
            ],
            "text/plain": [
              "       Unnamed: 0   DSJ_CARD_NO  ... CARE_OPEN_CLASS_NM_1 GROUP\n",
              "0          124531  140020130195  ...                   10     0\n",
              "1          124533  140020130195  ...                   10     1\n",
              "2          124532  140020130195  ...                   10     1\n",
              "3          210286   70020150370  ...                   10     0\n",
              "4          210300   70020150370  ...                   10     0\n",
              "...           ...           ...  ...                  ...   ...\n",
              "93385       51017  110020130014  ...                   10     5\n",
              "93386       51014  110020130014  ...                   10     5\n",
              "93387       51019  110020130014  ...                   10     5\n",
              "93388      231951   80020140063  ...                   10     0\n",
              "93389      231950   80020140063  ...                   10     0\n",
              "\n",
              "[93390 rows x 14 columns]"
            ]
          },
          "metadata": {
            "tags": []
          },
          "execution_count": 76
        }
      ]
    },
    {
      "cell_type": "code",
      "metadata": {
        "id": "CG7EyycbRSq-"
      },
      "source": [
        "df06 = df[df['GROUP']<6]\n",
        "df60 = df[df['GROUP']>=6]"
      ],
      "execution_count": null,
      "outputs": []
    },
    {
      "cell_type": "code",
      "metadata": {
        "id": "qvkWzrsVRSrD"
      },
      "source": [
        "print('df06',df06.shape)\n",
        "print('df60',df60.shape)\n",
        "\n"
      ],
      "execution_count": null,
      "outputs": []
    },
    {
      "cell_type": "markdown",
      "metadata": {
        "id": "nPe7A0bhRSrJ"
      },
      "source": [
        "##2) 빈도수"
      ]
    },
    {
      "cell_type": "markdown",
      "metadata": {
        "id": "p_B_1yavRSrK"
      },
      "source": [
        "###1) 0-6개월"
      ]
    },
    {
      "cell_type": "code",
      "metadata": {
        "id": "fpxsyEcdRSrL"
      },
      "source": [
        "words0=twtt(df06) "
      ],
      "execution_count": null,
      "outputs": []
    },
    {
      "cell_type": "code",
      "metadata": {
        "id": "3ivE41CCRSrQ"
      },
      "source": [
        "word_list0 = sorted(words0.items(), key=lambda x: x[1], reverse=True) # 내림차순\n",
        "word_list0 "
      ],
      "execution_count": null,
      "outputs": []
    },
    {
      "cell_type": "code",
      "metadata": {
        "id": "m-Cifj17RSrY"
      },
      "source": [
        "\n",
        "with open('6개월미만_빈도.txt', 'w') as f:\n",
        "  for line in word_list0:\n",
        "\n",
        "    f.write(str(line))\n",
        "    f.write(\"\\n\")\n"
      ],
      "execution_count": null,
      "outputs": []
    },
    {
      "cell_type": "code",
      "metadata": {
        "id": "exlcA3pgRSrc"
      },
      "source": [
        "plt.rc('font',size=15)\n",
        "fontprop = fm.FontProperties(fname= '/usr/share/fonts/truetype/nanum/NanumBarunGothic.ttf', size=20)\n",
        "fig = plt.figure(figsize=(10,30))\n",
        "fig.patch.set_facecolor('white')\n",
        "max = 100\n",
        "sns_plot=sns.barplot([i[1] for i in word_list0[:max]],\n",
        "            [i[0] for i in word_list0[:max]])\n",
        "\n",
        "#sns_plot =sns.barplot([i[1] for i in newAlist],[i[0] for i in newAlist])\n",
        "\n",
        "sns_plot.set_title(\"Frequency 100\")\n",
        "sns_plot.set_ylabel(\"단어\")\n",
        "sns_plot.set_xlabel(\"빈도\")\n",
        "fig = sns_plot.get_figure()\n",
        "fig.savefig('6개월미만_빈도.png')"
      ],
      "execution_count": null,
      "outputs": []
    },
    {
      "cell_type": "markdown",
      "metadata": {
        "id": "3TN82U-qRSr0"
      },
      "source": [
        "### 6개월이상"
      ]
    },
    {
      "cell_type": "code",
      "metadata": {
        "id": "U2IrNbo2RSr0"
      },
      "source": [
        "words3=twtt(df60)"
      ],
      "execution_count": null,
      "outputs": []
    },
    {
      "cell_type": "code",
      "metadata": {
        "id": "zcBX3sHlRSr3"
      },
      "source": [
        "word_list3 = sorted(words3.items(), key=lambda x: x[1], reverse=True)\n",
        "word_list3"
      ],
      "execution_count": null,
      "outputs": []
    },
    {
      "cell_type": "code",
      "metadata": {
        "id": "8eqUduiFRSr5"
      },
      "source": [
        "with open('6개월이상_빈도.txt', 'w') as f:\n",
        "  for line in word_list3:\n",
        "    f.write(str(line))\n",
        "    f.write(\"\\n\")\n",
        "\n"
      ],
      "execution_count": null,
      "outputs": []
    },
    {
      "cell_type": "code",
      "metadata": {
        "id": "FmzGcFAGRSr7"
      },
      "source": [
        "plt.rc('font',size=15)\n",
        "fontprop = fm.FontProperties(fname= '/usr/share/fonts/truetype/nanum/NanumBarunGothic.ttf', size=20)\n",
        "fig = plt.figure(figsize=(10,30))\n",
        "fig.patch.set_facecolor('white')\n",
        "max = 100\n",
        "sns_plot=sns.barplot([i[1] for i in word_list3[:max]],\n",
        "            [i[0] for i in word_list3[:max]])\n",
        "#sns_plot =sns.barplot([i[1] for i in newBlist],[i[0] for i in newBlist])\n",
        "sns_plot.set_title(\"Frequency Top 100\")\n",
        "sns_plot.set_ylabel(\"단어\")\n",
        "sns_plot.set_xlabel(\"빈도\")\n",
        "fig = sns_plot.get_figure()\n",
        "fig.savefig('6개월이상_빈도.png')"
      ],
      "execution_count": null,
      "outputs": []
    },
    {
      "cell_type": "markdown",
      "metadata": {
        "id": "wnXt6WqQRSr_"
      },
      "source": [
        "##3) 히트맵"
      ]
    },
    {
      "cell_type": "code",
      "metadata": {
        "id": "qlqnHA31RSsA"
      },
      "source": [
        "import pandas as pd\n",
        "df = pd.DataFrame([words0, words3]).T\n",
        "df.columns = ['6개월미만', '6개월이상']\n",
        "\n",
        "df = df.apply(lambda x : x / np.sum(x))\n",
        "df = df.apply(lambda x : (x-np.min(x)) / (np.max(x)-np.min(x))) #Heatmap에 상대적인 빈도수 출력하고싶을때\n",
        "\n",
        "plt.rc('font',size=16)\n",
        "figure = plt.figure(figsize=(10,8))\n",
        "ax = plt.axes()\n",
        "heat=sns.heatmap(df.sort_values(df.columns[0], ascending=False).iloc[:15], annot=True, fmt = '.3f', linewidths=0.3, cmap = 'Blues', ax = ax)\n",
        "plt.show()\n",
        "figure.savefig('기간분석2_히트맵.png', format='png',dpi=1200)\n"
      ],
      "execution_count": null,
      "outputs": []
    },
    {
      "cell_type": "markdown",
      "metadata": {
        "id": "oqHvdCTh22hi"
      },
      "source": [
        "## 4)동시출현빈도"
      ]
    },
    {
      "cell_type": "markdown",
      "metadata": {
        "id": "NsVbFo3A3L-X"
      },
      "source": [
        "### 6개월미만"
      ]
    },
    {
      "cell_type": "code",
      "metadata": {
        "id": "M1RkdmkU22hj"
      },
      "source": [
        "token_list = twtt_network(df06)"
      ],
      "execution_count": null,
      "outputs": []
    },
    {
      "cell_type": "code",
      "metadata": {
        "id": "XVbFBdbW22hl"
      },
      "source": [
        "token_list"
      ],
      "execution_count": null,
      "outputs": []
    },
    {
      "cell_type": "code",
      "metadata": {
        "id": "KKLJELcg22hn"
      },
      "source": [
        "count = {}   #동시출현 빈도가 저장될 dict\n",
        "for article in token_list:\n",
        "    article = list(set(article)) #중복제거 \n",
        "    for i, a in enumerate(article):\n",
        "        for b in article[i:]:\n",
        "            if a == b: continue   #같은 단어의 경우는 세지 않음\n",
        "            if a > b: a, b = b, a   #A, B와 B, A가 다르게 세어지는것을 막기 위해 항상 a < b로 순서 고정\n",
        "            count[a, b] = count.get((a, b), 0) + 1   #실제로 센다\n",
        "            break\n",
        "            "
      ],
      "execution_count": null,
      "outputs": []
    },
    {
      "cell_type": "code",
      "metadata": {
        "id": "J_GslM1K22ho"
      },
      "source": [
        "count"
      ],
      "execution_count": null,
      "outputs": []
    },
    {
      "cell_type": "code",
      "metadata": {
        "id": "erxv-8Dc22hq"
      },
      "source": [
        "with open('6개월미만_동시출현빈도.txt', 'w') as f:\n",
        "  for key,value in count.items():\n",
        "    result = str(key) + \" : \" + str(value)\n",
        "    f.write(result)\n",
        "    f.write(\"\\n\")"
      ],
      "execution_count": null,
      "outputs": []
    },
    {
      "cell_type": "markdown",
      "metadata": {
        "id": "hg208My53RVm"
      },
      "source": [
        "### 6개월이상"
      ]
    },
    {
      "cell_type": "code",
      "metadata": {
        "id": "wYGanMBS3RVn"
      },
      "source": [
        "token_list2 = twtt_network(df60)"
      ],
      "execution_count": null,
      "outputs": []
    },
    {
      "cell_type": "code",
      "metadata": {
        "id": "6kUcGiDp3RVp"
      },
      "source": [
        "token_list2"
      ],
      "execution_count": null,
      "outputs": []
    },
    {
      "cell_type": "code",
      "metadata": {
        "id": "cWW_3eCg3RVs"
      },
      "source": [
        "count2 = {}   #동시출현 빈도가 저장될 dict\n",
        "for article in token_list2:\n",
        "    article = list(set(article)) #중복제거 \n",
        "    for i, a in enumerate(article):\n",
        "        for b in article[i:]:\n",
        "            if a == b: continue   #같은 단어의 경우는 세지 않음\n",
        "            if a > b: a, b = b, a   #A, B와 B, A가 다르게 세어지는것을 막기 위해 항상 a < b로 순서 고정\n",
        "            count2[a, b] = count2.get((a, b), 0) + 1   #실제로 센다\n",
        "            break\n",
        "            \n"
      ],
      "execution_count": null,
      "outputs": []
    },
    {
      "cell_type": "code",
      "metadata": {
        "id": "1I_nxaMV3RVu"
      },
      "source": [
        "count2"
      ],
      "execution_count": null,
      "outputs": []
    },
    {
      "cell_type": "code",
      "metadata": {
        "id": "e1nbSUFz3RVv"
      },
      "source": [
        "with open('6개월이상_동시출현빈도.txt', 'w') as f:\n",
        "  for key,value in count.items():\n",
        "    result = str(key) + \" : \" + str(value)\n",
        "    f.write(result)\n",
        "    f.write(\"\\n\")"
      ],
      "execution_count": null,
      "outputs": []
    },
    {
      "cell_type": "markdown",
      "metadata": {
        "id": "B2-slMoP22hr"
      },
      "source": [
        "## 5)네트워크"
      ]
    },
    {
      "cell_type": "markdown",
      "metadata": {
        "id": "5laxJ7JS3uUy"
      },
      "source": [
        "### 6개월미만"
      ]
    },
    {
      "cell_type": "code",
      "metadata": {
        "id": "fyb011sh22hr"
      },
      "source": [
        "token_list = twtt_network(df06) "
      ],
      "execution_count": null,
      "outputs": []
    },
    {
      "cell_type": "code",
      "metadata": {
        "id": "KVKua_gZ22hs"
      },
      "source": [
        "count = {}   #동시출현 빈도가 저장될 dict\n",
        "for article in token_list:\n",
        "    article = list(set(article)) #중복제거 \n",
        "    for i, a in enumerate(article):\n",
        "        for b in article[i:]:\n",
        "            if a == b: continue   #같은 단어의 경우는 세지 않음\n",
        "            if a > b: a, b = b, a   #A, B와 B, A가 다르게 세어지는것을 막기 위해 항상 a < b로 순서 고정\n",
        "            count[a, b] = count.get((a, b), 0) + 1   #실제로 센다\n",
        "            break\n",
        "            \n"
      ],
      "execution_count": null,
      "outputs": []
    },
    {
      "cell_type": "code",
      "metadata": {
        "id": "4vLnzKn522hu"
      },
      "source": [
        "count"
      ],
      "execution_count": null,
      "outputs": []
    },
    {
      "cell_type": "code",
      "metadata": {
        "id": "tilx28Tf22hv"
      },
      "source": [
        "\n",
        "sorted_x = sorted(count.items(), key=lambda kv: kv[1], reverse=True)\n",
        "sort_token=dict(sorted_x[:500])\n",
        "sort_token"
      ],
      "execution_count": null,
      "outputs": []
    },
    {
      "cell_type": "code",
      "metadata": {
        "id": "2EMKxKfp22hw"
      },
      "source": [
        "with open('전체_네트워크.txt', 'w') as f: \n",
        "  for key in sort_token:\n",
        "    result = str(key).replace('(','').replace(')','').replace(',','').replace('\\'','') \n",
        "    f.write(result) \n",
        "    f.write(\"\\n\") "
      ],
      "execution_count": null,
      "outputs": []
    },
    {
      "cell_type": "code",
      "metadata": {
        "id": "JNUxGu043xIB"
      },
      "source": [
        ""
      ],
      "execution_count": null,
      "outputs": []
    },
    {
      "cell_type": "markdown",
      "metadata": {
        "id": "rMLqKiYD3xuz"
      },
      "source": [
        "### 6개월미만"
      ]
    },
    {
      "cell_type": "code",
      "metadata": {
        "id": "b-GeasVd3xu0"
      },
      "source": [
        "token_list = twtt_network(df06) "
      ],
      "execution_count": null,
      "outputs": []
    },
    {
      "cell_type": "code",
      "metadata": {
        "id": "nWqvGDKw3xu2"
      },
      "source": [
        "count = {}   #동시출현 빈도가 저장될 dict\n",
        "for article in token_list:\n",
        "    article = list(set(article)) #중복제거 \n",
        "    for i, a in enumerate(article):\n",
        "        for b in article[i:]:\n",
        "            if a == b: continue   #같은 단어의 경우는 세지 않음\n",
        "            if a > b: a, b = b, a   #A, B와 B, A가 다르게 세어지는것을 막기 위해 항상 a < b로 순서 고정\n",
        "            count[a, b] = count.get((a, b), 0) + 1   #실제로 센다\n",
        "            break\n",
        "            \n",
        "\n"
      ],
      "execution_count": null,
      "outputs": []
    },
    {
      "cell_type": "code",
      "metadata": {
        "id": "2eosucD53xu3"
      },
      "source": [
        "count"
      ],
      "execution_count": null,
      "outputs": []
    },
    {
      "cell_type": "code",
      "metadata": {
        "id": "_2WNu6143xu4"
      },
      "source": [
        "\n",
        "sorted_x = sorted(count.items(), key=lambda kv: kv[1], reverse=True)\n",
        "sort_token=dict(sorted_x[:500])\n",
        "sort_token"
      ],
      "execution_count": null,
      "outputs": []
    },
    {
      "cell_type": "code",
      "metadata": {
        "id": "sYHHjBkY3xu6"
      },
      "source": [
        "with open('전체_네트워크.txt', 'w') as f: \n",
        "  for key in sort_token:\n",
        "    result = str(key).replace('(','').replace(')','').replace(',','').replace('\\'','') \n",
        "    f.write(result) \n",
        "    f.write(\"\\n\") "
      ],
      "execution_count": null,
      "outputs": []
    },
    {
      "cell_type": "markdown",
      "metadata": {
        "id": "JlkmvdiX1n8E"
      },
      "source": [
        "## 동시출현빈도"
      ]
    },
    {
      "cell_type": "code",
      "metadata": {
        "id": "vwD4HZkE1n8E"
      },
      "source": [
        "token_list = twtt_network(df)"
      ],
      "execution_count": null,
      "outputs": []
    },
    {
      "cell_type": "code",
      "metadata": {
        "id": "c6teHamG1n8G"
      },
      "source": [
        "token_list"
      ],
      "execution_count": null,
      "outputs": []
    },
    {
      "cell_type": "code",
      "metadata": {
        "id": "zlPeq2hq1n8J"
      },
      "source": [
        "count = {}   #동시출현 빈도가 저장될 dict\n",
        "for article in token_list:\n",
        "    article = list(set(article)) #중복제거 \n",
        "    for i, a in enumerate(article):\n",
        "        for b in article[i:]:\n",
        "            if a == b: continue   #같은 단어의 경우는 세지 않음\n",
        "            if a > b: a, b = b, a   #A, B와 B, A가 다르게 세어지는것을 막기 위해 항상 a < b로 순서 고정\n",
        "            count[a, b] = count.get((a, b), 0) + 1   #실제로 센다\n",
        "            break\n",
        "            \n"
      ],
      "execution_count": null,
      "outputs": []
    },
    {
      "cell_type": "code",
      "metadata": {
        "id": "-KbRYgLD1n8K"
      },
      "source": [
        "count"
      ],
      "execution_count": null,
      "outputs": []
    },
    {
      "cell_type": "code",
      "metadata": {
        "id": "Kcnz6ACh1n8N"
      },
      "source": [
        "\n",
        "sorted_x = sorted(count.items(), key=lambda kv: kv[1], reverse=True)\n",
        "sort_token=dict(sorted_x[:500])\n",
        "sort_token"
      ],
      "execution_count": null,
      "outputs": []
    },
    {
      "cell_type": "code",
      "metadata": {
        "id": "_nQF01I91n8S"
      },
      "source": [
        "with open('네트워크test.txt', 'w') as f: \n",
        "  for key in sort_token:\n",
        "    result = str(key).replace('(','').replace(')','').replace(',','').replace('\\'','') \n",
        "    f.write(result) \n",
        "    f.write(\"\\n\") "
      ],
      "execution_count": null,
      "outputs": []
    },
    {
      "cell_type": "code",
      "metadata": {
        "id": "Iv3UEElz1n8U"
      },
      "source": [
        "with open('동시출현빈도.txt', 'w') as f:\n",
        "  for key,value in count.items():\n",
        "    result = str(key) + \" : \" + str(value)\n",
        "    f.write(result)\n",
        "    f.write(\"\\n\")"
      ],
      "execution_count": null,
      "outputs": []
    },
    {
      "cell_type": "markdown",
      "metadata": {
        "id": "yxeJX9fzPiHS"
      },
      "source": [
        "# 기간별 분석 0-1,1-6,6~"
      ]
    },
    {
      "cell_type": "markdown",
      "metadata": {
        "id": "Vd2i1DDXPiHT"
      },
      "source": [
        "##1) 나누기"
      ]
    },
    {
      "cell_type": "code",
      "metadata": {
        "id": "-Q3RC975Yn7j"
      },
      "source": [
        "df = pd.read_excel(\"/content/drive/My Drive/data2_5_group.xlsx\")\n",
        "\n",
        "df = df[(df['CARE_OPEN_CLASS_NM']==10)]\n",
        "df"
      ],
      "execution_count": null,
      "outputs": []
    },
    {
      "cell_type": "code",
      "metadata": {
        "id": "gWY6zKeNPiHT"
      },
      "source": [
        "df01 = df[df['GROUP']==0]\n",
        "df16 = df[(df['GROUP']==1) |(df['GROUP']==2)|(df['GROUP']==3) | (df['GROUP']==4) | (df['GROUP']==5)]\n",
        "df60 = df[df['GROUP']>=6]"
      ],
      "execution_count": null,
      "outputs": []
    },
    {
      "cell_type": "code",
      "metadata": {
        "id": "RNY2QrAJPiHW"
      },
      "source": [
        "print('df01',df01.shape)\n",
        "print('df16',df16.shape)\n",
        "print('df60',df60.shape)\n",
        "\n"
      ],
      "execution_count": null,
      "outputs": []
    },
    {
      "cell_type": "markdown",
      "metadata": {
        "id": "Z44R-wGEPiHY"
      },
      "source": [
        "##2) 빈도수"
      ]
    },
    {
      "cell_type": "markdown",
      "metadata": {
        "id": "1CCSUpuVPiHZ"
      },
      "source": [
        "###1) 0-1개월"
      ]
    },
    {
      "cell_type": "code",
      "metadata": {
        "id": "qsXAHkD1PiHZ"
      },
      "source": [
        "words0=twtt(df01) "
      ],
      "execution_count": null,
      "outputs": []
    },
    {
      "cell_type": "code",
      "metadata": {
        "id": "H4o84qPHPiHb"
      },
      "source": [
        "word_list0 = sorted(words0.items(), key=lambda x: x[1], reverse=True) # 내림차순\n",
        "word_list0 "
      ],
      "execution_count": null,
      "outputs": []
    },
    {
      "cell_type": "code",
      "metadata": {
        "id": "wosdTpjuPiHd",
        "colab": {
          "base_uri": "https://localhost:8080/",
          "height": 35
        },
        "outputId": "faa3c374-5c05-473e-e17a-f842e6d6625f"
      },
      "source": [
        "type(word_list0)"
      ],
      "execution_count": null,
      "outputs": [
        {
          "output_type": "execute_result",
          "data": {
            "text/plain": [
              "list"
            ]
          },
          "metadata": {
            "tags": []
          },
          "execution_count": 26
        }
      ]
    },
    {
      "cell_type": "code",
      "metadata": {
        "id": "urLp0mrNPiHf"
      },
      "source": [
        "\n",
        "with open('0-1개월_빈도.txt', 'w') as f:\n",
        "  for line in word_list0:\n",
        "\n",
        "    f.write(str(line))\n",
        "    f.write(\"\\n\")\n",
        "\n",
        "\n",
        "\n",
        "\n",
        "\n"
      ],
      "execution_count": null,
      "outputs": []
    },
    {
      "cell_type": "code",
      "metadata": {
        "id": "AxgCwYdtPiHg"
      },
      "source": [
        "plt.rc('font',size=15)\n",
        "fontprop = fm.FontProperties(fname= '/usr/share/fonts/truetype/nanum/NanumBarunGothic.ttf', size=20)\n",
        "fig = plt.figure(figsize=(10,30))\n",
        "fig.patch.set_facecolor('white')\n",
        "max = 100\n",
        "sns_plot=sns.barplot([i[1] for i in word_list0[:max]],\n",
        "            [i[0] for i in word_list0[:max]])\n",
        "\n",
        "\n",
        "sns_plot.set_title(\"Frequency 100\")\n",
        "sns_plot.set_ylabel(\"단어\")\n",
        "sns_plot.set_xlabel(\"빈도\")\n",
        "fig = sns_plot.get_figure()\n",
        "fig.savefig('0-1개월_빈도.png')"
      ],
      "execution_count": null,
      "outputs": []
    },
    {
      "cell_type": "markdown",
      "metadata": {
        "id": "5YBsE5R6PiHi"
      },
      "source": [
        "###1) 1-6개월"
      ]
    },
    {
      "cell_type": "code",
      "metadata": {
        "id": "ZlbiExFzPiHi"
      },
      "source": [
        "words1=twtt(df16)"
      ],
      "execution_count": null,
      "outputs": []
    },
    {
      "cell_type": "code",
      "metadata": {
        "id": "jgE1odldPiHj"
      },
      "source": [
        "word_list1 = sorted(words1.items(), key=lambda x: x[1], reverse=True)\n",
        "word_list1"
      ],
      "execution_count": null,
      "outputs": []
    },
    {
      "cell_type": "code",
      "metadata": {
        "id": "20pXDulDPiHl"
      },
      "source": [
        "with open('1-6개월빈도.txt', 'w') as f:\n",
        "  for line in word_list1:\n",
        "\n",
        "    f.write(str(line))\n",
        "    f.write(\"\\n\")\n",
        "\n"
      ],
      "execution_count": null,
      "outputs": []
    },
    {
      "cell_type": "code",
      "metadata": {
        "id": "-fGfmWssPiHm"
      },
      "source": [
        "plt.rc('font',size=15)\n",
        "fontprop = fm.FontProperties(fname= '/usr/share/fonts/truetype/nanum/NanumBarunGothic.ttf', size=20)\n",
        "fig = plt.figure(figsize=(10,30))\n",
        "fig.patch.set_facecolor('white')\n",
        "max = 100\n",
        "sns_plot=sns.barplot([i[1] for i in word_list1[:max]],\n",
        "            [i[0] for i in word_list1[:max]])\n",
        "#sns_plot =sns.barplot([i[1] for i in newBlist],[i[0] for i in newBlist])\n",
        "sns_plot.set_title(\"Frequency Top 100\")\n",
        "sns_plot.set_ylabel(\"단어\")\n",
        "sns_plot.set_xlabel(\"빈도\")\n",
        "fig = sns_plot.get_figure()\n",
        "fig.savefig('1-6개월_빈도.png')"
      ],
      "execution_count": null,
      "outputs": []
    },
    {
      "cell_type": "markdown",
      "metadata": {
        "id": "4HH4HZCIPiHn"
      },
      "source": [
        "### 6개월이상"
      ]
    },
    {
      "cell_type": "code",
      "metadata": {
        "id": "VP3Jrvb-PiHn"
      },
      "source": [
        "words2=twtt(df60)"
      ],
      "execution_count": null,
      "outputs": []
    },
    {
      "cell_type": "code",
      "metadata": {
        "id": "DP_7sLLYPiHp"
      },
      "source": [
        "word_list2 = sorted(words2.items(), key=lambda x: x[1], reverse=True)\n",
        "word_list2"
      ],
      "execution_count": null,
      "outputs": []
    },
    {
      "cell_type": "code",
      "metadata": {
        "id": "XFzcQ8_vPiHq"
      },
      "source": [
        "with open('6개월이상빈도.txt', 'w') as f:\n",
        "  for line in word_list2:\n",
        "\n",
        "    f.write(str(line))\n",
        "    f.write(\"\\n\")\n",
        "\n"
      ],
      "execution_count": null,
      "outputs": []
    },
    {
      "cell_type": "code",
      "metadata": {
        "id": "f0KvzlzdPiHr"
      },
      "source": [
        "plt.rc('font',size=15)\n",
        "fontprop = fm.FontProperties(fname= '/usr/share/fonts/truetype/nanum/NanumBarunGothic.ttf', size=20)\n",
        "fig = plt.figure(figsize=(10,30))\n",
        "fig.patch.set_facecolor('white')\n",
        "max = 100\n",
        "sns_plot=sns.barplot([i[1] for i in word_list2[:max]],\n",
        "            [i[0] for i in word_list2[:max]])\n",
        "#sns_plot =sns.barplot([i[1] for i in newBlist],[i[0] for i in newBlist])\n",
        "sns_plot.set_title(\"Frequency Top 100\")\n",
        "sns_plot.set_ylabel(\"단어\")\n",
        "sns_plot.set_xlabel(\"빈도\")\n",
        "fig = sns_plot.get_figure()\n",
        "fig.savefig('6개월이상_빈도.png')"
      ],
      "execution_count": null,
      "outputs": []
    },
    {
      "cell_type": "code",
      "metadata": {
        "id": "vNMRkVn2PiHs"
      },
      "source": [
        ""
      ],
      "execution_count": null,
      "outputs": []
    },
    {
      "cell_type": "markdown",
      "metadata": {
        "id": "uS4_pGnWPiH0"
      },
      "source": [
        "##3) 히트맵"
      ]
    },
    {
      "cell_type": "code",
      "metadata": {
        "id": "WSbob2eAPiH0"
      },
      "source": [
        "\n",
        "df = pd.DataFrame([words0, words1, words2]).T\n",
        "df.columns = ['1개월미만', '1-6개월', '6개월이상']\n",
        "\n",
        "df = df.apply(lambda x : x / np.sum(x))\n",
        "df = df.apply(lambda x : (x-np.min(x)) / (np.max(x)-np.min(x))) #Heatmap에 상대적인 빈도수 출력하고싶을때\n",
        "\n",
        "plt.rc('font',size=16)\n",
        "figure = plt.figure(figsize=(10,8))\n",
        "ax = plt.axes()\n",
        "heat=sns.heatmap(df.sort_values(df.columns[0], ascending=False).iloc[:15], annot=True, fmt = '.3f', linewidths=0.3, cmap = 'Blues', ax = ax)\n",
        "plt.show()\n",
        "figure.savefig('기간분석1_히트맵.png', format='png',dpi=1200)\n"
      ],
      "execution_count": null,
      "outputs": []
    },
    {
      "cell_type": "markdown",
      "metadata": {
        "id": "Msuk5PJ_PiH2"
      },
      "source": [
        "##4) 네트워크"
      ]
    },
    {
      "cell_type": "markdown",
      "metadata": {
        "id": "83aY6D9cPiH2"
      },
      "source": [
        "###1) 0-1개월"
      ]
    },
    {
      "cell_type": "code",
      "metadata": {
        "id": "4sH_8f0OPiH2"
      },
      "source": [
        "# 데이터 셋 만들기 \n",
        "dataset = twtt_network(df01) \n",
        "dataset\n"
      ],
      "execution_count": null,
      "outputs": []
    },
    {
      "cell_type": "code",
      "metadata": {
        "id": "H3IA4yDhPiH4"
      },
      "source": [
        "pip install apyori"
      ],
      "execution_count": null,
      "outputs": []
    },
    {
      "cell_type": "code",
      "metadata": {
        "id": "g4tZWI2rPiH6"
      },
      "source": [
        "import re\n",
        "import networkx as nx\n",
        "import numpy as np\n",
        "import pandas as pd\n",
        "import matplotlib.pyplot as plt"
      ],
      "execution_count": null,
      "outputs": []
    },
    {
      "cell_type": "code",
      "metadata": {
        "id": "S7QrkDR9PiH7"
      },
      "source": [
        "#데이터셋에 들어갈단어 \n",
        "from apyori import apriori\n",
        "result =(list(apriori(dataset,min_support=0.005)))\n",
        "df=pd.DataFrame(result)\n",
        "df['length']=df['items'].apply(lambda x : len(x))\n",
        "df = df[(df['length']==2)&(df['support']>=0.005)].sort_values(by='support',ascending = False) \n",
        "df.head(10)"
      ],
      "execution_count": null,
      "outputs": []
    },
    {
      "cell_type": "code",
      "metadata": {
        "id": "V7eeMdwrPiH9"
      },
      "source": [
        "G  = nx.Graph()\n",
        "ar = (df['items']); G.add_edges_from(ar)\n",
        "#ar = (df['items']); G.add_edges_from(ar)"
      ],
      "execution_count": null,
      "outputs": []
    },
    {
      "cell_type": "code",
      "metadata": {
        "id": "vjoZnu5mPiH-"
      },
      "source": [
        "pr = nx.pagerank(G)\n",
        "nsize = np.array([v for v in pr.values()]) \n",
        "nsize = 2000 * (nsize - min(nsize)) / (sorted(list(nsize),reverse=True)[0]-min(nsize))\n"
      ],
      "execution_count": null,
      "outputs": []
    },
    {
      "cell_type": "code",
      "metadata": {
        "id": "jspLvdyPPiH_"
      },
      "source": [
        "#pos = nx.circular_layout(G)\n",
        "#pos = nx.planar_layout(G)\n",
        "#pos = nx.bipartite_layout(G)\n",
        "#pos = nx.kamada_kawai_layout(G)\n",
        "#pos = nx.random_layout(G) \n",
        "#pos = nx.rescale_layout(G)\n",
        "#pos = nx.shell_layout(G) \n",
        "pos = nx.spring_layout(G,k=0.6)\n",
        "#pos = nx.spectral_layout(G)\n",
        "#pos = nx.spiral_layout(G) \n"
      ],
      "execution_count": null,
      "outputs": []
    },
    {
      "cell_type": "code",
      "metadata": {
        "id": "t6I0vOKvPiIA"
      },
      "source": [
        "plt.figure(figsize=(16,12));plt.axis('off')\n",
        "nx.draw_networkx(G,font_family = \"NanumBarunGothic\",font_size = 16,\n",
        "                pos=pos,node_color=list(pr.values()),node_size=nsize,\n",
        "                alpha=0.7,edge_color = '.5',cmap=plt.cm.Blues)\n",
        "\n",
        "plt.savefig('0-1개월_네트워크.png',bbox_inches='tight')"
      ],
      "execution_count": null,
      "outputs": []
    },
    {
      "cell_type": "code",
      "metadata": {
        "id": "LofoRTX1PiIC"
      },
      "source": [
        ""
      ],
      "execution_count": null,
      "outputs": []
    },
    {
      "cell_type": "markdown",
      "metadata": {
        "id": "YQbbYU6pPiID"
      },
      "source": [
        "###1) 1-6개월"
      ]
    },
    {
      "cell_type": "code",
      "metadata": {
        "id": "26B3DvYaPiID"
      },
      "source": [
        "# 데이터 셋 만들기 \n",
        "dataset16 = twtt_network(df16) \n"
      ],
      "execution_count": null,
      "outputs": []
    },
    {
      "cell_type": "code",
      "metadata": {
        "id": "VcBPemmjPiIE"
      },
      "source": [
        "pip install apyori"
      ],
      "execution_count": null,
      "outputs": []
    },
    {
      "cell_type": "code",
      "metadata": {
        "id": "BC2lRnhMPiIF"
      },
      "source": [
        "import re\n",
        "import networkx as nx\n",
        "import numpy as np\n",
        "import pandas as pd\n",
        "import matplotlib.pyplot as plt"
      ],
      "execution_count": null,
      "outputs": []
    },
    {
      "cell_type": "code",
      "metadata": {
        "id": "E3awG4T0PiIG"
      },
      "source": [
        "from apyori import apriori\n",
        "result =(list(apriori(dataset16,min_support=0.005)))\n",
        "df=pd.DataFrame(result)\n",
        "df['length']=df['items'].apply(lambda x : len(x))\n",
        "df = df[(df['length']==2)&(df['support']>=0.005)].sort_values(by='support',ascending = False) \n",
        "df.head(10)"
      ],
      "execution_count": null,
      "outputs": []
    },
    {
      "cell_type": "code",
      "metadata": {
        "id": "Hc4yZT_yPiII"
      },
      "source": [
        "G  = nx.Graph()\n",
        "ar = (df['items']); G.add_edges_from(ar)\n"
      ],
      "execution_count": null,
      "outputs": []
    },
    {
      "cell_type": "code",
      "metadata": {
        "id": "ajmU8qW5PiIJ"
      },
      "source": [
        "pr = nx.pagerank(G)\n",
        "nsize = np.array([v for v in pr.values()])\n",
        "nsize = 2000 * (nsize - min(nsize)) / (sorted(list(nsize),reverse=True)[0]-min(nsize))\n"
      ],
      "execution_count": null,
      "outputs": []
    },
    {
      "cell_type": "code",
      "metadata": {
        "id": "GIWSV0NVPiIK"
      },
      "source": [
        "#pos = nx.circular_layout(G)\n",
        "#pos = nx.planar_layout(G)\n",
        "#pos = nx.bipartite_layout(G)\n",
        "#pos = nx.kamada_kawai_layout(G)\n",
        "#pos = nx.random_layout(G) \n",
        "#pos = nx.rescale_layout(G)\n",
        "#pos = nx.shell_layout(G) \n",
        "#pos = nx.spring_layout(G) \n",
        "#pos = nx.spectral_layout(G) \n",
        "#pos = nx.spiral_layout(G) \n",
        "pos = nx.spring_layout(G,k=0.6)"
      ],
      "execution_count": null,
      "outputs": []
    },
    {
      "cell_type": "code",
      "metadata": {
        "id": "RG3zHJW5PiIL"
      },
      "source": [
        "plt.figure(figsize=(16,12));plt.axis('off')\n",
        "nx.draw_networkx(G,font_family = \"NanumBarunGothic\",font_size = 16,\n",
        "                pos=pos,node_color=list(pr.values()),node_size=nsize,\n",
        "                alpha=0.7,edge_color = '.5',cmap=plt.cm.Blues)\n",
        "\n",
        "plt.savefig('1-6개월_네트워크.png',bbox_inches='tight')"
      ],
      "execution_count": null,
      "outputs": []
    },
    {
      "cell_type": "markdown",
      "metadata": {
        "id": "zqV9eGySPiId"
      },
      "source": [
        "###1) 6개월이상"
      ]
    },
    {
      "cell_type": "code",
      "metadata": {
        "id": "w6zJChyjPiId"
      },
      "source": [
        "# 데이터 셋 만들기 \n",
        "dataset60 = twtt_network(df60) \n"
      ],
      "execution_count": null,
      "outputs": []
    },
    {
      "cell_type": "code",
      "metadata": {
        "id": "jZ38Q4NSPiIe"
      },
      "source": [
        "pip install apyori"
      ],
      "execution_count": null,
      "outputs": []
    },
    {
      "cell_type": "code",
      "metadata": {
        "id": "q7CgPquXPiIg"
      },
      "source": [
        "import re\n",
        "import networkx as nx\n",
        "import numpy as np\n",
        "import pandas as pd\n",
        "import matplotlib.pyplot as plt"
      ],
      "execution_count": null,
      "outputs": []
    },
    {
      "cell_type": "code",
      "metadata": {
        "id": "7WRkDTzzPiIh"
      },
      "source": [
        "from apyori import apriori\n",
        "result =(list(apriori(dataset60,min_support=0.005)))\n",
        "df=pd.DataFrame(result)\n",
        "df['length']=df['items'].apply(lambda x : len(x))\n",
        "df = df[(df['length']==2)&(df['support']>=0.005)].sort_values(by='support',ascending = False) #0.01로 바꾸기 \n",
        "df.head(10)"
      ],
      "execution_count": null,
      "outputs": []
    },
    {
      "cell_type": "code",
      "metadata": {
        "id": "d45TDmMmPiIi"
      },
      "source": [
        "G  = nx.Graph()\n",
        "ar = (df['items']); G.add_edges_from(ar)\n"
      ],
      "execution_count": null,
      "outputs": []
    },
    {
      "cell_type": "code",
      "metadata": {
        "id": "M69bx5ZgPiIj"
      },
      "source": [
        "pr = nx.pagerank(G)\n",
        "nsize = np.array([v for v in pr.values()])\n",
        "nsize = 2000 * (nsize - min(nsize)) / (sorted(list(nsize),reverse=True)[0]-min(nsize))\n"
      ],
      "execution_count": null,
      "outputs": []
    },
    {
      "cell_type": "code",
      "metadata": {
        "id": "Dn91Mm4APiIk"
      },
      "source": [
        "#pos = nx.circular_layout(G)\n",
        "#pos = nx.planar_layout(G)\n",
        "#pos = nx.bipartite_layout(G)\n",
        "#pos = nx.kamada_kawai_layout(G)\n",
        "#pos = nx.random_layout(G) \n",
        "#pos = nx.rescale_layout(G)\n",
        "#pos = nx.shell_layout(G) \n",
        "#pos = nx.spring_layout(G) \n",
        "#pos = nx.spectral_layout(G) \n",
        "#pos = nx.spiral_layout(G) \n",
        "pos = nx.spring_layout(G,k=0.6)"
      ],
      "execution_count": null,
      "outputs": []
    },
    {
      "cell_type": "code",
      "metadata": {
        "id": "RfwADVv3PiIl"
      },
      "source": [
        "plt.figure(figsize=(16,12));plt.axis('off')\n",
        "nx.draw_networkx(G,font_family = \"NanumBarunGothic\",font_size = 16,\n",
        "                pos=pos,node_color=list(pr.values()),node_size=nsize,\n",
        "                alpha=0.7,edge_color = '.5',cmap=plt.cm.Blues)\n",
        "\n",
        "plt.savefig('6개월이상_네트워크.png',bbox_inches='tight')"
      ],
      "execution_count": null,
      "outputs": []
    },
    {
      "cell_type": "code",
      "metadata": {
        "id": "YTq27oeZRRnK"
      },
      "source": [
        ""
      ],
      "execution_count": null,
      "outputs": []
    },
    {
      "cell_type": "markdown",
      "metadata": {
        "id": "xHRYtLUM5PR8"
      },
      "source": [
        "# 기간별 분석 0-1.1-3,3-6,6"
      ]
    },
    {
      "cell_type": "markdown",
      "metadata": {
        "id": "ejx3SNNK8Gi8"
      },
      "source": [
        "##1) 나누기"
      ]
    },
    {
      "cell_type": "code",
      "metadata": {
        "id": "krNDyHvq8InE"
      },
      "source": [
        "df01 = df[df['GROUP']==0]\n",
        "df13 = df[(df['GROUP']==1) |(df['GROUP']==2)]\n",
        "df36 = df[(df['GROUP']==3) | (df['GROUP']==4) | (df['GROUP']==5)]\n",
        "df60 = df[df['GROUP']>=6]"
      ],
      "execution_count": null,
      "outputs": []
    },
    {
      "cell_type": "code",
      "metadata": {
        "id": "UNAyK9Yr8JcA"
      },
      "source": [
        "print('df01',df01.shape)\n",
        "print('df13',df13.shape)\n",
        "print('df36',df36.shape)\n",
        "print('df60',df60.shape)\n",
        "\n"
      ],
      "execution_count": null,
      "outputs": []
    },
    {
      "cell_type": "markdown",
      "metadata": {
        "id": "ULiVhjZH6qvl"
      },
      "source": [
        "##2) 빈도수"
      ]
    },
    {
      "cell_type": "markdown",
      "metadata": {
        "id": "oqCyWF9x8ZqB"
      },
      "source": [
        "###1) 0-1개월"
      ]
    },
    {
      "cell_type": "code",
      "metadata": {
        "id": "GlQIxIJ5-MaD"
      },
      "source": [
        "words0=twtt(df01) "
      ],
      "execution_count": null,
      "outputs": []
    },
    {
      "cell_type": "code",
      "metadata": {
        "id": "FV4D3d5a8-k4"
      },
      "source": [
        "word_list0 = sorted(words0.items(), key=lambda x: x[1], reverse=True) \n",
        "word_list0 "
      ],
      "execution_count": null,
      "outputs": []
    },
    {
      "cell_type": "code",
      "metadata": {
        "id": "fHUHpLH8Aj24"
      },
      "source": [
        "type(word_list0)"
      ],
      "execution_count": null,
      "outputs": []
    },
    {
      "cell_type": "code",
      "metadata": {
        "id": "Bf4jiGIe_ncs"
      },
      "source": [
        "\n",
        "with open('0-1개월빈도.txt', 'w') as f:\n",
        "  for line in word_list0:\n",
        "\n",
        "    f.write(str(line))\n",
        "    f.write(\"\\n\")\n",
        "\n",
        "\n",
        "\n",
        "\n",
        "\n"
      ],
      "execution_count": null,
      "outputs": []
    },
    {
      "cell_type": "code",
      "metadata": {
        "id": "MKrBVavU9BDv"
      },
      "source": [
        "plt.rc('font',size=15)\n",
        "fontprop = fm.FontProperties(fname= '/usr/share/fonts/truetype/nanum/NanumBarunGothic.ttf', size=20)\n",
        "fig = plt.figure(figsize=(10,15))\n",
        "fig.patch.set_facecolor('white')\n",
        "max = 100\n",
        "sns_plot=sns.barplot([i[1] for i in word_list0[:max]],\n",
        "            [i[0] for i in word_list0[:max]])\n",
        "\n",
        "\n",
        "sns_plot.set_title(\"Frequency 100\")\n",
        "sns_plot.set_ylabel(\"단어\")\n",
        "sns_plot.set_xlabel(\"빈도\")\n",
        "fig = sns_plot.get_figure()\n",
        "fig.savefig('숙식_0-1개월_빈도.png')"
      ],
      "execution_count": null,
      "outputs": []
    },
    {
      "cell_type": "markdown",
      "metadata": {
        "id": "YYRVBcni9og3"
      },
      "source": [
        "###1) 0-3개월"
      ]
    },
    {
      "cell_type": "code",
      "metadata": {
        "id": "CuEOQA479og4"
      },
      "source": [
        "words1=twtt(df13)"
      ],
      "execution_count": null,
      "outputs": []
    },
    {
      "cell_type": "code",
      "metadata": {
        "id": "gWC_FsoD9og7"
      },
      "source": [
        "word_list1 = sorted(words1.items(), key=lambda x: x[1], reverse=True)\n",
        "word_list1"
      ],
      "execution_count": null,
      "outputs": []
    },
    {
      "cell_type": "code",
      "metadata": {
        "id": "yQlZsfdVBPgS"
      },
      "source": [
        "with open('1-3개월빈도.txt', 'w') as f:\n",
        "  for line in word_list1:\n",
        "\n",
        "    f.write(str(line))\n",
        "    f.write(\"\\n\")\n",
        "\n"
      ],
      "execution_count": null,
      "outputs": []
    },
    {
      "cell_type": "code",
      "metadata": {
        "id": "SiwFCnOW9og9"
      },
      "source": [
        "plt.rc('font',size=15)\n",
        "fontprop = fm.FontProperties(fname= '/usr/share/fonts/truetype/nanum/NanumBarunGothic.ttf', size=20)\n",
        "fig = plt.figure(figsize=(10,15))\n",
        "fig.patch.set_facecolor('white')\n",
        "max = 100\n",
        "sns_plot=sns.barplot([i[1] for i in word_list1[:max]],\n",
        "            [i[0] for i in word_list1[:max]])\n",
        "sns_plot.set_title(\"Frequency Top 100\")\n",
        "sns_plot.set_ylabel(\"단어\")\n",
        "sns_plot.set_xlabel(\"빈도\")\n",
        "fig = sns_plot.get_figure()\n",
        "fig.savefig('숙식_1-3개월_빈도.png')"
      ],
      "execution_count": null,
      "outputs": []
    },
    {
      "cell_type": "markdown",
      "metadata": {
        "id": "VjsLHWK-90Cq"
      },
      "source": [
        "### 3-6개월"
      ]
    },
    {
      "cell_type": "code",
      "metadata": {
        "id": "7tcA9Xsh90Cr"
      },
      "source": [
        "words2=twtt(df36)"
      ],
      "execution_count": null,
      "outputs": []
    },
    {
      "cell_type": "code",
      "metadata": {
        "id": "QT4SpXjo90Cu"
      },
      "source": [
        "word_list2 = sorted(words2.items(), key=lambda x: x[1], reverse=True)\n",
        "word_list2"
      ],
      "execution_count": null,
      "outputs": []
    },
    {
      "cell_type": "code",
      "metadata": {
        "id": "x4vhA-DsBTGG"
      },
      "source": [
        "with open('3-6개월빈도.txt', 'w') as f:\n",
        "  for line in word_list2:\n",
        "\n",
        "    f.write(str(line))\n",
        "    f.write(\"\\n\")\n",
        "\n"
      ],
      "execution_count": null,
      "outputs": []
    },
    {
      "cell_type": "code",
      "metadata": {
        "id": "ktryMTlv90Cy"
      },
      "source": [
        "plt.rc('font',size=15)\n",
        "fontprop = fm.FontProperties(fname= '/usr/share/fonts/truetype/nanum/NanumBarunGothic.ttf', size=20)\n",
        "fig = plt.figure(figsize=(10,15))\n",
        "fig.patch.set_facecolor('white')\n",
        "max = 100\n",
        "sns_plot=sns.barplot([i[1] for i in word_list2[:max]],\n",
        "            [i[0] for i in word_list2[:max]])\n",
        "sns_plot.set_title(\"Frequency Top 100\")\n",
        "sns_plot.set_ylabel(\"단어\")\n",
        "sns_plot.set_xlabel(\"빈도\")\n",
        "fig = sns_plot.get_figure()\n",
        "fig.savefig('숙식_3-6개월_빈도.png')"
      ],
      "execution_count": null,
      "outputs": []
    },
    {
      "cell_type": "code",
      "metadata": {
        "id": "vaiqXMdu90C0"
      },
      "source": [
        ""
      ],
      "execution_count": null,
      "outputs": []
    },
    {
      "cell_type": "markdown",
      "metadata": {
        "id": "XpPqtFi8-DaH"
      },
      "source": [
        "### 6개월이상"
      ]
    },
    {
      "cell_type": "code",
      "metadata": {
        "id": "yV6vsEWE-DaL"
      },
      "source": [
        "words3=twtt(df60)"
      ],
      "execution_count": null,
      "outputs": []
    },
    {
      "cell_type": "code",
      "metadata": {
        "id": "Jphj74sG-DaN"
      },
      "source": [
        "word_list3 = sorted(words3.items(), key=lambda x: x[1], reverse=True)\n",
        "word_list3"
      ],
      "execution_count": null,
      "outputs": []
    },
    {
      "cell_type": "code",
      "metadata": {
        "id": "ixNEAyO4BWVY"
      },
      "source": [
        "with open('6개월이상빈도.txt', 'w') as f:\n",
        "  for line in word_list3:\n",
        "\n",
        "    f.write(str(line))\n",
        "    f.write(\"\\n\")\n",
        "\n"
      ],
      "execution_count": null,
      "outputs": []
    },
    {
      "cell_type": "code",
      "metadata": {
        "id": "0siHoJgx-DaR"
      },
      "source": [
        "plt.rc('font',size=15)\n",
        "fontprop = fm.FontProperties(fname= '/usr/share/fonts/truetype/nanum/NanumBarunGothic.ttf', size=20)\n",
        "fig = plt.figure(figsize=(10,15))\n",
        "fig.patch.set_facecolor('white')\n",
        "max = 100\n",
        "sns_plot=sns.barplot([i[1] for i in word_list3[:max]],\n",
        "            [i[0] for i in word_list3[:max]])\n",
        "sns_plot.set_title(\"Frequency Top 100\")\n",
        "sns_plot.set_ylabel(\"단어\")\n",
        "sns_plot.set_xlabel(\"빈도\")\n",
        "fig = sns_plot.get_figure()\n",
        "fig.savefig('숙식_6개월이상_빈도.png')"
      ],
      "execution_count": null,
      "outputs": []
    },
    {
      "cell_type": "code",
      "metadata": {
        "id": "Ei2cKPtG9ohA"
      },
      "source": [
        ""
      ],
      "execution_count": null,
      "outputs": []
    },
    {
      "cell_type": "markdown",
      "metadata": {
        "id": "9mncp7Ce6tmb"
      },
      "source": [
        "##3) 히트맵"
      ]
    },
    {
      "cell_type": "code",
      "metadata": {
        "id": "BTB2eiSC-dl2"
      },
      "source": [
        "\n",
        "df = pd.DataFrame([words0, words1, words2,words3]).T\n",
        "df.columns = ['1개월미만', '1-3개월', '3-6개월','6개월이상']\n",
        "\n",
        "df = df.apply(lambda x : x / np.sum(x))\n",
        "df = df.apply(lambda x : (x-np.min(x)) / (np.max(x)-np.min(x))) #Heatmap에 상대적인 빈도수 출력하고싶을때\n",
        "\n",
        "plt.rc('font',size=16)\n",
        "figure = plt.figure(figsize=(10,8))\n",
        "ax = plt.axes()\n",
        "heat=sns.heatmap(df.sort_values(df.columns[0], ascending=False).iloc[:15], annot=True, fmt = '.3f', linewidths=0.3, cmap = 'Blues', ax = ax)\n",
        "plt.show()\n",
        "figure.savefig('숙식 기간분석 히트맵.png', format='png',dpi=1200)\n"
      ],
      "execution_count": null,
      "outputs": []
    },
    {
      "cell_type": "markdown",
      "metadata": {
        "id": "Ga1ayRNl6vPs"
      },
      "source": [
        "##4) 네트워크"
      ]
    },
    {
      "cell_type": "markdown",
      "metadata": {
        "id": "iy51GTunsfj6"
      },
      "source": [
        "###1) 0-1개월"
      ]
    },
    {
      "cell_type": "code",
      "metadata": {
        "id": "nr_Z8smNcrc9"
      },
      "source": [
        "dataset = twtt_network(df01) \n",
        "dataset\n"
      ],
      "execution_count": null,
      "outputs": []
    },
    {
      "cell_type": "code",
      "metadata": {
        "id": "QjSACZxW6w1L",
        "colab": {
          "base_uri": "https://localhost:8080/",
          "height": 35
        },
        "outputId": "1e9884ea-53df-481d-eb39-3e35f641bc8a"
      },
      "source": [
        "pip install apyori"
      ],
      "execution_count": null,
      "outputs": [
        {
          "output_type": "stream",
          "text": [
            "Requirement already satisfied: apyori in /usr/local/lib/python3.6/dist-packages (1.1.2)\n"
          ],
          "name": "stdout"
        }
      ]
    },
    {
      "cell_type": "code",
      "metadata": {
        "id": "7e0z6iOYCqXN"
      },
      "source": [
        "import re\n",
        "import networkx as nx\n",
        "import numpy as np\n",
        "import pandas as pd\n",
        "import matplotlib.pyplot as plt"
      ],
      "execution_count": null,
      "outputs": []
    },
    {
      "cell_type": "code",
      "metadata": {
        "id": "ZxFtklhWCrSd"
      },
      "source": [
        "from apyori import apriori\n",
        "result =(list(apriori(dataset,min_support=0.025)))\n",
        "df=pd.DataFrame(result)\n",
        "df['length']=df['items'].apply(lambda x : len(x))\n",
        "df = df[(df['length']==2)&(df['support']>=0.025)].sort_values(by='support',ascending = False) \n",
        "df.head(10)"
      ],
      "execution_count": null,
      "outputs": []
    },
    {
      "cell_type": "code",
      "metadata": {
        "id": "YwBjDmIpC5xh"
      },
      "source": [
        "G  = nx.Graph()\n",
        "ar = (df['items']); G.add_edges_from(ar)\n"
      ],
      "execution_count": null,
      "outputs": []
    },
    {
      "cell_type": "code",
      "metadata": {
        "id": "qSG4TYWUC64m"
      },
      "source": [
        "pr = nx.pagerank(G)\n",
        "nsize = np.array([v for v in pr.values()])\n",
        "nsize = 2000 * (nsize - min(nsize)) / (max(nsize)-min(nsize))\n"
      ],
      "execution_count": null,
      "outputs": []
    },
    {
      "cell_type": "code",
      "metadata": {
        "id": "IexNMZ0mC7nO"
      },
      "source": [
        "#레이아웃바꾸고싶음\n",
        "#pos = nx.circular_layout(G)\n",
        "#pos = nx.planar_layout(G)\n",
        "#pos = nx.bipartite_layout(G)\n",
        "#pos = nx.kamada_kawai_layout(G)\n",
        "#pos = nx.random_layout(G) \n",
        "#pos = nx.rescale_layout(G)\n",
        "#pos = nx.shell_layout(G) \n",
        "pos = nx.spring_layout(G) \n",
        "#pos = nx.spectral_layout(G) \n",
        "#pos = nx.spiral_layout(G) \n"
      ],
      "execution_count": null,
      "outputs": []
    },
    {
      "cell_type": "code",
      "metadata": {
        "id": "zmE0bLbBC97a"
      },
      "source": [
        "plt.figure(figsize=(16,12));plt.axis('off')\n",
        "nx.draw_networkx(G,font_family = \"NanumBarunGothic\",font_size = 16,\n",
        "                pos=pos,node_color=list(pr.values()),node_size=nsize,\n",
        "                alpha=0.7,edge_color = '.5',cmap=plt.cm.Blues)\n",
        "\n",
        "plt.savefig('숙식_0-1개월_네트워크.png',bbox_inches='tight')"
      ],
      "execution_count": null,
      "outputs": []
    },
    {
      "cell_type": "code",
      "metadata": {
        "id": "KUnP2GGpskJ8"
      },
      "source": [
        ""
      ],
      "execution_count": null,
      "outputs": []
    },
    {
      "cell_type": "markdown",
      "metadata": {
        "id": "dHy8A2eask21"
      },
      "source": [
        "###1) 1-3개월"
      ]
    },
    {
      "cell_type": "code",
      "metadata": {
        "id": "44WT-2Tisk21"
      },
      "source": [
        "dataset13 = twtt_network(df13) \n"
      ],
      "execution_count": null,
      "outputs": []
    },
    {
      "cell_type": "code",
      "metadata": {
        "id": "uV0r-uUEsk24",
        "colab": {
          "base_uri": "https://localhost:8080/",
          "height": 35
        },
        "outputId": "6d8f508b-ab2c-4e55-b8ad-36ad9072a810"
      },
      "source": [
        "pip install apyori"
      ],
      "execution_count": null,
      "outputs": [
        {
          "output_type": "stream",
          "text": [
            "Requirement already satisfied: apyori in /usr/local/lib/python3.6/dist-packages (1.1.2)\n"
          ],
          "name": "stdout"
        }
      ]
    },
    {
      "cell_type": "code",
      "metadata": {
        "id": "sZrnlekCsk26"
      },
      "source": [
        "import re\n",
        "import networkx as nx\n",
        "import numpy as np\n",
        "import pandas as pd\n",
        "import matplotlib.pyplot as plt"
      ],
      "execution_count": null,
      "outputs": []
    },
    {
      "cell_type": "code",
      "metadata": {
        "id": "dcj2CbEPsk29"
      },
      "source": [
        "from apyori import apriori\n",
        "result =(list(apriori(dataset13,min_support=0.025)))\n",
        "df=pd.DataFrame(result)\n",
        "df['length']=df['items'].apply(lambda x : len(x))\n",
        "df = df[(df['length']==2)&(df['support']>=0.025)].sort_values(by='support',ascending = False)\n",
        "df.head(10)"
      ],
      "execution_count": null,
      "outputs": []
    },
    {
      "cell_type": "code",
      "metadata": {
        "id": "ibAQlJ6isk2-"
      },
      "source": [
        "G  = nx.Graph()\n",
        "ar = (df['items']); G.add_edges_from(ar)\n"
      ],
      "execution_count": null,
      "outputs": []
    },
    {
      "cell_type": "code",
      "metadata": {
        "id": "1s9Sdccrsk3A"
      },
      "source": [
        "pr = nx.pagerank(G)\n",
        "nsize = np.array([v for v in pr.values()])\n",
        "nsize = 2000 * (nsize - min(nsize)) / (max(nsize)-min(nsize))\n"
      ],
      "execution_count": null,
      "outputs": []
    },
    {
      "cell_type": "code",
      "metadata": {
        "id": "bu3Mp5UJsk3B"
      },
      "source": [
        "#pos = nx.circular_layout(G)\n",
        "#pos = nx.planar_layout(G)\n",
        "#pos = nx.bipartite_layout(G)\n",
        "#pos = nx.kamada_kawai_layout(G)\n",
        "#pos = nx.random_layout(G) \n",
        "#pos = nx.rescale_layout(G)\n",
        "#pos = nx.shell_layout(G) \n",
        "pos = nx.spring_layout(G) \n",
        "#pos = nx.spectral_layout(G) \n",
        "#pos = nx.spiral_layout(G) \n"
      ],
      "execution_count": null,
      "outputs": []
    },
    {
      "cell_type": "code",
      "metadata": {
        "id": "jymH-q7Psk3C"
      },
      "source": [
        "plt.figure(figsize=(16,12));plt.axis('off')\n",
        "nx.draw_networkx(G,font_family = \"NanumBarunGothic\",font_size = 16,\n",
        "                pos=pos,node_color=list(pr.values()),node_size=nsize,\n",
        "                alpha=0.7,edge_color = '.5',cmap=plt.cm.Blues)\n",
        "\n",
        "plt.savefig('숙식_1-3개월_네트워크.png',bbox_inches='tight')"
      ],
      "execution_count": null,
      "outputs": []
    },
    {
      "cell_type": "code",
      "metadata": {
        "id": "fj1uJvoTs9CB"
      },
      "source": [
        ""
      ],
      "execution_count": null,
      "outputs": []
    },
    {
      "cell_type": "markdown",
      "metadata": {
        "id": "q0s_jWbXs9UJ"
      },
      "source": [
        "###1) 3-6개월"
      ]
    },
    {
      "cell_type": "code",
      "metadata": {
        "id": "xCW14nbZs9UJ"
      },
      "source": [
        "dataset36 = twtt_network(df36) \n"
      ],
      "execution_count": null,
      "outputs": []
    },
    {
      "cell_type": "code",
      "metadata": {
        "id": "giSxfCels9UL",
        "colab": {
          "base_uri": "https://localhost:8080/",
          "height": 35
        },
        "outputId": "4ef9ad07-6ff5-4c24-bccd-fb5acfc00769"
      },
      "source": [
        "pip install apyori"
      ],
      "execution_count": null,
      "outputs": [
        {
          "output_type": "stream",
          "text": [
            "Requirement already satisfied: apyori in /usr/local/lib/python3.6/dist-packages (1.1.2)\n"
          ],
          "name": "stdout"
        }
      ]
    },
    {
      "cell_type": "code",
      "metadata": {
        "id": "vYR5njwXs9UM"
      },
      "source": [
        "import re\n",
        "import networkx as nx\n",
        "import numpy as np\n",
        "import pandas as pd\n",
        "import matplotlib.pyplot as plt"
      ],
      "execution_count": null,
      "outputs": []
    },
    {
      "cell_type": "code",
      "metadata": {
        "id": "MuerGXrvs9UN"
      },
      "source": [
        "from apyori import apriori\n",
        "result =(list(apriori(dataset36,min_support=0.025)))\n",
        "df=pd.DataFrame(result)\n",
        "df['length']=df['items'].apply(lambda x : len(x))\n",
        "df = df[(df['length']==2)&(df['support']>=0.025)].sort_values(by='support',ascending = False) \n",
        "df.head(10)"
      ],
      "execution_count": null,
      "outputs": []
    },
    {
      "cell_type": "code",
      "metadata": {
        "id": "zGUazDYls9UP"
      },
      "source": [
        "G  = nx.Graph()\n",
        "ar = (df['items']); G.add_edges_from(ar)\n"
      ],
      "execution_count": null,
      "outputs": []
    },
    {
      "cell_type": "code",
      "metadata": {
        "id": "BDtn1On3s9UR"
      },
      "source": [
        "pr = nx.pagerank(G)\n",
        "nsize = np.array([v for v in pr.values()])\n",
        "nsize = 2000 * (nsize - min(nsize)) / (max(nsize)-min(nsize))\n"
      ],
      "execution_count": null,
      "outputs": []
    },
    {
      "cell_type": "code",
      "metadata": {
        "id": "GkJ__ofns9US"
      },
      "source": [
        "#pos = nx.circular_layout(G)\n",
        "#pos = nx.planar_layout(G)\n",
        "#pos = nx.bipartite_layout(G)\n",
        "#pos = nx.kamada_kawai_layout(G)\n",
        "#pos = nx.random_layout(G) \n",
        "#pos = nx.rescale_layout(G)\n",
        "#pos = nx.shell_layout(G) \n",
        "pos = nx.spring_layout(G) \n",
        "#pos = nx.spectral_layout(G) \n",
        "#pos = nx.spiral_layout(G) \n"
      ],
      "execution_count": null,
      "outputs": []
    },
    {
      "cell_type": "code",
      "metadata": {
        "id": "eLmpMoGos9UT"
      },
      "source": [
        "plt.figure(figsize=(16,12));plt.axis('off')\n",
        "nx.draw_networkx(G,font_family = \"NanumBarunGothic\",font_size = 16,\n",
        "                pos=pos,node_color=list(pr.values()),node_size=nsize,\n",
        "                alpha=0.7,edge_color = '.5',cmap=plt.cm.Blues)\n",
        "\n",
        "#plt.show()\n",
        "plt.savefig('숙식_3-6개월_네트워크.png',bbox_inches='tight')"
      ],
      "execution_count": null,
      "outputs": []
    },
    {
      "cell_type": "code",
      "metadata": {
        "id": "5EcJHtXqtFVM"
      },
      "source": [
        ""
      ],
      "execution_count": null,
      "outputs": []
    },
    {
      "cell_type": "markdown",
      "metadata": {
        "id": "SB5nvnHvtFaq"
      },
      "source": [
        "###1) 6개월이상"
      ]
    },
    {
      "cell_type": "code",
      "metadata": {
        "id": "GPBghEVctFar"
      },
      "source": [
        "dataset60 = twtt_network(df60) \n"
      ],
      "execution_count": null,
      "outputs": []
    },
    {
      "cell_type": "code",
      "metadata": {
        "id": "wxM9KsDxtFat",
        "colab": {
          "base_uri": "https://localhost:8080/",
          "height": 35
        },
        "outputId": "87d7b319-6310-46d9-b6e0-a5fa6a687fd9"
      },
      "source": [
        "pip install apyori"
      ],
      "execution_count": null,
      "outputs": [
        {
          "output_type": "stream",
          "text": [
            "Requirement already satisfied: apyori in /usr/local/lib/python3.6/dist-packages (1.1.2)\n"
          ],
          "name": "stdout"
        }
      ]
    },
    {
      "cell_type": "code",
      "metadata": {
        "id": "u0yyuEBLtFau"
      },
      "source": [
        "import re\n",
        "import networkx as nx\n",
        "import numpy as np\n",
        "import pandas as pd\n",
        "import matplotlib.pyplot as plt"
      ],
      "execution_count": null,
      "outputs": []
    },
    {
      "cell_type": "code",
      "metadata": {
        "id": "_kPcB7jLtFaw"
      },
      "source": [
        "from apyori import apriori\n",
        "result =(list(apriori(dataset60,min_support=0.025)))\n",
        "df=pd.DataFrame(result)\n",
        "df['length']=df['items'].apply(lambda x : len(x))\n",
        "df = df[(df['length']==2)&(df['support']>=0.025)].sort_values(by='support',ascending = False)  \n",
        "df.head(10)"
      ],
      "execution_count": null,
      "outputs": []
    },
    {
      "cell_type": "code",
      "metadata": {
        "id": "jqXV6Wl5tFay"
      },
      "source": [
        "G  = nx.Graph()\n",
        "ar = (df['items']); G.add_edges_from(ar)\n"
      ],
      "execution_count": null,
      "outputs": []
    },
    {
      "cell_type": "code",
      "metadata": {
        "id": "A-cyPVRytFa0"
      },
      "source": [
        "pr = nx.pagerank(G)\n",
        "nsize = np.array([v for v in pr.values()])\n",
        "nsize = 2000 * (nsize - min(nsize)) / (max(nsize)-min(nsize))\n"
      ],
      "execution_count": null,
      "outputs": []
    },
    {
      "cell_type": "code",
      "metadata": {
        "id": "QT1mBi7OtFa2"
      },
      "source": [
        "#pos = nx.circular_layout(G)\n",
        "#pos = nx.planar_layout(G)\n",
        "#pos = nx.bipartite_layout(G)\n",
        "#pos = nx.kamada_kawai_layout(G)\n",
        "#pos = nx.random_layout(G) \n",
        "#pos = nx.rescale_layout(G)\n",
        "#pos = nx.shell_layout(G) \n",
        "pos = nx.spring_layout(G) \n",
        "#pos = nx.spectral_layout(G) \n",
        "#pos = nx.spiral_layout(G) \n"
      ],
      "execution_count": null,
      "outputs": []
    },
    {
      "cell_type": "code",
      "metadata": {
        "id": "KJn_jfeTtFa3"
      },
      "source": [
        "plt.figure(figsize=(16,12));plt.axis('off')\n",
        "nx.draw_networkx(G,font_family = \"NanumBarunGothic\",font_size = 16,\n",
        "                pos=pos,node_color=list(pr.values()),node_size=nsize,\n",
        "                alpha=0.7,edge_color = '.5',cmap=plt.cm.Blues)\n",
        "\n",
        "plt.savefig('숙식_6개월이상_네트워크.png',bbox_inches='tight')"
      ],
      "execution_count": null,
      "outputs": []
    }
  ]
}